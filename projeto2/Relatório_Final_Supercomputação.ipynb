{
  "nbformat": 4,
  "nbformat_minor": 0,
  "metadata": {
    "colab": {
      "name": "Relatório Final Supercomputação.ipynb",
      "provenance": [],
      "collapsed_sections": []
    },
    "kernelspec": {
      "name": "python3",
      "display_name": "Python 3"
    },
    "language_info": {
      "name": "python"
    }
  },
  "cells": [
    {
      "cell_type": "markdown",
      "source": [
        "### Instalando o Valgrind"
      ],
      "metadata": {
        "id": "V_oLN3stM93b"
      }
    },
    {
      "cell_type": "code",
      "execution_count": 171,
      "metadata": {
        "colab": {
          "base_uri": "https://localhost:8080/"
        },
        "id": "73tSbiCne_6C",
        "outputId": "d61ee334-fd51-410a-9661-544e585dc6d9"
      },
      "outputs": [
        {
          "output_type": "stream",
          "name": "stdout",
          "text": [
            "Reading package lists... Done\n",
            "Building dependency tree       \n",
            "Reading state information... Done\n",
            "valgrind is already the newest version (1:3.13.0-2ubuntu2.3).\n",
            "The following package was automatically installed and is no longer required:\n",
            "  libnvidia-common-460\n",
            "Use 'apt autoremove' to remove it.\n",
            "0 upgraded, 0 newly installed, 0 to remove and 45 not upgraded.\n"
          ]
        }
      ],
      "source": [
        "!apt-get install valgrind"
      ]
    },
    {
      "cell_type": "markdown",
      "source": [
        "### Instalando o C++"
      ],
      "metadata": {
        "id": "vZHLHKG-M23w"
      }
    },
    {
      "cell_type": "code",
      "source": [
        "!git config --global url.\"https://\".insteadOf git://\n",
        "!pip install git+git://github.com/canesche/nvcc4jupyter.git\n",
        "!git clone https://github.com/canesche/nvcc4jupyter\n",
        "%load_ext nvcc_plugin"
      ],
      "metadata": {
        "colab": {
          "base_uri": "https://localhost:8080/"
        },
        "id": "xadi4DTWiyoq",
        "outputId": "3f2bd78b-7f17-4435-d6f9-87cc102874e6"
      },
      "execution_count": 172,
      "outputs": [
        {
          "output_type": "stream",
          "name": "stdout",
          "text": [
            "Looking in indexes: https://pypi.org/simple, https://us-python.pkg.dev/colab-wheels/public/simple/\n",
            "Collecting git+git://github.com/canesche/nvcc4jupyter.git\n",
            "  Cloning git://github.com/canesche/nvcc4jupyter.git to /tmp/pip-req-build-ivedzu05\n",
            "  Running command git clone -q git://github.com/canesche/nvcc4jupyter.git /tmp/pip-req-build-ivedzu05\n",
            "fatal: destination path 'nvcc4jupyter' already exists and is not an empty directory.\n",
            "The nvcc_plugin extension is already loaded. To reload it, use:\n",
            "  %reload_ext nvcc_plugin\n"
          ]
        }
      ]
    },
    {
      "cell_type": "markdown",
      "source": [
        "Criando o arquivo da heurística"
      ],
      "metadata": {
        "id": "bEaQMJwyMxUS"
      }
    },
    {
      "cell_type": "code",
      "source": [
        "%%writefile heuristica.cpp\n",
        "#include <iostream>\n",
        "#include <vector>\n",
        "#include <algorithm>\n",
        "\n",
        "using namespace std;\n",
        "struct dna\n",
        "{\n",
        "    int id;\n",
        "    char dna_value;\n",
        "};\n",
        "\n",
        "struct dna_matrix\n",
        "{\n",
        "    int id;\n",
        "    int value;\n",
        "    int x_last;\n",
        "    int y_last;\n",
        "    int x_current;\n",
        "    int y_current;\n",
        "    char x_value;\n",
        "    char y_value;\n",
        "};\n",
        "\n",
        "int main() {\n",
        "\n",
        "    // Defining n and m. Value of n is the length of the first sequence. Value of m is the length of the second sequence.\n",
        "    int n; int m;\n",
        "\n",
        "    // Reads n and m. \n",
        "    cin >> n >> m;\n",
        "\n",
        "    // Defining the two vectors that receive the sequences.\n",
        "    vector<dna> dnas_first_seq;\n",
        "    vector<dna> dnas_second_seq;\n",
        "\n",
        "    // Reserving n and m length on the vectors.\n",
        "    dnas_first_seq.reserve(n);\n",
        "    dnas_second_seq.reserve(m);\n",
        "\n",
        "    dna dna_next;\n",
        "\n",
        "    // Reads the first sequence and completes the dna_first_seq vector with the sequence.\n",
        "    for(int i = 0; i < n; i++) {\n",
        "        cin >> dna_next.dna_value;\n",
        "        dna_next.id = i;\n",
        "        dnas_first_seq.push_back(dna_next);\n",
        "    }\n",
        "\n",
        "    // Reads the second sequence and completes the dna_second_seq vector with the sequence.\n",
        "    for(int i = 0; i < m; i++) {\n",
        "        cin >> dna_next.dna_value;\n",
        "        dna_next.id = i;\n",
        "        dnas_second_seq.push_back(dna_next);\n",
        "    }\n",
        "\n",
        "    // Creating the matrix that will be used to Smith-Waterman algorithm.\n",
        "    vector<vector<dna_matrix> > matrix;\n",
        "\n",
        "    vector<dna_matrix> line;\n",
        "\n",
        "    dna_matrix line_matrix;\n",
        "\n",
        "    // Creating the first line of zeros of the matrix.\n",
        "    for (int i = 0; i <= n; i++) {\n",
        "        line_matrix.id = i;\n",
        "        line_matrix.value = 0;\n",
        "        line_matrix.x_last = 0;\n",
        "        line_matrix.y_last = 0;\n",
        "        line.push_back(line_matrix);\n",
        "    }\n",
        "    matrix.push_back(line);\n",
        "\n",
        "    // Creating the first column with zeros of the matrix.\n",
        "    for (int i = 1; i <= n; i++) {\n",
        "        vector<dna_matrix> line_loop;\n",
        "        for (int j = 0; j <= m; j++) {\n",
        "            if (j == 0){\n",
        "                line_loop.push_back(line_matrix);\n",
        "            } else {\n",
        "                line_loop.push_back(line_matrix);\n",
        "            }\n",
        "        }\n",
        "        matrix.push_back(line_loop);\n",
        "    }\n",
        "\n",
        "    // Loop over the matrix\n",
        "    for (int i = 1; i <= n; i++) {\n",
        "        for (int j = 1; j <= m; j++) {\n",
        "            int diagonal = 0;\n",
        "\n",
        "            matrix[i][j].x_value = dnas_first_seq[i-1].dna_value;\n",
        "            matrix[i][j].y_value = dnas_second_seq[j-1].dna_value;\n",
        "\n",
        "            // Calculate the diagonal. Seeing if its a mismatch, a gap or a match.\n",
        "            if (dnas_first_seq[i-1].dna_value == dnas_second_seq[j-1].dna_value) {\n",
        "                diagonal = matrix[i-1][j-1].value + 2;\n",
        "            } else {\n",
        "                diagonal = matrix[i-1][j-1].value - 1;\n",
        "            }\n",
        "\n",
        "            // Calculate the delection.\n",
        "            int delection = matrix[i-1][j].value - 1;\n",
        "            // Calculate the insertion.\n",
        "            int insertion = matrix[i][j-1].value - 1;\n",
        "            // Get the maximum between diagonal, delection, insertion and 0.\n",
        "            int max_between_diagonal_delection = max(diagonal,delection);\n",
        "            int max_between_diagonal_delection_insertion = max(max_between_diagonal_delection, insertion);\n",
        "            int max_between_diagonal_delection_insertion_zero = max(max_between_diagonal_delection_insertion, 0);\n",
        "            matrix[i][j].value = max_between_diagonal_delection_insertion_zero;\n",
        "\n",
        "            if (max_between_diagonal_delection_insertion_zero == diagonal) {\n",
        "                matrix[i][j].x_last = i - 1;\n",
        "                matrix[i][j].y_last = j - 1;\n",
        "                matrix[i][j].x_current = i;\n",
        "                matrix[i][j].y_current = j;\n",
        "            } else if (max_between_diagonal_delection_insertion_zero == delection) {\n",
        "                matrix[i][j].x_last = i - 1;\n",
        "                matrix[i][j].y_last = j;\n",
        "                matrix[i][j].x_current = i;\n",
        "                matrix[i][j].y_current = j;\n",
        "            } else if (max_between_diagonal_delection_insertion_zero == insertion) {\n",
        "                matrix[i][j].x_last = i;\n",
        "                matrix[i][j].y_last = j - 1;\n",
        "                matrix[i][j].x_current = i;\n",
        "                matrix[i][j].y_current = j;\n",
        "            } else {\n",
        "                matrix[i][j].x_last = i - 1;\n",
        "                matrix[i][j].y_last = j - 1;\n",
        "                matrix[i][j].x_current = i;\n",
        "                matrix[i][j].y_current = j;\n",
        "            }\n",
        "        }\n",
        "    }\n",
        "\n",
        "    // for(auto& el: matrix) {\n",
        "    //    for(auto& element: el) {\n",
        "    //        cout << element.value;\n",
        "    //    }\n",
        "    //    cout << endl;\n",
        "    // }\n",
        "\n",
        "    // Get the max element of the matrix.\n",
        "    dna_matrix max_element;\n",
        "    for (int i = 0; i <= n; i++) {\n",
        "        for (int j = 0; j <= m; j++) {\n",
        "            if (matrix[i][j].value > max_element.value) {\n",
        "                max_element = matrix[i][j];\n",
        "            }\n",
        "        }\n",
        "    }\n",
        "\n",
        "    int i = max_element.x_current;\n",
        "    int j = max_element.y_current;\n",
        "    int value_max_element = max_element.value;\n",
        "\n",
        "    vector<char> first_seq_answer;\n",
        "    vector<char> second_seq_answer;\n",
        "\n",
        "    // Get the best sequence.\n",
        "    while (matrix[i][j].x_current != 0 || matrix[i][j].y_current != 0) {\n",
        "\n",
        "        first_seq_answer.push_back(matrix[i][j].x_value);\n",
        "        second_seq_answer.push_back(matrix[i][j].y_value);\n",
        "\n",
        "        i = matrix[i][j].x_last;\n",
        "        j = matrix[i][j].y_last;\n",
        "\n",
        "        if (matrix[i][j].x_current == 0 || matrix[i][j].y_current == 0) {\n",
        "            first_seq_answer.push_back(matrix[i][j].x_value);\n",
        "            second_seq_answer.push_back(matrix[i][j].y_value);\n",
        "            break;\n",
        "        }\n",
        "    }\n",
        "\n",
        "    for (auto& el: first_seq_answer) {\n",
        "        cout << el;\n",
        "    }\n",
        "\n",
        "    cout << endl;\n",
        "\n",
        "    for (auto& el: second_seq_answer) {\n",
        "        cout << el;\n",
        "    }\n",
        "\n",
        "    return 0;\n",
        "}\n",
        "\n"
      ],
      "metadata": {
        "colab": {
          "base_uri": "https://localhost:8080/"
        },
        "id": "ZUJh8gjkkNkO",
        "outputId": "878d4add-72fc-4bc9-e55d-33bd5a64c967"
      },
      "execution_count": 173,
      "outputs": [
        {
          "output_type": "stream",
          "name": "stdout",
          "text": [
            "Overwriting heuristica.cpp\n"
          ]
        }
      ]
    },
    {
      "cell_type": "code",
      "source": [
        "!g++ -g heuristica.cpp -o heuristic"
      ],
      "metadata": {
        "id": "pEGeJ7fPkaap"
      },
      "execution_count": 174,
      "outputs": []
    },
    {
      "cell_type": "markdown",
      "source": [
        "### Criando o primeiro arquivo de entrada contendo duas sequências de 1000 elementos"
      ],
      "metadata": {
        "id": "_mX-2gl2NGJd"
      }
    },
    {
      "cell_type": "code",
      "source": [
        "%%writefile in4.txt\n",
        "1000\n",
        "1000\n",
        "AT-TT-GGGGC--CCGC-GATCCC-AC-G-CAG-GC-CGCCT-C-AGTT-GTTT-TCCGAAATGT--T-G-A-TTGGCA-ATCTGTT--A-C-CGGGCATCT-GGGC-C-ATCTACT-G-GTCTTA-ATTAGGTTGTTA-AT-CA-GGCCAGAAGGAAA--TGTATA-GTTTCAG-CA--GAT--CTTCAACACAGTA--TA-AGCAAG-CGGC-TC-GCTGCTGAGTGATTGT-CGAAC--ATGAGTT--GGTGC-ATTT-ATGTT--CTAATATCT-GCAGCGAAGACTAGGTAC-GTGG-C-ACCGTCCAGAGGAAAT-GGCTTAGCTCTAG-GCCTCTCGTTTT-GA-ATGG-G-C-GGTGC-C-CGG-A-CCTAC-C-GT--GGCGC-CCCT-TAAGGACA--CTC-GCCCACGG--AGAGA-TAT-GACA-G-TTGGACCACAT-C-CA-GTT-C-AGG-CCGTGAA---CAGTGATC-TACTAT-TT-C-CGT--GGTG--GTAGTAGAG-T--CTTCC-AAGA-TAGAACTACAC-GTAT-TAG-CGG-T--TAAA-CTTAGTAGCTGA-CATT-GGA-AAT-GCTTCCGCGCCAG-CTACACGCA-TGAAGT-CTTAGAG-TG-GGTGTTCACGGATC-GAAGCGTCGG-GGACGTACGGTTTGGA--GT-CG--CT--TG-A-AAACCTCT-T-CT-GAT-AGCTAGGTG-ACACGTCTTTGGTG-TCAATAAA-A-AGTTGGGC-AGGT-TATTA-CTAC-TAAGAC--CGA-CT-GCTGG-TT-GGTGCCT-AA--CGGCTGATA-CCTGTT-TA-GAGCCT-TTTGCAT-C-TATAC-ACG-TACA-AA--GTTTAA---T-GAGTC---CGT-GC-GACGCTTT--G-TCAC-CGCG--AGTGTAG-G-GCGC-AAAT-AG-GTG-CGC-T-TTAGC-CCACGTG--TGT-GAC--TA-A-TAAA-C-GTCACC-TGAA-TG-GTG\n",
        "G-AG-TTT-GTGTGC-AGAAATGCTCGTCATCT-TTGA-CA-CTAGTTATGC-AGGTTC-C-CCACCGCG-GA-ACTATCGTGCTGCATAGCACCAA-GGGAGTTGACTGG-GG--CTCATAC-G--ACTG--GCCAGCTT-AGCGGTACCGATCGGAT---TGCGCTGTA-ACCCATG-CCA-GACATCCTGCT-T-CGTCCCAGCGCGTCTAGTGTTTAC-GA--ACATG-G--GAT-G-CATGGTA-CGTAGTC-C-CCACAATT--T-TCTCTCCGGCGAGC-TAA--GGAA--T-T-CG-ACGAGC-T-TGAAA--C-TGGCTA-----T--CAT-CCGC--ACCTGGCACT---GGAGTGACTGAACG-GAGTGCCGTGAAGC---CGGAGG-AAAAT-AGCT-TGCCAGCCACC-CG--C-ACGGTCG-GTT-CAC-ACG--GCAAAG--TA-GGAACGGGTCCG-CCA-AACCGGAGATT-TGT-TA-T-T-TGCTCCACG-G--C-GTGA-GGGGCAA-T-GTACTCTT--GAGCATTGCT-CTTACTTACGTTG-TA-G-ACGTAGTGAGTGCGAC-GGAGTC--GACCCGCCTTGCCG-AAAACGTGTATTCGACT-C-TTGG-GC-GTTATATCT--AT-TCGTTG-TCCATGTAA----TA-GATTT-TA-TAGGTATC-CG-TAAA-TCACGGC-ATTAT-GTCTCCAC-ACTATTACT-AA-CGGTTGATA-G-CTTATG---AATAAGGG-TTTCTATT-AGATCCGTCGGGA-GAGG-A---GTATATGA-G--GGAC-GG-AAC--AGGGCATGCGCT--AT-TTACTGCG--TCCCA-GAT-A-CGGG-GGTTAACT-TTTCCG-ACC-ACGCTGGCTG-A-CAG-ACG--GTC---A-GCA-TTAG-G-GCACA-CTCTGGATGGCA-AGTTTC-ATTTG-AGA-TTAT-TGATC-A-ATGGA-C--GAC-TG-GTTCAG"
      ],
      "metadata": {
        "colab": {
          "base_uri": "https://localhost:8080/"
        },
        "id": "ARxxWM2XkajA",
        "outputId": "e61336fe-5df8-40bd-ada3-78df69c784da"
      },
      "execution_count": 175,
      "outputs": [
        {
          "output_type": "stream",
          "name": "stdout",
          "text": [
            "Overwriting in4.txt\n"
          ]
        }
      ]
    },
    {
      "cell_type": "markdown",
      "source": [
        "### Executando o valgrind e o callgrind annotate para a heurística"
      ],
      "metadata": {
        "id": "KSg9ctyENRfi"
      }
    },
    {
      "cell_type": "code",
      "source": [
        "!valgrind --tool=callgrind ./heuristic < in4.txt"
      ],
      "metadata": {
        "colab": {
          "base_uri": "https://localhost:8080/"
        },
        "id": "gYGkb8Jfka6S",
        "outputId": "7cdd1dd4-04f4-4921-c1f8-4849ae75f19a"
      },
      "execution_count": 176,
      "outputs": [
        {
          "output_type": "stream",
          "name": "stdout",
          "text": [
            "==3143== Callgrind, a call-graph generating cache profiler\n",
            "==3143== Copyright (C) 2002-2017, and GNU GPL'd, by Josef Weidendorfer et al.\n",
            "==3143== Using Valgrind-3.13.0 and LibVEX; rerun with -h for copyright info\n",
            "==3143== Command: ./heuristic\n",
            "==3143== \n",
            "==3143== For interactive control, run 'callgrind_control -h'.\n",
            "==3143== brk segment overflow in thread #1: can't grow to 0x4a2c000\n",
            "==3143== (see section Limitations in user manual)\n",
            "==3143== NOTE: further instances of this message will not be shown\n",
            "==3143== \n",
            "==3143== Process terminating with default action of signal 2 (SIGINT)\n",
            "==3143==    at 0x1098EF: main (heuristica.cpp:160)\n",
            "==3143== \n",
            "==3143== Events    : Ir\n",
            "==3143== Collected : 2699946367\n",
            "==3143== \n",
            "==3143== I   refs:      2,699,946,367\n",
            "^C\n"
          ]
        }
      ]
    },
    {
      "cell_type": "code",
      "source": [
        "!callgrind_annotate callgrind.out.616 heuristica.cpp "
      ],
      "metadata": {
        "colab": {
          "base_uri": "https://localhost:8080/"
        },
        "id": "t7vXApy9ka-j",
        "outputId": "2c894e84-2857-4e6f-b793-1ae6d2e9211d"
      },
      "execution_count": 177,
      "outputs": [
        {
          "output_type": "stream",
          "name": "stdout",
          "text": [
            "File callgrind.out.616 not opened\n"
          ]
        }
      ]
    },
    {
      "cell_type": "markdown",
      "source": [
        "De acordo com o resultado do profilling do projeto 1, da heuristíca, é possível verificar que existe uma grande quantidade de acessos a memória, na casa dos bilhões. Além disso é possível observar que o ponto que teve mais lentidão foi a montagem da resposta fazendo o *trace* de toda a cadeia do sequenciamento genético. Mas mesmo assim podemos observar que o código é eficiente mesmo para entradas grandes com os seguintes tempos:"
      ],
      "metadata": {
        "id": "wA77vQIUwwTR"
      }
    },
    {
      "cell_type": "code",
      "source": [
        "from tabulate import tabulate"
      ],
      "metadata": {
        "id": "g8GGLpnkxfxe"
      },
      "execution_count": 178,
      "outputs": []
    },
    {
      "cell_type": "code",
      "source": [
        "table = [['Tamanho das sequências', 'Tempo'], ['200x200', '0.0043'], ['400x200', '0.0117'], ['400x400', '0.0159'], ['1000x1000', '0.0284']]"
      ],
      "metadata": {
        "id": "-rLVR_lGxiXl"
      },
      "execution_count": 179,
      "outputs": []
    },
    {
      "cell_type": "code",
      "source": [
        "print(tabulate(table, headers='firstrow', tablefmt='grid'))"
      ],
      "metadata": {
        "colab": {
          "base_uri": "https://localhost:8080/"
        },
        "id": "JEiG3L4Gyml5",
        "outputId": "24dd7262-52ed-440d-9447-168bb22567a7"
      },
      "execution_count": 180,
      "outputs": [
        {
          "output_type": "stream",
          "name": "stdout",
          "text": [
            "+--------------------------+---------+\n",
            "| Tamanho das sequências   |   Tempo |\n",
            "+==========================+=========+\n",
            "| 200x200                  |  0.0043 |\n",
            "+--------------------------+---------+\n",
            "| 400x200                  |  0.0117 |\n",
            "+--------------------------+---------+\n",
            "| 400x400                  |  0.0159 |\n",
            "+--------------------------+---------+\n",
            "| 1000x1000                |  0.0284 |\n",
            "+--------------------------+---------+\n"
          ]
        }
      ]
    },
    {
      "cell_type": "markdown",
      "source": [
        "### Criando o arquivo da busca local"
      ],
      "metadata": {
        "id": "CGBR9ycxNcuf"
      }
    },
    {
      "cell_type": "code",
      "source": [
        "%%writefile busca_local.cpp\n",
        "#include <iostream>\n",
        "#include <vector>\n",
        "#include <algorithm>\n",
        "#include <random>\n",
        "#include <cstdlib>\n",
        "\n",
        "using namespace std;\n",
        "struct dna\n",
        "{\n",
        "    int id;\n",
        "    char dna_value;\n",
        "};\n",
        "\n",
        "int main() {\n",
        "\n",
        "    int score_max_global = 0;\n",
        "    vector<char> subsequence_a_max_score_global;\n",
        "    vector<char> subsequence_b_max_score_global;\n",
        "\n",
        "    // Defining n and m. Value of n is the length of the first sequence. Value of m is the length of the second sequence.\n",
        "    int n; int m;\n",
        "\n",
        "    // Reads n and m. \n",
        "    cin >> n >> m;\n",
        "\n",
        "    // Defining the two vectors that receive the sequences.\n",
        "    vector<dna> dnas_first_seq;\n",
        "    vector<dna> dnas_second_seq;\n",
        "\n",
        "    // Reserving n and m length on the vectors.\n",
        "    dnas_first_seq.reserve(n);\n",
        "    dnas_second_seq.reserve(m);\n",
        "\n",
        "    dna dna_next;\n",
        "\n",
        "    // Reads the first sequence and completes the dna_first_seq vector with the sequence.\n",
        "    for(int i = 0; i < n; i++) {\n",
        "        cin >> dna_next.dna_value;\n",
        "        dna_next.id = i;\n",
        "        dnas_first_seq.push_back(dna_next);\n",
        "    }\n",
        "\n",
        "    // Reads the second sequence and completes the dna_second_seq vector with the sequence.\n",
        "    for(int i = 0; i < m; i++) {\n",
        "        cin >> dna_next.dna_value;\n",
        "        dna_next.id = i;\n",
        "        dnas_second_seq.push_back(dna_next);\n",
        "    }\n",
        "    \n",
        "    // Generate one thousand values for k in random form.\n",
        "    for (int z = 0; z < 10000; z++) {\n",
        "        random_device random;\n",
        "        mt19937 generator(random());\n",
        "        uniform_int_distribution<int> distribution(1,m);\n",
        "        int k = distribution(generator);\n",
        "        vector<char> subsequence_b;\n",
        "        // Creates subsequence b with the first k elements of sequence b.\n",
        "        for (int i = 0; i < k; i++) {\n",
        "            subsequence_b.push_back(dnas_second_seq[i].dna_value);\n",
        "        }\n",
        "\n",
        "        // Creates matrix that will receive the subsequences of a.\n",
        "        vector<vector<char> > subsequences_a;\n",
        "\n",
        "        int counter = 0;\n",
        "        vector<dna> dnas_first_seq_flexible = dnas_first_seq;\n",
        "\n",
        "        // Create empty vectors inside the matrix.\n",
        "        while(dnas_first_seq_flexible.size() - k + 1 > 0) {\n",
        "            vector<char> subsequence_a;\n",
        "            subsequences_a.push_back(subsequence_a);\n",
        "            dnas_first_seq_flexible.erase(dnas_first_seq_flexible.begin());\n",
        "        }\n",
        "        \n",
        "        dnas_first_seq_flexible = dnas_first_seq;\n",
        "\n",
        "        // Create the subsequences of a.\n",
        "        while(dnas_first_seq_flexible.size() - k + 1 > 0) {\n",
        "            for (int i = 0; i < k; i++) {\n",
        "                subsequences_a[counter].push_back(dnas_first_seq_flexible[i].dna_value);\n",
        "            }\n",
        "            counter++;\n",
        "            dnas_first_seq_flexible.erase(dnas_first_seq_flexible.begin());\n",
        "        }\n",
        "\n",
        "        // Create vector of scores.\n",
        "        vector<int> scores;\n",
        "\n",
        "        int sum_score_pair = 0;\n",
        "        // Generate scores.\n",
        "        for (int i = 0; i < subsequences_a.size(); i++) {\n",
        "            for (int j = 0; j < subsequences_a[0].size(); j++) {\n",
        "                if (subsequences_a[i][j] == subsequence_b[j]) {\n",
        "                    sum_score_pair += 2;\n",
        "                } else {\n",
        "                    sum_score_pair -= 1;\n",
        "                }\n",
        "            }\n",
        "            scores.push_back(sum_score_pair);\n",
        "            sum_score_pair = 0;\n",
        "        }\n",
        "\n",
        "        // Gets the index of the max score and the value.\n",
        "        int score_max_index = max_element(scores.begin(),scores.end()) - scores.begin();\n",
        "        int score_max = *max_element(scores.begin(), scores.end());\n",
        "\n",
        "        // Compares max score global with actual max score. If max score global equals\n",
        "        // to actual max score and if actual max score has subsequence bigger than \n",
        "        // max score global change max score global to actual max score and change subsequences.\n",
        "        if (score_max == score_max_global) {\n",
        "            if(subsequences_a[score_max_index].size() > subsequence_a_max_score_global.size()) {\n",
        "                subsequence_a_max_score_global = subsequences_a[score_max_index];\n",
        "                subsequence_b_max_score_global = subsequence_b;\n",
        "            }\n",
        "        }\n",
        "\n",
        "        // If actual max score bigger than max score global change max score global and its subsequences.\n",
        "        if (score_max > score_max_global) {\n",
        "            score_max_global = score_max;\n",
        "            subsequence_a_max_score_global = subsequences_a[score_max_index];\n",
        "            subsequence_b_max_score_global = subsequence_b;\n",
        "        }\n",
        "    }\n",
        "\n",
        "    cout << score_max_global << endl;\n",
        "\n",
        "    for (auto& el: subsequence_a_max_score_global) {\n",
        "        cout << el;\n",
        "    }\n",
        "\n",
        "    cout << endl;\n",
        "\n",
        "    for (auto& el: subsequence_b_max_score_global) {\n",
        "        cout << el;\n",
        "    }\n",
        "}"
      ],
      "metadata": {
        "colab": {
          "base_uri": "https://localhost:8080/"
        },
        "id": "_DSyXeUUy9St",
        "outputId": "8de47622-c886-41c3-b02a-611672e0bc4a"
      },
      "execution_count": 181,
      "outputs": [
        {
          "output_type": "stream",
          "name": "stdout",
          "text": [
            "Overwriting busca_local.cpp\n"
          ]
        }
      ]
    },
    {
      "cell_type": "code",
      "source": [
        "!g++ -g busca_local.cpp -o busca_local"
      ],
      "metadata": {
        "id": "jCtAYmqdzLXc"
      },
      "execution_count": 182,
      "outputs": []
    },
    {
      "cell_type": "markdown",
      "source": [
        "### Executando o valgrind e o callgrind annotate para busca local"
      ],
      "metadata": {
        "id": "wyRop6SgNjAE"
      }
    },
    {
      "cell_type": "code",
      "source": [
        "!valgrind --tool=callgrind ./busca_local < in4.txt"
      ],
      "metadata": {
        "colab": {
          "base_uri": "https://localhost:8080/"
        },
        "id": "rK6ER01ZzLvq",
        "outputId": "65640bea-47e8-4f94-e53e-1fb0a209dcd7"
      },
      "execution_count": 183,
      "outputs": [
        {
          "output_type": "stream",
          "name": "stdout",
          "text": [
            "==3167== Callgrind, a call-graph generating cache profiler\n",
            "==3167== Copyright (C) 2002-2017, and GNU GPL'd, by Josef Weidendorfer et al.\n",
            "==3167== Using Valgrind-3.13.0 and LibVEX; rerun with -h for copyright info\n",
            "==3167== Command: ./busca_local\n",
            "==3167== \n",
            "==3167== For interactive control, run 'callgrind_control -h'.\n",
            "==3167== brk segment overflow in thread #1: can't grow to 0x4a2c000\n",
            "==3167== (see section Limitations in user manual)\n",
            "==3167== NOTE: further instances of this message will not be shown\n",
            "==3167== \n",
            "==3167== Process terminating with default action of signal 2 (SIGINT)\n",
            "==3167==    at 0x55CD9DF: __memcpy_avx_unaligned_erms (memmove-vec-unaligned-erms.S:257)\n",
            "==3167==    by 0x10F150: dna* std::__copy_move<true, true, std::random_access_iterator_tag>::__copy_m<dna>(dna const*, dna const*, dna*) (stl_algobase.h:368)\n",
            "==3167==    by 0x10ECE3: dna* std::__copy_move_a<true, dna*, dna*>(dna*, dna*, dna*) (stl_algobase.h:386)\n",
            "==3167==    by 0x10E628: __gnu_cxx::__normal_iterator<dna*, std::vector<dna, std::allocator<dna> > > std::__copy_move_a2<true, __gnu_cxx::__normal_iterator<dna*, std::vector<dna, std::allocator<dna> > >, __gnu_cxx::__normal_iterator<dna*, std::vector<dna, std::allocator<dna> > > >(__gnu_cxx::__normal_iterator<dna*, std::vector<dna, std::allocator<dna> > >, __gnu_cxx::__normal_iterator<dna*, std::vector<dna, std::allocator<dna> > >, __gnu_cxx::__normal_iterator<dna*, std::vector<dna, std::allocator<dna> > >) (stl_algobase.h:422)\n",
            "==3167==    by 0x10D840: __gnu_cxx::__normal_iterator<dna*, std::vector<dna, std::allocator<dna> > > std::move<__gnu_cxx::__normal_iterator<dna*, std::vector<dna, std::allocator<dna> > >, __gnu_cxx::__normal_iterator<dna*, std::vector<dna, std::allocator<dna> > > >(__gnu_cxx::__normal_iterator<dna*, std::vector<dna, std::allocator<dna> > >, __gnu_cxx::__normal_iterator<dna*, std::vector<dna, std::allocator<dna> > >, __gnu_cxx::__normal_iterator<dna*, std::vector<dna, std::allocator<dna> > >) (stl_algobase.h:488)\n",
            "==3167==    by 0x10C20E: std::vector<dna, std::allocator<dna> >::_M_erase(__gnu_cxx::__normal_iterator<dna*, std::vector<dna, std::allocator<dna> > >) (vector.tcc:157)\n",
            "==3167==    by 0x10A490: std::vector<dna, std::allocator<dna> >::erase(__gnu_cxx::__normal_iterator<dna const*, std::vector<dna, std::allocator<dna> > >) (stl_vector.h:1180)\n",
            "==3167==    by 0x1095F6: main (busca_local.cpp:72)\n",
            "==3167== \n",
            "==3167== Events    : Ir\n",
            "==3167== Collected : 659484164\n",
            "==3167== \n",
            "==3167== I   refs:      659,484,164\n",
            "^C\n"
          ]
        }
      ]
    },
    {
      "cell_type": "code",
      "source": [
        "!callgrind_annotate callgrind.out.1068 busca_local.cpp "
      ],
      "metadata": {
        "colab": {
          "base_uri": "https://localhost:8080/"
        },
        "id": "Z0kJbYlAzLxv",
        "outputId": "e5c8d0d0-3f23-4af3-db52-b111e34c071a"
      },
      "execution_count": 184,
      "outputs": [
        {
          "output_type": "stream",
          "name": "stdout",
          "text": [
            "File callgrind.out.1068 not opened\n"
          ]
        }
      ]
    },
    {
      "cell_type": "markdown",
      "source": [
        "O profilling do código de busca local aponta que a montagem das subsequências de a e o cálculo da pontuação são os pontos que mais apresentaram lentidão."
      ],
      "metadata": {
        "id": "o3nHLZez2uR-"
      }
    },
    {
      "cell_type": "code",
      "source": [
        "table = [['Tamanho das sequências', 'Tempo'], ['200x200', '0.6649'], ['400x200', '1.5086'], ['400x400', '1.3414'], ['1000x1000', '5.8454']]"
      ],
      "metadata": {
        "id": "w7s5BzTi3MVn"
      },
      "execution_count": 185,
      "outputs": []
    },
    {
      "cell_type": "code",
      "source": [
        "print(tabulate(table, headers='firstrow', tablefmt='grid'))"
      ],
      "metadata": {
        "colab": {
          "base_uri": "https://localhost:8080/"
        },
        "id": "qaDG7DtO3QZe",
        "outputId": "da581651-3b50-4770-d9e8-d9b9443a2c66"
      },
      "execution_count": 186,
      "outputs": [
        {
          "output_type": "stream",
          "name": "stdout",
          "text": [
            "+--------------------------+---------+\n",
            "| Tamanho das sequências   |   Tempo |\n",
            "+==========================+=========+\n",
            "| 200x200                  |  0.6649 |\n",
            "+--------------------------+---------+\n",
            "| 400x200                  |  1.5086 |\n",
            "+--------------------------+---------+\n",
            "| 400x400                  |  1.3414 |\n",
            "+--------------------------+---------+\n",
            "| 1000x1000                |  5.8454 |\n",
            "+--------------------------+---------+\n"
          ]
        }
      ]
    },
    {
      "cell_type": "markdown",
      "source": [
        "### Criando o arquivo da busca exaustiva"
      ],
      "metadata": {
        "id": "rTk0c-ynOBZr"
      }
    },
    {
      "cell_type": "code",
      "source": [
        "%%writefile busca_exaustiva.cpp\n",
        "#include <iostream>\n",
        "#include <vector>\n",
        "#include <algorithm>\n",
        "\n",
        "using namespace std;\n",
        "\n",
        "void create_subsequences(vector<char>& dnas, vector<vector<char> >& subsequences, vector<char>& subsequence, int index, int n){\n",
        "    if (index == n){\n",
        "        // Compares if subsequence string is in dnas string. If its in add it to the matrix.\n",
        "        string subsequence_string(subsequence.begin(), subsequence.end());\n",
        "        string dnas_string(dnas.begin(), dnas.end());\n",
        "        if (dnas_string.find(subsequence_string) != string::npos) {\n",
        "            subsequences.push_back(subsequence);\n",
        "        }\n",
        "    } else {\n",
        "        subsequence.push_back(dnas[index]);\n",
        "        create_subsequences(dnas, subsequences, subsequence, index + 1, n);\n",
        "        subsequence.pop_back();\n",
        "        create_subsequences(dnas, subsequences, subsequence, index + 1, n);\n",
        "\n",
        "    }\n",
        "}\n",
        "\n",
        "\n",
        "\n",
        "int main() {\n",
        "\n",
        "    // Defining n and m. Value of n is the length of the first sequence. Value of m is the length of the second sequence.\n",
        "    int n; int m;\n",
        "\n",
        "    // Reads n and m. \n",
        "    cin >> n >> m;\n",
        "\n",
        "    // Defining the two vectors that receive the sequences.\n",
        "    vector<char> dnas_first_seq;\n",
        "    vector<char> dnas_second_seq;\n",
        "\n",
        "    // Reserving n and m length on the vectors.\n",
        "    dnas_first_seq.reserve(n);\n",
        "    dnas_second_seq.reserve(m);\n",
        "\n",
        "    char dna_next;\n",
        "\n",
        "    // Reads the first sequence and completes the dna_first_seq vector with the sequence.\n",
        "    for(int i = 0; i < n; i++) {\n",
        "        cin >> dna_next;\n",
        "        dnas_first_seq.push_back(dna_next);\n",
        "    }\n",
        "\n",
        "    // Reads the second sequence and completes the dna_second_seq vector with the sequence.\n",
        "    for(int i = 0; i < m; i++) {\n",
        "        cin >> dna_next;\n",
        "        dnas_second_seq.push_back(dna_next);\n",
        "    }\n",
        "    \n",
        "    // Creating matrixes that will contain the subsequences of a and b.\n",
        "    vector<vector<char> > subsequences_a;\n",
        "    vector<vector<char> > subsequences_b;\n",
        "\n",
        "    vector<char> subsequence_a;\n",
        "    vector<char> subsequence_b;\n",
        "\n",
        "    // Creating subsequences recursively.\n",
        "    create_subsequences(dnas_first_seq, subsequences_a, subsequence_a, 0, n);\n",
        "    create_subsequences(dnas_second_seq, subsequences_b, subsequence_b, 0, m);\n",
        "\n",
        "    // Erase duplicates.\n",
        "    subsequences_a.erase(unique(subsequences_a.begin(), subsequences_a.end()), subsequences_a.end());\n",
        "    subsequences_b.erase(unique(subsequences_b.begin(), subsequences_b.end()), subsequences_b.end());\n",
        "\n",
        "    // Create matrix that will contain the scores.\n",
        "    vector<vector<int> > scores;\n",
        "\n",
        "    vector<int> scores_next;\n",
        "\n",
        "    for (int i = 0; i < subsequences_a.size(); i++) {\n",
        "        scores.push_back(scores_next);\n",
        "    }\n",
        "\n",
        "    int sum_score_pair = 0;\n",
        "\n",
        "    // Calculate scores. If subsequence of a bigger than subsequence of b calculate\n",
        "    // for all elements of b and the first elements of a that has the same size of \n",
        "    // b subsequence. Else the inverse.\n",
        "    for (int i = 0; i < subsequences_a.size(); i++) {\n",
        "        for (int j = 0; j < subsequences_b.size(); j++) {\n",
        "            if (subsequences_a[i].size() > subsequences_b[j].size()) {\n",
        "                for (int k = 0; k < subsequences_b[j].size(); k++) {\n",
        "                    if (subsequences_a[i][k] == subsequences_b[j][k]) {\n",
        "                        sum_score_pair+=2;\n",
        "                    } else {\n",
        "                        sum_score_pair-=1;\n",
        "                    }\n",
        "                }\n",
        "            } else {\n",
        "                for (int k = 0; k < subsequences_a[i].size(); k++) {\n",
        "                    if (subsequences_a[i][k] == subsequences_b[j][k]) {\n",
        "                        sum_score_pair+=2;\n",
        "                    } else {\n",
        "                        sum_score_pair-=1;\n",
        "                    }\n",
        "                }\n",
        "            }\n",
        "            scores[i].push_back(sum_score_pair);\n",
        "            sum_score_pair = 0;\n",
        "        }\n",
        "    }\n",
        "\n",
        "    int max_score = 0;\n",
        "\n",
        "    int max_x = 0;\n",
        "    int max_y = 0;\n",
        "\n",
        "\n",
        "    // Get the max score and the subsequences correlated to the max score.\n",
        "    for (int i = 0; i < scores.size(); i++) {\n",
        "        for (int j = 0; j < scores[0].size(); j++) {\n",
        "            if (scores[i][j] > max_score) {\n",
        "                max_x = i;\n",
        "                max_y = j;\n",
        "                max_score = scores[i][j];\n",
        "            }\n",
        "        }\n",
        "    }\n",
        "\n",
        "    cout << max_score;\n",
        "    cout << endl;\n",
        "\n",
        "    for(auto& subsequence_a: subsequences_a[max_x]) {\n",
        "        cout << subsequence_a;\n",
        "    }\n",
        "\n",
        "    cout << endl;\n",
        "\n",
        "    for(auto& subsequence_b: subsequences_b[max_y]) {\n",
        "        cout << subsequence_b;\n",
        "    }\n",
        "\n",
        "\n",
        "}"
      ],
      "metadata": {
        "colab": {
          "base_uri": "https://localhost:8080/"
        },
        "id": "qLKprKPq4Z0w",
        "outputId": "d266da6f-76b5-4c1f-a1b4-3307c22c929b"
      },
      "execution_count": 187,
      "outputs": [
        {
          "output_type": "stream",
          "name": "stdout",
          "text": [
            "Overwriting busca_exaustiva.cpp\n"
          ]
        }
      ]
    },
    {
      "cell_type": "code",
      "source": [
        "!g++ -g busca_exaustiva.cpp -o busca_exaustiva"
      ],
      "metadata": {
        "id": "NCMYH_1S4Z7Q"
      },
      "execution_count": 188,
      "outputs": []
    },
    {
      "cell_type": "markdown",
      "source": [
        "### Criando o primeiro arquivo de entrada para a busca exaustiva"
      ],
      "metadata": {
        "id": "oiVOGllAOHPG"
      }
    },
    {
      "cell_type": "code",
      "source": [
        "%%writefile in4_busca_exaustiva.txt\n",
        "30\n",
        "30\n",
        "TTACCGGCTACCCAAAC-CTAG-GGT-GAA\n",
        "-G--TCA-AC-CT-TGTAA-TCCCCGGCTA"
      ],
      "metadata": {
        "colab": {
          "base_uri": "https://localhost:8080/"
        },
        "id": "qi-t5sHQ4Z_K",
        "outputId": "10a101c4-f2c4-4677-87ec-76053d63072b"
      },
      "execution_count": 189,
      "outputs": [
        {
          "output_type": "stream",
          "name": "stdout",
          "text": [
            "Overwriting in4_busca_exaustiva.txt\n"
          ]
        }
      ]
    },
    {
      "cell_type": "markdown",
      "source": [
        "### Executando o Valgrind e o callgrind annotate para a busca exaustiva"
      ],
      "metadata": {
        "id": "IJDt6YIyONdR"
      }
    },
    {
      "cell_type": "code",
      "source": [
        "!valgrind --tool=callgrind ./busca_exaustiva < in4_busca_exaustiva.txt"
      ],
      "metadata": {
        "colab": {
          "base_uri": "https://localhost:8080/"
        },
        "id": "1rdpyoPb4aBP",
        "outputId": "0a01fa0e-3bb4-4f96-a619-ef74f1791f64"
      },
      "execution_count": 190,
      "outputs": [
        {
          "output_type": "stream",
          "name": "stdout",
          "text": [
            "==3177== Callgrind, a call-graph generating cache profiler\n",
            "==3177== Copyright (C) 2002-2017, and GNU GPL'd, by Josef Weidendorfer et al.\n",
            "==3177== Using Valgrind-3.13.0 and LibVEX; rerun with -h for copyright info\n",
            "==3177== Command: ./busca_exaustiva\n",
            "==3177== \n",
            "==3177== For interactive control, run 'callgrind_control -h'.\n",
            "==3177== brk segment overflow in thread #1: can't grow to 0x4a2c000\n",
            "==3177== (see section Limitations in user manual)\n",
            "==3177== NOTE: further instances of this message will not be shown\n",
            "==3177== \n",
            "==3177== Process terminating with default action of signal 2 (SIGINT)\n",
            "==3177==    at 0x10DC5B: void std::__cxx11::basic_string<char, std::char_traits<char>, std::allocator<char> >::_S_copy_chars<__gnu_cxx::__normal_iterator<char*, std::vector<char, std::allocator<char> > > >(char*, __gnu_cxx::__normal_iterator<char*, std::vector<char, std::allocator<char> > >, __gnu_cxx::__normal_iterator<char*, std::vector<char, std::allocator<char> > >) (basic_string.h:368)\n",
            "==3177==    by 0x10D22C: void std::__cxx11::basic_string<char, std::char_traits<char>, std::allocator<char> >::_M_construct<__gnu_cxx::__normal_iterator<char*, std::vector<char, std::allocator<char> > > >(__gnu_cxx::__normal_iterator<char*, std::vector<char, std::allocator<char> > >, __gnu_cxx::__normal_iterator<char*, std::vector<char, std::allocator<char> > >, std::forward_iterator_tag) (basic_string.tcc:225)\n",
            "==3177==    by 0x10C137: void std::__cxx11::basic_string<char, std::char_traits<char>, std::allocator<char> >::_M_construct_aux<__gnu_cxx::__normal_iterator<char*, std::vector<char, std::allocator<char> > > >(__gnu_cxx::__normal_iterator<char*, std::vector<char, std::allocator<char> > >, __gnu_cxx::__normal_iterator<char*, std::vector<char, std::allocator<char> > >, std::__false_type) (basic_string.h:236)\n",
            "==3177==    by 0x10ACBB: void std::__cxx11::basic_string<char, std::char_traits<char>, std::allocator<char> >::_M_construct<__gnu_cxx::__normal_iterator<char*, std::vector<char, std::allocator<char> > > >(__gnu_cxx::__normal_iterator<char*, std::vector<char, std::allocator<char> > >, __gnu_cxx::__normal_iterator<char*, std::vector<char, std::allocator<char> > >) (basic_string.h:255)\n",
            "==3177==    by 0x10A3BC: std::__cxx11::basic_string<char, std::char_traits<char>, std::allocator<char> >::basic_string<__gnu_cxx::__normal_iterator<char*, std::vector<char, std::allocator<char> > >, void>(__gnu_cxx::__normal_iterator<char*, std::vector<char, std::allocator<char> > >, __gnu_cxx::__normal_iterator<char*, std::vector<char, std::allocator<char> > >, std::allocator<char> const&) (basic_string.h:607)\n",
            "==3177==    by 0x1096B4: create_subsequences(std::vector<char, std::allocator<char> >&, std::vector<std::vector<char, std::allocator<char> >, std::allocator<std::vector<char, std::allocator<char> > > >&, std::vector<char, std::allocator<char> >&, int, int) (busca_exaustiva.cpp:11)\n",
            "==3177==    by 0x10976C: create_subsequences(std::vector<char, std::allocator<char> >&, std::vector<std::vector<char, std::allocator<char> >, std::allocator<std::vector<char, std::allocator<char> > > >&, std::vector<char, std::allocator<char> >&, int, int) (busca_exaustiva.cpp:17)\n",
            "==3177==    by 0x10976C: create_subsequences(std::vector<char, std::allocator<char> >&, std::vector<std::vector<char, std::allocator<char> >, std::allocator<std::vector<char, std::allocator<char> > > >&, std::vector<char, std::allocator<char> >&, int, int) (busca_exaustiva.cpp:17)\n",
            "==3177==    by 0x10976C: create_subsequences(std::vector<char, std::allocator<char> >&, std::vector<std::vector<char, std::allocator<char> >, std::allocator<std::vector<char, std::allocator<char> > > >&, std::vector<char, std::allocator<char> >&, int, int) (busca_exaustiva.cpp:17)\n",
            "==3177==    by 0x1097A4: create_subsequences(std::vector<char, std::allocator<char> >&, std::vector<std::vector<char, std::allocator<char> >, std::allocator<std::vector<char, std::allocator<char> > > >&, std::vector<char, std::allocator<char> >&, int, int) (busca_exaustiva.cpp:19)\n",
            "==3177==    by 0x1097A4: create_subsequences(std::vector<char, std::allocator<char> >&, std::vector<std::vector<char, std::allocator<char> >, std::allocator<std::vector<char, std::allocator<char> > > >&, std::vector<char, std::allocator<char> >&, int, int) (busca_exaustiva.cpp:19)\n",
            "==3177==    by 0x1097A4: create_subsequences(std::vector<char, std::allocator<char> >&, std::vector<std::vector<char, std::allocator<char> >, std::allocator<std::vector<char, std::allocator<char> > > >&, std::vector<char, std::allocator<char> >&, int, int) (busca_exaustiva.cpp:19)\n",
            "==3177== \n",
            "==3177== Events    : Ir\n",
            "==3177== Collected : 384036536\n",
            "==3177== \n",
            "==3177== I   refs:      384,036,536\n",
            "^C\n"
          ]
        }
      ]
    },
    {
      "cell_type": "code",
      "source": [
        "!callgrind_annotate callgrind.out.1239 busca_exaustiva.cpp "
      ],
      "metadata": {
        "colab": {
          "base_uri": "https://localhost:8080/"
        },
        "id": "pJ9Ua66O6gqC",
        "outputId": "522218b2-bd26-412d-cafb-6b8cc1f3fbf7"
      },
      "execution_count": 191,
      "outputs": [
        {
          "output_type": "stream",
          "name": "stdout",
          "text": [
            "File callgrind.out.1239 not opened\n"
          ]
        }
      ]
    },
    {
      "cell_type": "markdown",
      "source": [
        "O principal ponto de lentidão da busca exaustiva é na geração das subsequências. Os tempos de execução da busca exaustiva começam baixos e tem um aumento de quase 4000 vezes como pode ser observado na tabela a seguir mesmo para entradas pequenas."
      ],
      "metadata": {
        "id": "JyXVxQI2Ap7d"
      }
    },
    {
      "cell_type": "code",
      "source": [
        "table = [['Tamanho das sequências', 'Tempo'], ['10x10', '0.05'], ['20x20', '0.65'], ['20x30', '100.36'], ['30x30', '199.62']]"
      ],
      "metadata": {
        "id": "ejWrUTlrDvUr"
      },
      "execution_count": 192,
      "outputs": []
    },
    {
      "cell_type": "code",
      "source": [
        "print(tabulate(table, headers='firstrow', tablefmt='grid'))"
      ],
      "metadata": {
        "colab": {
          "base_uri": "https://localhost:8080/"
        },
        "id": "HqDLU7PiELB-",
        "outputId": "75c7251b-0ed6-40a2-a980-cba76c73dbcf"
      },
      "execution_count": 193,
      "outputs": [
        {
          "output_type": "stream",
          "name": "stdout",
          "text": [
            "+--------------------------+---------+\n",
            "| Tamanho das sequências   |   Tempo |\n",
            "+==========================+=========+\n",
            "| 10x10                    |    0.05 |\n",
            "+--------------------------+---------+\n",
            "| 20x20                    |    0.65 |\n",
            "+--------------------------+---------+\n",
            "| 20x30                    |  100.36 |\n",
            "+--------------------------+---------+\n",
            "| 30x30                    |  199.62 |\n",
            "+--------------------------+---------+\n"
          ]
        }
      ]
    },
    {
      "cell_type": "markdown",
      "source": [
        "### Criando o arquivo da estratégia de *branch and bound*"
      ],
      "metadata": {
        "id": "g8YmmCq2Odf5"
      }
    },
    {
      "cell_type": "code",
      "source": [
        "%%writefile branch_and_bound.cpp\n",
        "#include <iostream>\n",
        "#include <vector>\n",
        "#include <algorithm>\n",
        "\n",
        "using namespace std;\n",
        "\n",
        "void create_subsequences(vector<char>& dnas, vector<vector<char> >& subsequences, vector<char>& subsequence, int index, int n){\n",
        "    if (index == n){\n",
        "        // Compares if subsequence string is in dnas string. If its in add it to the matrix.\n",
        "        string subsequence_string(subsequence.begin(), subsequence.end());\n",
        "        string dnas_string(dnas.begin(), dnas.end());\n",
        "        if (dnas_string.find(subsequence_string) != string::npos) {\n",
        "            subsequences.push_back(subsequence);\n",
        "        }\n",
        "    } else {\n",
        "        subsequence.push_back(dnas[index]);\n",
        "        create_subsequences(dnas, subsequences, subsequence, index + 1, n);\n",
        "        subsequence.pop_back();\n",
        "        create_subsequences(dnas, subsequences, subsequence, index + 1, n);\n",
        "\n",
        "    }\n",
        "}\n",
        "\n",
        "\n",
        "\n",
        "int main() {\n",
        "\n",
        "    int sum_score_pair_global = 0;\n",
        "    int max_x = 0;\n",
        "    int max_y = 0;\n",
        "\n",
        "    // Defining n and m. Value of n is the length of the first sequence. Value of m is the length of the second sequence.\n",
        "    int n; int m;\n",
        "\n",
        "    // Reads n and m. \n",
        "    cin >> n >> m;\n",
        "\n",
        "    // Defining the two vectors that receive the sequences.\n",
        "    vector<char> dnas_first_seq;\n",
        "    vector<char> dnas_second_seq;\n",
        "\n",
        "    // Reserving n and m length on the vectors.\n",
        "    dnas_first_seq.reserve(n);\n",
        "    dnas_second_seq.reserve(m);\n",
        "\n",
        "    char dna_next;\n",
        "\n",
        "    // Reads the first sequence and completes the dna_first_seq vector with the sequence.\n",
        "    for(int i = 0; i < n; i++) {\n",
        "        cin >> dna_next;\n",
        "        dnas_first_seq.push_back(dna_next);\n",
        "    }\n",
        "\n",
        "    // Reads the second sequence and completes the dna_second_seq vector with the sequence.\n",
        "    for(int i = 0; i < m; i++) {\n",
        "        cin >> dna_next;\n",
        "        dnas_second_seq.push_back(dna_next);\n",
        "    }\n",
        "    \n",
        "    // Creating matrixes that will contain the subsequences of a and b.\n",
        "    vector<vector<char> > subsequences_a;\n",
        "    vector<vector<char> > subsequences_b;\n",
        "\n",
        "    vector<char> subsequence_a;\n",
        "    vector<char> subsequence_b;\n",
        "\n",
        "    // Creating subsequences recursively.\n",
        "    create_subsequences(dnas_first_seq, subsequences_a, subsequence_a, 0, n);\n",
        "    create_subsequences(dnas_second_seq, subsequences_b, subsequence_b, 0, m);\n",
        "\n",
        "    // Erase duplicates.\n",
        "    subsequences_a.erase(unique(subsequences_a.begin(), subsequences_a.end()), subsequences_a.end());\n",
        "    subsequences_b.erase(unique(subsequences_b.begin(), subsequences_b.end()), subsequences_b.end());\n",
        "\n",
        "    // Create matrix that will contain the scores.\n",
        "    vector<vector<int> > scores;\n",
        "\n",
        "    vector<int> scores_next;\n",
        "\n",
        "    for (int i = 0; i < subsequences_a.size(); i++) {\n",
        "        scores.push_back(scores_next);\n",
        "    }\n",
        "\n",
        "    int sum_score_pair = 0;\n",
        "\n",
        "    // Calculate scores. If subsequence of a bigger than subsequence of b calculate\n",
        "    // for all elements of b and the first elements of a that has the same size of \n",
        "    // b subsequence. Else the inverse.\n",
        "    for (int i = 0; i < subsequences_a.size(); i++) {\n",
        "        for (int j = 0; j < subsequences_b.size(); j++) {\n",
        "            if (subsequences_a[i].size() > subsequences_b[j].size()) {\n",
        "                for (int k = 0; k < subsequences_b[j].size(); k++) {\n",
        "                    int bound = (2 * (subsequences_b[j].size() - j));\n",
        "                    if(sum_score_pair + bound >= sum_score_pair_global) {\n",
        "                        if (subsequences_a[i][k] == subsequences_b[j][k]) {\n",
        "                            sum_score_pair+=2;\n",
        "                        } else {\n",
        "                            sum_score_pair-=1;\n",
        "                        }                    \n",
        "                    } else {\n",
        "                        scores[i].push_back(sum_score_pair);\n",
        "                        sum_score_pair = 0;\n",
        "                        break;\n",
        "                    }\n",
        "                }\n",
        "            } else {\n",
        "                for (int k = 0; k < subsequences_a[i].size(); k++) {\n",
        "                    int bound = (2 * (subsequences_a[i].size() - i));\n",
        "                    if(sum_score_pair + bound >= sum_score_pair_global) {\n",
        "                        if (subsequences_a[i][k] == subsequences_b[j][k]) {\n",
        "                            sum_score_pair+=2;\n",
        "                        } else {\n",
        "                            sum_score_pair-=1;\n",
        "                        }                    \n",
        "                    } else {\n",
        "                        scores[i].push_back(sum_score_pair);\n",
        "                        sum_score_pair = 0;\n",
        "                        break;\n",
        "                    }\n",
        "                }\n",
        "            }\n",
        "            // If actual score bigger or equal to global score replace global score with\n",
        "            // actual score and change x and y references to position of subsequences\n",
        "            // in the matrixes.\n",
        "            if (sum_score_pair >= sum_score_pair_global) {\n",
        "                sum_score_pair_global = sum_score_pair;\n",
        "                max_x = i;\n",
        "                max_y = j;\n",
        "            }\n",
        "            scores[i].push_back(sum_score_pair);\n",
        "            sum_score_pair = 0;\n",
        "        }\n",
        "    }\n",
        "\n",
        "\n",
        "    // Print results\n",
        "    cout << sum_score_pair_global;\n",
        "    cout << endl;\n",
        "\n",
        "    for(auto& subsequence_a: subsequences_a[max_x]) {\n",
        "        cout << subsequence_a;\n",
        "    }\n",
        "\n",
        "    cout << endl;\n",
        "\n",
        "    for(auto& subsequence_b: subsequences_b[max_y]) {\n",
        "        cout << subsequence_b;\n",
        "    }\n",
        "}"
      ],
      "metadata": {
        "colab": {
          "base_uri": "https://localhost:8080/"
        },
        "id": "ie-EhAhOFqhj",
        "outputId": "635af930-9e5d-4d89-93c1-14ef9308876a"
      },
      "execution_count": 194,
      "outputs": [
        {
          "output_type": "stream",
          "name": "stdout",
          "text": [
            "Overwriting branch_and_bound.cpp\n"
          ]
        }
      ]
    },
    {
      "cell_type": "code",
      "source": [
        "!g++ -g branch_and_bound.cpp -o bb"
      ],
      "metadata": {
        "id": "oLKB6qTZFqo_"
      },
      "execution_count": 195,
      "outputs": []
    },
    {
      "cell_type": "markdown",
      "source": [
        "### Executando o Valgrind e o callgrind annotate para o *branch and bound*"
      ],
      "metadata": {
        "id": "P2lwmviPOig-"
      }
    },
    {
      "cell_type": "code",
      "source": [
        "!valgrind --tool=callgrind ./bb < in4_busca_exaustiva.txt"
      ],
      "metadata": {
        "colab": {
          "base_uri": "https://localhost:8080/"
        },
        "id": "rB7F_sk4FrVi",
        "outputId": "f5d3b56d-2e2a-4ffa-c478-4062cdc504c1"
      },
      "execution_count": 196,
      "outputs": [
        {
          "output_type": "stream",
          "name": "stdout",
          "text": [
            "==3187== Callgrind, a call-graph generating cache profiler\n",
            "==3187== Copyright (C) 2002-2017, and GNU GPL'd, by Josef Weidendorfer et al.\n",
            "==3187== Using Valgrind-3.13.0 and LibVEX; rerun with -h for copyright info\n",
            "==3187== Command: ./bb\n",
            "==3187== \n",
            "==3187== For interactive control, run 'callgrind_control -h'.\n",
            "==3187== brk segment overflow in thread #1: can't grow to 0x4a2c000\n",
            "==3187== (see section Limitations in user manual)\n",
            "==3187== NOTE: further instances of this message will not be shown\n",
            "==3187== \n",
            "==3187== Process terminating with default action of signal 2 (SIGINT)\n",
            "==3187==    at 0x10DC89: void std::__cxx11::basic_string<char, std::char_traits<char>, std::allocator<char> >::_S_copy_chars<__gnu_cxx::__normal_iterator<char*, std::vector<char, std::allocator<char> > > >(char*, __gnu_cxx::__normal_iterator<char*, std::vector<char, std::allocator<char> > >, __gnu_cxx::__normal_iterator<char*, std::vector<char, std::allocator<char> > >) (basic_string.h:368)\n",
            "==3187==    by 0x10D1FE: void std::__cxx11::basic_string<char, std::char_traits<char>, std::allocator<char> >::_M_construct<__gnu_cxx::__normal_iterator<char*, std::vector<char, std::allocator<char> > > >(__gnu_cxx::__normal_iterator<char*, std::vector<char, std::allocator<char> > >, __gnu_cxx::__normal_iterator<char*, std::vector<char, std::allocator<char> > >, std::forward_iterator_tag) (basic_string.tcc:225)\n",
            "==3187==    by 0x10C109: void std::__cxx11::basic_string<char, std::char_traits<char>, std::allocator<char> >::_M_construct_aux<__gnu_cxx::__normal_iterator<char*, std::vector<char, std::allocator<char> > > >(__gnu_cxx::__normal_iterator<char*, std::vector<char, std::allocator<char> > >, __gnu_cxx::__normal_iterator<char*, std::vector<char, std::allocator<char> > >, std::__false_type) (basic_string.h:236)\n",
            "==3187==    by 0x10AC8D: void std::__cxx11::basic_string<char, std::char_traits<char>, std::allocator<char> >::_M_construct<__gnu_cxx::__normal_iterator<char*, std::vector<char, std::allocator<char> > > >(__gnu_cxx::__normal_iterator<char*, std::vector<char, std::allocator<char> > >, __gnu_cxx::__normal_iterator<char*, std::vector<char, std::allocator<char> > >) (basic_string.h:255)\n",
            "==3187==    by 0x10A40C: std::__cxx11::basic_string<char, std::char_traits<char>, std::allocator<char> >::basic_string<__gnu_cxx::__normal_iterator<char*, std::vector<char, std::allocator<char> > >, void>(__gnu_cxx::__normal_iterator<char*, std::vector<char, std::allocator<char> > >, __gnu_cxx::__normal_iterator<char*, std::vector<char, std::allocator<char> > >, std::allocator<char> const&) (basic_string.h:607)\n",
            "==3187==    by 0x109668: create_subsequences(std::vector<char, std::allocator<char> >&, std::vector<std::vector<char, std::allocator<char> >, std::allocator<std::vector<char, std::allocator<char> > > >&, std::vector<char, std::allocator<char> >&, int, int) (branch_and_bound.cpp:10)\n",
            "==3187==    by 0x10976C: create_subsequences(std::vector<char, std::allocator<char> >&, std::vector<std::vector<char, std::allocator<char> >, std::allocator<std::vector<char, std::allocator<char> > > >&, std::vector<char, std::allocator<char> >&, int, int) (branch_and_bound.cpp:17)\n",
            "==3187==    by 0x1097A4: create_subsequences(std::vector<char, std::allocator<char> >&, std::vector<std::vector<char, std::allocator<char> >, std::allocator<std::vector<char, std::allocator<char> > > >&, std::vector<char, std::allocator<char> >&, int, int) (branch_and_bound.cpp:19)\n",
            "==3187==    by 0x1097A4: create_subsequences(std::vector<char, std::allocator<char> >&, std::vector<std::vector<char, std::allocator<char> >, std::allocator<std::vector<char, std::allocator<char> > > >&, std::vector<char, std::allocator<char> >&, int, int) (branch_and_bound.cpp:19)\n",
            "==3187==    by 0x10976C: create_subsequences(std::vector<char, std::allocator<char> >&, std::vector<std::vector<char, std::allocator<char> >, std::allocator<std::vector<char, std::allocator<char> > > >&, std::vector<char, std::allocator<char> >&, int, int) (branch_and_bound.cpp:17)\n",
            "==3187==    by 0x1097A4: create_subsequences(std::vector<char, std::allocator<char> >&, std::vector<std::vector<char, std::allocator<char> >, std::allocator<std::vector<char, std::allocator<char> > > >&, std::vector<char, std::allocator<char> >&, int, int) (branch_and_bound.cpp:19)\n",
            "==3187==    by 0x10976C: create_subsequences(std::vector<char, std::allocator<char> >&, std::vector<std::vector<char, std::allocator<char> >, std::allocator<std::vector<char, std::allocator<char> > > >&, std::vector<char, std::allocator<char> >&, int, int) (branch_and_bound.cpp:17)\n",
            "==3187== \n",
            "==3187== Events    : Ir\n",
            "==3187== Collected : 755610209\n",
            "==3187== \n",
            "==3187== I   refs:      755,610,209\n",
            "^C\n"
          ]
        }
      ]
    },
    {
      "cell_type": "code",
      "source": [
        "!callgrind_annotate callgrind.out.1424 branch_and_bound.cpp "
      ],
      "metadata": {
        "colab": {
          "base_uri": "https://localhost:8080/"
        },
        "id": "mi8ZVm0rFrbg",
        "outputId": "32a224cf-05f1-478f-d19f-a909bd23e18a"
      },
      "execution_count": 197,
      "outputs": [
        {
          "output_type": "stream",
          "name": "stdout",
          "text": [
            "File callgrind.out.1424 not opened\n"
          ]
        }
      ]
    },
    {
      "cell_type": "markdown",
      "source": [
        "É possível observar que mesmo na estrategia *branch and bound* a criação das subsequências é o que deixa mais lenta a execução. Já os tempos do *branch and bound* são melhores para entradas menores e a medida que as entradas vão aumentando os tempos vão se aproximando dos tempos da busca exaustiva."
      ],
      "metadata": {
        "id": "42DFzOYQGpHC"
      }
    },
    {
      "cell_type": "code",
      "source": [
        "table = [['Tamanho das sequências', 'Tempo'], ['10x10', '0.01'], ['20x20', '0.30'], ['20x30', '99.47'], ['30x30', '197.41']]"
      ],
      "metadata": {
        "id": "h9rgkSp4HOQt"
      },
      "execution_count": 198,
      "outputs": []
    },
    {
      "cell_type": "code",
      "source": [
        "print(tabulate(table, headers='firstrow', tablefmt='grid'))"
      ],
      "metadata": {
        "colab": {
          "base_uri": "https://localhost:8080/"
        },
        "id": "jdQD1BaEHXIL",
        "outputId": "45a3c00e-50d5-4a19-ce44-91b5e357faad"
      },
      "execution_count": 199,
      "outputs": [
        {
          "output_type": "stream",
          "name": "stdout",
          "text": [
            "+--------------------------+---------+\n",
            "| Tamanho das sequências   |   Tempo |\n",
            "+==========================+=========+\n",
            "| 10x10                    |    0.01 |\n",
            "+--------------------------+---------+\n",
            "| 20x20                    |    0.3  |\n",
            "+--------------------------+---------+\n",
            "| 20x30                    |   99.47 |\n",
            "+--------------------------+---------+\n",
            "| 30x30                    |  197.41 |\n",
            "+--------------------------+---------+\n"
          ]
        }
      ]
    },
    {
      "cell_type": "markdown",
      "source": [
        "### Criando os gráficos de tamanhos de entrada para os tempos"
      ],
      "metadata": {
        "id": "yu41vbudO58R"
      }
    },
    {
      "cell_type": "code",
      "source": [
        "times_heuristic = [0.0043, 0.0117, 0.0159, 0.0284]\n",
        "length_heuristic = [\"200x200\", \"400x200\", \"400x400\", \"1000x1000\"]\n",
        "\n",
        "times_local_search = [0.6649, 1.5086, 1.3414, 5.8454]\n",
        "length_local_search = [\"200x200\", \"400x200\", \"400x400\", \"1000x1000\"]\n",
        "\n",
        "times_exhaustive_search_first_program = [0.05, 0.65, 100.36, 199.62]\n",
        "times_exhaustive_search_second_program = [0.01, 0.30, 99.47, 197.41]\n",
        "\n",
        "length_exhaustive_search = [\"10x10\", \"20x20\", \"20x30\", \"30x30\"]\n"
      ],
      "metadata": {
        "id": "XIO-JkujkbB8"
      },
      "execution_count": 200,
      "outputs": []
    },
    {
      "cell_type": "code",
      "source": [
        "import matplotlib.pyplot as plt\n",
        "fig, ax = plt.subplots()\n",
        "ax.plot(times_heuristic, length_heuristic, linewidth=2.0)\n",
        "plt.show()\n",
        "fig, ax = plt.subplots()\n",
        "ax.plot(times_local_search, length_local_search, linewidth=2.0)\n",
        "plt.show()\n",
        "fig, ax = plt.subplots()\n",
        "ax.plot(times_exhaustive_search_first_program, length_exhaustive_search, linewidth=2.0)\n",
        "ax.plot(times_exhaustive_search_second_program, length_exhaustive_search, linewidth=2.0)\n",
        "plt.show()\n"
      ],
      "metadata": {
        "colab": {
          "base_uri": "https://localhost:8080/",
          "height": 761
        },
        "id": "XRey8qqGehp5",
        "outputId": "a2ccf97b-b33a-4865-8705-256559de57e3"
      },
      "execution_count": 201,
      "outputs": [
        {
          "output_type": "display_data",
          "data": {
            "text/plain": [
              "<Figure size 432x288 with 1 Axes>"
            ],
            "image/png": "[encoded data removed]"
          },
          "metadata": {
            "needs_background": "light"
          }
        },
        {
          "output_type": "display_data",
          "data": {
            "text/plain": [
              "<Figure size 432x288 with 1 Axes>"
            ],
            "image/png": "[encoded data removed]"
          },
          "metadata": {
            "needs_background": "light"
          }
        },
        {
          "output_type": "display_data",
          "data": {
            "text/plain": [
              "<Figure size 432x288 with 1 Axes>"
            ],
            "image/png": "[encoded data removed]"
          },
          "metadata": {
            "needs_background": "light"
          }
        }
      ]
    },
    {
      "cell_type": "markdown",
      "source": [
        " Nos gráficos acima podemos notar um aumento gradativo para os dois primeiros algoritmos que são a heurística e a busca local enquanto que na busca exaustiva tem um aumento repentino de mais de 100 vezes entre a entrada de 20x20 (tamanho das sequências) com a de 20x30. É possível notar também que a busca exaustiva leva um tempo bem maior do que os outros dois algoritmos para entradas menores."
      ],
      "metadata": {
        "id": "kXJOADuAjARR"
      }
    },
    {
      "cell_type": "markdown",
      "source": [
        "### Análise com várias entradas para heurística"
      ],
      "metadata": {
        "id": "eY1lVrdfYVi1"
      }
    },
    {
      "cell_type": "code",
      "source": [
        "import random\n",
        "import subprocess\n",
        "import time\n",
        "\n",
        "times_heuristic = []\n",
        "length_heuristic = []\n",
        "heuristic = []\n",
        "\n",
        "for i in range(0, 10):\n",
        "    n = random.randrange(1000) # tamanho da primeira sequência\n",
        "    m = random.randrange(1000) # tamanho da segunda sequência\n",
        "    file = 'dna.seq' # nome do arquivo a ser gerado\n",
        "    f = open(file, 'w')\n",
        "    seq=[str(n)+'\\n',\n",
        "        str(m)+'\\n',\n",
        "        ''.join(random.choices(['A','T','C','G','-'],k=n))+'\\n',\n",
        "        ''.join(random.choices(['A','T','C','G','-'],k=m))]\n",
        "    f.writelines(seq)\n",
        "    f.close()\n",
        "    \n",
        "    initial_time = time.time()\n",
        "\n",
        "    subprocess.run(\"./heuristica < dna.seq\", shell=True)\n",
        "\n",
        "    final_time = time.time()\n",
        "\n",
        "    difference_between_times = final_time - initial_time\n",
        "\n",
        "    heuristic.append({\"Time\": str(\"%.4f\" % difference_between_times), \"Length\": str(n) + \"x\" + str(m), \"Value\": n + m})\n"
      ],
      "metadata": {
        "id": "_Yx_aQYTjnrr"
      },
      "execution_count": 202,
      "outputs": []
    },
    {
      "cell_type": "code",
      "source": [
        "def bigger_value(element):\n",
        "    return element['Time']\n",
        "\n",
        "heuristic.sort(key=bigger_value)\n",
        "\n",
        "\n",
        "for i in heuristic:\n",
        "    times_heuristic.append(i['Time'])\n",
        "    length_heuristic.append(i['Length'])\n",
        "\n",
        "fig, ax = plt.subplots()\n",
        "ax.plot(times_heuristic, length_heuristic, 'r')\n",
        "plt.show()"
      ],
      "metadata": {
        "colab": {
          "base_uri": "https://localhost:8080/",
          "height": 265
        },
        "id": "aUMLGUQ6SfMq",
        "outputId": "4f6c566a-449e-41c1-86bd-cce3a63a402b"
      },
      "execution_count": 224,
      "outputs": [
        {
          "output_type": "display_data",
          "data": {
            "text/plain": [
              "<Figure size 432x288 with 1 Axes>"
            ],
            "image/png": "[encoded data removed]"
          },
          "metadata": {
            "needs_background": "light"
          }
        }
      ]
    },
    {
      "cell_type": "markdown",
      "source": [
        "É possível observar no gráfico acima que para entradas maiores o programa demora mais para executar mas mesmo assim consegue rodar em tempos pequenos."
      ],
      "metadata": {
        "id": "T30O7tQPYkst"
      }
    },
    {
      "cell_type": "markdown",
      "source": [
        "### Análise com várias entradas para busca local"
      ],
      "metadata": {
        "id": "mEdmOqrzYuPG"
      }
    },
    {
      "cell_type": "code",
      "source": [
        "times_local_search = []\n",
        "length_local_search = []\n",
        "local_search = []\n",
        "\n",
        "for i in range(0, 10):\n",
        "    n = random.randrange(1000) # tamanho da primeira sequência\n",
        "    m = random.randrange(1000) # tamanho da segunda sequência\n",
        "    file = 'dna.seq' # nome do arquivo a ser gerado\n",
        "    f = open(file, 'w')\n",
        "    seq=[str(n)+'\\n',\n",
        "        str(m)+'\\n',\n",
        "        ''.join(random.choices(['A','T','C','G','-'],k=n))+'\\n',\n",
        "        ''.join(random.choices(['A','T','C','G','-'],k=m))]\n",
        "    f.writelines(seq)\n",
        "    f.close()\n",
        "\n",
        "    initial_time = time.time()\n",
        "\n",
        "    subprocess.run(\"./busca_local < dna.seq\", shell=True)\n",
        "\n",
        "    final_time = time.time()\n",
        "\n",
        "    difference_between_times = final_time - initial_time\n",
        "\n",
        "    local_search.append({\"Time\": float(\"%.3f\" % difference_between_times), \"Length\": str(n) + \"x\" + str(m), \"Value\": n + m})\n"
      ],
      "metadata": {
        "id": "DftP9sgGYieF"
      },
      "execution_count": 205,
      "outputs": []
    },
    {
      "cell_type": "code",
      "source": [
        "local_search.sort(key=bigger_value)\n",
        "times_local_search = []\n",
        "length_local_search = []\n",
        "\n",
        "for i in local_search:\n",
        "    times_local_search.append(i['Time'])\n",
        "    length_local_search.append(i['Length'])\n",
        "    \n",
        "fig, ax = plt.subplots()\n",
        "ax.plot(times_local_search, length_local_search, 'r')\n",
        "plt.show()"
      ],
      "metadata": {
        "colab": {
          "base_uri": "https://localhost:8080/",
          "height": 265
        },
        "id": "MjeJ__0gZOkA",
        "outputId": "1b9753c7-ae4c-4c87-e27f-f9b53f092bb8"
      },
      "execution_count": 208,
      "outputs": [
        {
          "output_type": "display_data",
          "data": {
            "text/plain": [
              "<Figure size 432x288 with 1 Axes>"
            ],
            "image/png": "[encoded data removed]"
          },
          "metadata": {
            "needs_background": "light"
          }
        }
      ]
    },
    {
      "cell_type": "markdown",
      "source": [
        "É possível observar que a estratégia de busca local segue a mesma tendência da heurística quanto maior a entrada maior o tempo de execução."
      ],
      "metadata": {
        "id": "CQABcvQAd9iA"
      }
    },
    {
      "cell_type": "markdown",
      "source": [
        "### Análise com várias entradas para busca exaustiva"
      ],
      "metadata": {
        "id": "3jr_7wqSkTUD"
      }
    },
    {
      "cell_type": "code",
      "source": [
        "times_exhaustive_search_first_program = []\n",
        "length_exhaustive_search = []\n",
        "exaustive_search = []\n",
        "\n",
        "for i in range(0, 10):\n",
        "    n = random.randrange(20) # tamanho da primeira sequência\n",
        "    m = random.randrange(20) # tamanho da segunda sequência\n",
        "    file = 'dna.seq' # nome do arquivo a ser gerado\n",
        "    f = open(file, 'w')\n",
        "    seq=[str(n)+'\\n',\n",
        "        str(m)+'\\n',\n",
        "        ''.join(random.choices(['A','T','C','G','-'],k=n))+'\\n',\n",
        "        ''.join(random.choices(['A','T','C','G','-'],k=m))]\n",
        "    f.writelines(seq)\n",
        "    f.close()\n",
        "    \n",
        "    initial_time = time.time()\n",
        "\n",
        "    subprocess.run(\"./busca_exaustiva < dna.seq\", shell=True)\n",
        "\n",
        "    final_time = time.time()\n",
        "\n",
        "    difference_between_times = final_time - initial_time\n",
        "\n",
        "    exaustive_search.append({\"Time\": float(\"%.3f\" % difference_between_times), \"Length\": str(n) + \"x\" + str(m), \"Value\": n + m})"
      ],
      "metadata": {
        "id": "DM5NfX1VZQ0f"
      },
      "execution_count": 212,
      "outputs": []
    },
    {
      "cell_type": "code",
      "source": [
        "exaustive_search.sort(key=bigger_value)\n",
        "\n",
        "\n",
        "times_exhaustive_search_first_program = []\n",
        "length_exhaustive_search = []\n",
        "\n",
        "for i in exaustive_search:\n",
        "    times_exhaustive_search_first_program.append(i['Time'])\n",
        "    length_exhaustive_search.append(i['Length'])\n",
        "    \n",
        "fig, ax = plt.subplots()\n",
        "ax.plot(times_exhaustive_search_first_program, length_exhaustive_search, 'r')\n",
        "plt.show()"
      ],
      "metadata": {
        "colab": {
          "base_uri": "https://localhost:8080/",
          "height": 265
        },
        "id": "pYeC8VK3eXMz",
        "outputId": "8535d2be-9e29-47bd-9018-caca57149e16"
      },
      "execution_count": 213,
      "outputs": [
        {
          "output_type": "display_data",
          "data": {
            "text/plain": [
              "<Figure size 432x288 with 1 Axes>"
            ],
            "image/png": "[encoded data removed]"
          },
          "metadata": {
            "needs_background": "light"
          }
        }
      ]
    },
    {
      "cell_type": "markdown",
      "source": [
        "A busca exaustiva tem o mesmo comportamento dos outros dois códigos."
      ],
      "metadata": {
        "id": "V9R8XNu2jNzs"
      }
    },
    {
      "cell_type": "markdown",
      "source": [
        "Paralelismo com o OpenMP - Supercomputação\n",
        "\n",
        "O código escolhido foi o da busca exaustiva. Para isso utilizou-se de tasks na criação das subsequências e no cálculo das pontuações. No primeiro código utilizou-se dois vetores de tamanhos n e m que cada um disparava uma task com uma função recursiva para geração das subsequências.\n",
        "Foi observado um bom speedup entre a versão serial da busca exaustiva e a primeira versão paralela. Para entrada in3_busca_exaustiva.txt, a versão serial encontrou o resultado em 157.73 segundos a versão paralelizada encontrou o mesmo resultado em 96.23 segundos, e o resultado foi o seguinte: quatorze de pontuação e as seguintes subsequências.\n",
        "\t\n",
        "TTACCGGCTACCCAAAC-CTAG-GGT-GAA\n",
        "TCCCCGGCTA\n",
        "\n",
        "\n",
        "Foi utilizado a busca exaustiva pelos tempos maiores e pela observação no relatório preliminar do projeto de uma quantidade muito grande de iterações nessa parte de geração das subsequências no profilling.\n",
        "No segundo código a diferença é que paralelizamos a geração das pontuações criando uma task para cada par de subsequência a ser calculado a pontuação. Para a mesma entrada in3_busca_exaustiva.txt, a versão serial que apresentava um tempo de 157.73 segundos quando comparada a versão dois paralela há um speedup ainda maior, passando o tempo para 77.79 segundos com a mesma resposta da versão serial e da paralela versão um."
      ],
      "metadata": {
        "id": "fEe2KZ0uc3S2"
      }
    },
    {
      "cell_type": "code",
      "source": [
        "%%writefile busca_exaustiva_paralela.cpp\n",
        "#include <iostream>\n",
        "#include <vector>\n",
        "#include <algorithm>\n",
        "#include <omp.h>\n",
        "\n",
        "using namespace std;\n",
        "\n",
        "void create_subsequences(vector<char>& dnas, vector<vector<char> >& subsequences, vector<char>& subsequence, int index, int n){\n",
        "    if (index == n){\n",
        "        // Compares if subsequence string is in dnas string. If its in add it to the matrix.\n",
        "        string subsequence_string(subsequence.begin(), subsequence.end());\n",
        "        string dnas_string(dnas.begin(), dnas.end());\n",
        "        if (dnas_string.find(subsequence_string) != string::npos) {\n",
        "            subsequences.push_back(subsequence);\n",
        "        }\n",
        "    } else {\n",
        "        subsequence.push_back(dnas[index]);\n",
        "        create_subsequences(dnas, subsequences, subsequence, index + 1, n);\n",
        "        subsequence.pop_back();\n",
        "        create_subsequences(dnas, subsequences, subsequence, index + 1, n);\n",
        "\n",
        "    }\n",
        "}\n",
        "\n",
        "\n",
        "\n",
        "int main() {\n",
        "\n",
        "    // Defining n and m. Value of n is the length of the first sequence. Value of m is the length of the second sequence.\n",
        "    int n; int m;\n",
        "\n",
        "    // Reads n and m. \n",
        "    cin >> n >> m;\n",
        "\n",
        "    // Defining the two vectors that receive the sequences.\n",
        "    vector<char> dnas_first_seq;\n",
        "    vector<char> dnas_second_seq;\n",
        "\n",
        "    // Reserving n and m length on the vectors.\n",
        "    dnas_first_seq.reserve(n);\n",
        "    dnas_second_seq.reserve(m);\n",
        "\n",
        "    char dna_next;\n",
        "\n",
        "    // Reads the first sequence and completes the dna_first_seq vector with the sequence.\n",
        "    for(int i = 0; i < n; i++) {\n",
        "        cin >> dna_next;\n",
        "        dnas_first_seq.push_back(dna_next);\n",
        "    }\n",
        "\n",
        "    // Reads the second sequence and completes the dna_second_seq vector with the sequence.\n",
        "    for(int i = 0; i < m; i++) {\n",
        "        cin >> dna_next;\n",
        "        dnas_second_seq.push_back(dna_next);\n",
        "    }\n",
        "    \n",
        "    // Creating matrixes that will contain the subsequences of a and b.\n",
        "    vector<vector<char> > subsequences_a;\n",
        "    vector<vector<char> > subsequences_b;\n",
        "\n",
        "    vector<char> subsequence_a;\n",
        "    vector<char> subsequence_b;\n",
        "\n",
        "    // Creating subsequences recursively.\n",
        "    #pragma omp parallel\n",
        "    {\n",
        "        // Creating tasks for each sequence to create subsequences.\n",
        "        #pragma omp master\n",
        "        {\n",
        "            #pragma omp task\n",
        "            {\n",
        "                create_subsequences(dnas_first_seq, subsequences_a, subsequence_a, 0, n);\n",
        "            }\n",
        "            #pragma omp task\n",
        "            {\n",
        "                create_subsequences(dnas_second_seq, subsequences_b, subsequence_b, 0, m);\n",
        "            }\n",
        "        }\n",
        "    }\n",
        "    \n",
        "    // Erase duplicates.\n",
        "    subsequences_a.erase(unique(subsequences_a.begin(), subsequences_a.end()), subsequences_a.end());\n",
        "    subsequences_b.erase(unique(subsequences_b.begin(), subsequences_b.end()), subsequences_b.end());\n",
        "\n",
        "    // Create matrix that will contain the scores.\n",
        "    vector<vector<int> > scores;\n",
        "\n",
        "    vector<int> scores_next;\n",
        "\n",
        "    for (int i = 0; i < subsequences_a.size(); i++) {\n",
        "        scores.push_back(scores_next);\n",
        "    }\n",
        "\n",
        "    int sum_score_pair = 0;\n",
        "\n",
        "    // Calculate scores. If subsequence of a bigger than subsequence of b calculate\n",
        "    // for all elements of b and the first elements of a that has the same size of \n",
        "    // b subsequence. Else the inverse.\n",
        "    for (int i = 0; i < subsequences_a.size(); i++) {\n",
        "        for (int j = 0; j < subsequences_b.size(); j++) {\n",
        "            if (subsequences_a[i].size() > subsequences_b[j].size()) {\n",
        "                for (int k = 0; k < subsequences_b[j].size(); k++) {\n",
        "                    if (subsequences_a[i][k] == subsequences_b[j][k]) {\n",
        "                        sum_score_pair+=2;\n",
        "                    } else {\n",
        "                        sum_score_pair-=1;\n",
        "                    }\n",
        "                }\n",
        "            } else {\n",
        "                for (int k = 0; k < subsequences_a[i].size(); k++) {\n",
        "                    if (subsequences_a[i][k] == subsequences_b[j][k]) {\n",
        "                        sum_score_pair+=2;\n",
        "                    } else {\n",
        "                        sum_score_pair-=1;\n",
        "                    }\n",
        "                }\n",
        "            }\n",
        "            scores[i].push_back(sum_score_pair);\n",
        "            sum_score_pair = 0;\n",
        "        }\n",
        "    }\n",
        "\n",
        "    int max_score = 0;\n",
        "\n",
        "    int max_x = 0;\n",
        "    int max_y = 0;\n",
        "\n",
        "    // Get the max score and the subsequences correlated to the max score.\n",
        "    for (int i = 0; i < scores.size(); i++) {\n",
        "        for (int j = 0; j < scores[0].size(); j++) {\n",
        "            if (scores[i][j] > max_score) {\n",
        "                max_x = i;\n",
        "                max_y = j;\n",
        "                max_score = scores[i][j];\n",
        "            }\n",
        "        }\n",
        "    }\n",
        "\n",
        "    cout << max_score;\n",
        "    cout << endl;\n",
        "\n",
        "    for(auto& subsequence_a: subsequences_a[max_x]) {\n",
        "        cout << subsequence_a;\n",
        "    }\n",
        "\n",
        "    cout << endl;\n",
        "\n",
        "    for(auto& subsequence_b: subsequences_b[max_y]) {\n",
        "        cout << subsequence_b;\n",
        "    }\n",
        "\n",
        "\n",
        "}"
      ],
      "metadata": {
        "colab": {
          "base_uri": "https://localhost:8080/"
        },
        "id": "yTFbtvc9jQFQ",
        "outputId": "6fe0f519-c816-44ed-d48d-7b942c85c600"
      },
      "execution_count": 214,
      "outputs": [
        {
          "output_type": "stream",
          "name": "stdout",
          "text": [
            "Overwriting busca_exaustiva_paralela.cpp\n"
          ]
        }
      ]
    },
    {
      "cell_type": "code",
      "source": [
        "!g++ -g busca_exaustiva_paralela.cpp -o busca_exaustiva_paralela"
      ],
      "metadata": {
        "id": "eg-gzRTTjvkM"
      },
      "execution_count": 215,
      "outputs": []
    },
    {
      "cell_type": "code",
      "source": [
        "import random\n",
        "import time\n",
        "import subprocess\n",
        "times_exhaustive_search_first_program_omp = []\n",
        "length_exhaustive_search_omp = []\n",
        "exaustive_search_omp = []\n",
        "\n",
        "for i in range(0, 10):\n",
        "    n = random.randrange(10) # tamanho da primeira sequência\n",
        "    m = random.randrange(10) # tamanho da segunda sequência\n",
        "    file = 'dna.seq' # nome do arquivo a ser gerado\n",
        "    f = open(file, 'w')\n",
        "    seq=[str(n)+'\\n',\n",
        "        str(m)+'\\n',\n",
        "        ''.join(random.choices(['A','T','C','G','-'],k=n))+'\\n',\n",
        "        ''.join(random.choices(['A','T','C','G','-'],k=m))]\n",
        "    f.writelines(seq)\n",
        "    f.close()\n",
        "    \n",
        "    initial_time = time.time()\n",
        "\n",
        "    subprocess.run(\"./busca_exaustiva_paralela < dna.seq\", shell=True)\n",
        "\n",
        "    final_time = time.time()\n",
        "\n",
        "    difference_between_times = final_time - initial_time\n",
        "\n",
        "    exaustive_search_omp.append({\"Time\": float(\"%.3f\" % difference_between_times), \"Length\": str(n) + \"x\" + str(m), \"Value\": n + m})\n",
        "\n",
        "    \n"
      ],
      "metadata": {
        "id": "x2jGAvHAj6cD"
      },
      "execution_count": 216,
      "outputs": []
    },
    {
      "cell_type": "code",
      "source": [
        "import matplotlib.pyplot as plt\n",
        "\n",
        "length_exhaustive_search_omp = []\n",
        "times_exhaustive_search_first_program_omp = []\n",
        "\n",
        "def bigger_value(element):\n",
        "    return element['Time']\n",
        "\n",
        "newlist = (sorted(exaustive_search_omp, key = lambda i: i['Time']))\n",
        "\n",
        "print(newlist)\n",
        "\n",
        "for i in newlist:\n",
        "    times_exhaustive_search_first_program_omp.append(i['Time'])\n",
        "    length_exhaustive_search_omp.append(i['Length'])\n",
        "    \n",
        "fig, ax = plt.subplots()\n",
        "ax.plot(times_exhaustive_search_first_program_omp,length_exhaustive_search_omp, 'r')\n",
        "\n",
        "plt.show()"
      ],
      "metadata": {
        "colab": {
          "base_uri": "https://localhost:8080/",
          "height": 303
        },
        "id": "iXX8zwZtkBxG",
        "outputId": "21c340f1-cd42-4f4e-da59-525316a3549f"
      },
      "execution_count": 220,
      "outputs": [
        {
          "output_type": "stream",
          "name": "stdout",
          "text": [
            "[{'Time': 0.012, 'Length': '1x0', 'Value': 1}, {'Time': 0.012, 'Length': '0x3', 'Value': 3}, {'Time': 0.013, 'Length': '6x8', 'Value': 14}, {'Time': 0.013, 'Length': '0x0', 'Value': 0}, {'Time': 0.014, 'Length': '5x6', 'Value': 11}, {'Time': 0.015, 'Length': '0x7', 'Value': 7}, {'Time': 0.016, 'Length': '8x2', 'Value': 10}, {'Time': 0.016, 'Length': '6x6', 'Value': 12}, {'Time': 0.017, 'Length': '6x8', 'Value': 14}, {'Time': 0.021, 'Length': '7x5', 'Value': 12}]\n"
          ]
        },
        {
          "output_type": "display_data",
          "data": {
            "text/plain": [
              "<Figure size 432x288 with 1 Axes>"
            ],
            "image/png": "[encoded data removed]"
          },
          "metadata": {
            "needs_background": "light"
          }
        }
      ]
    },
    {
      "cell_type": "markdown",
      "source": [
        "É possível verificar no gráfico acima que quanto maior a entrada dos dados maior é o tempo para execução."
      ],
      "metadata": {
        "id": "shLZ0QcSwWIu"
      }
    },
    {
      "cell_type": "markdown",
      "source": [
        "Paralelismo GPU"
      ],
      "metadata": {
        "id": "ySAEUovNdDUG"
      }
    },
    {
      "cell_type": "code",
      "source": [
        "%%writefile paralelismoGPU.cu\n",
        "#include <thrust/transform.h>\n",
        "#include <thrust/device_vector.h>\n",
        "#include <thrust/host_vector.h>\n",
        "#include <thrust/iterator/counting_iterator.h>\n",
        "#include <iostream>\n",
        "#include <thrust/copy.h>\n",
        "#include <omp.h>\n",
        "\n",
        "\n",
        "using namespace std;\n",
        "using namespace thrust;\n",
        "\n",
        "struct calculate_score\n",
        "{\n",
        "    char letter;\n",
        "    thrust::device_ptr<char> data_subsequence;\n",
        "    thrust::device_ptr<int> last_line_calculation;\n",
        "\n",
        "    calculate_score(thrust::device_ptr<char> _data_subsequence, char _letter, thrust::device_ptr<int>_last_line_calculation) : data_subsequence(_data_subsequence), letter(_letter), last_line_calculation(_last_line_calculation) {};\n",
        "\n",
        "    __host__ __device__\n",
        "    int operator()(const int& i) {\n",
        "\n",
        "        int diagonal = 0;\n",
        "        int insertion = last_line_calculation[i] - 1;\n",
        "\n",
        "        if (data_subsequence[i-1] == letter) {\n",
        "            diagonal = last_line_calculation[i-1] + 2;\n",
        "        } else {\n",
        "            diagonal = last_line_calculation[i-1] - 1;\n",
        "        }\n",
        "\n",
        "        if (diagonal > insertion) {\n",
        "            if (diagonal > 0) {\n",
        "                return diagonal;\n",
        "            } else {\n",
        "                return 0;\n",
        "            }\n",
        "        } else {\n",
        "            if (insertion > 0) {\n",
        "                return insertion;\n",
        "            } else {\n",
        "                return 0;\n",
        "            }\n",
        "        }\n",
        "    }\n",
        "};\n",
        "\n",
        "int main() {\n",
        "\n",
        "    double n = 0;\n",
        "    double m = 0;\n",
        "\n",
        "    cin >> n >> m;\n",
        "\n",
        "    host_vector<char> dnas_first_seq_cpu;\n",
        "    host_vector<char> dnas_second_seq_cpu;\n",
        "\n",
        "    dnas_first_seq_cpu.reserve(n);\n",
        "    dnas_second_seq_cpu.reserve(m);\n",
        "\n",
        "    char dna_next;\n",
        "\n",
        "    // Reads the first sequence and completes the dna_first_seq vector with the sequence.\n",
        "    for(int i = 0; i < n; i++) {\n",
        "        cin >> dna_next;\n",
        "        dnas_first_seq_cpu.push_back(dna_next);\n",
        "    }\n",
        "\n",
        "    // Reads the second sequence and completes the dna_second_seq vector with the sequence.\n",
        "    for(int i = 0; i < m; i++) {\n",
        "        cin >> dna_next;\n",
        "        dnas_second_seq_cpu.push_back(dna_next);\n",
        "    }\n",
        "    \n",
        "    int k = n;\n",
        "    int l = m;\n",
        "\n",
        "    host_vector<char> dnas_first_seq_cpu_flexible = dnas_first_seq_cpu;\n",
        "    host_vector<char> dnas_second_seq_cpu_flexible = dnas_second_seq_cpu;\n",
        "\n",
        "    host_vector<host_vector<char> > subsequences_a;\n",
        "    host_vector<host_vector<char> > subsequences_b;\n",
        "\n",
        "    while (dnas_first_seq_cpu_flexible.size() > 0) {\n",
        "        while(k > 0) {\n",
        "            host_vector<char> next_subsequence;\n",
        "            for (int j = 0; j < k; j++) {\n",
        "                next_subsequence.push_back(dnas_first_seq_cpu_flexible[j]);\n",
        "            }\n",
        "            k = k - 1;\n",
        "\n",
        "            subsequences_a.push_back(next_subsequence);\n",
        "            next_subsequence.clear();\n",
        "        }\n",
        "        dnas_first_seq_cpu_flexible.erase(dnas_first_seq_cpu_flexible.begin());\n",
        "        k = dnas_first_seq_cpu_flexible.size();\n",
        "    }\n",
        "\n",
        "    while (dnas_second_seq_cpu_flexible.size() > 0) {\n",
        "        while(l > 0) {\n",
        "            host_vector<char> next_subsequence;\n",
        "            for (int j = 0; j < l; j++) {\n",
        "                next_subsequence.push_back(dnas_second_seq_cpu_flexible[j]);\n",
        "            }\n",
        "            l = l - 1;\n",
        "\n",
        "            subsequences_b.push_back(next_subsequence);\n",
        "            next_subsequence.clear();\n",
        "        }\n",
        "        dnas_second_seq_cpu_flexible.erase(dnas_second_seq_cpu_flexible.begin());\n",
        "        l = dnas_second_seq_cpu_flexible.size();\n",
        "    }\n",
        "\n",
        "    int max_score = 0;\n",
        "\n",
        "\n",
        "    for (int i = 0; i < subsequences_a.size(); i++) {\n",
        "        char *subsequence_from_sequence_a = subsequences_a[i].data();\n",
        "        device_vector<char> subsequence_a_gpu = subsequences_a[i];\n",
        "\n",
        "        for (int j = 0; j < subsequences_b.size(); j++) {\n",
        "            char *subsequence_from_sequence_b = subsequences_a[j].data();\n",
        "            device_vector<char> subsequence_b_gpu = subsequences_b[j];\n",
        "            device_vector<int> calculation_temp(subsequences_a[i].size() + 1);\n",
        "            device_vector<int> calculation_score(subsequences_a[i].size() + 1);\n",
        "\n",
        "            thrust::fill(calculation_temp.begin(), calculation_temp.end(), 0);\n",
        "\n",
        "            #pragma omp parallel\n",
        "            {\n",
        "                // Creating tasks for each sequence to create subsequences.\n",
        "                #pragma omp master\n",
        "                {\n",
        "                    for (int t = 0; t < subsequences_b[j].size(); t++) {\n",
        "                    #pragma omp task\n",
        "                    {\n",
        "\n",
        "                            char letter_from_subsequence_b = subsequences_b[j][t];\n",
        "\n",
        "                            thrust::device_vector<int> counting(subsequence_a_gpu.size() + 1);\n",
        "\n",
        "                            for (int q = 0; q < subsequences_a[i].size() + 1; q++) {\n",
        "                                counting[q] = q;\n",
        "                            }\n",
        "\n",
        "                            thrust::transform(counting.begin(), counting.end(), calculation_score.begin(), calculate_score(subsequence_a_gpu.data(), letter_from_subsequence_b, calculation_temp.data()));\n",
        "                            thrust::inclusive_scan(calculation_score.begin()+1, calculation_score.end(), calculation_temp.begin() + 1, thrust::maximum<int>());\n",
        "\n",
        "                            int max = *max_element(calculation_temp.begin(), calculation_temp.end());\n",
        "\n",
        "                            cout << max;\n",
        "                            cout << endl;\n",
        "                            cout << max_score;\n",
        "\n",
        "                            if (max > max_score) {\n",
        "                                max_score = max;\n",
        "                                cout << max_score;\n",
        "\n",
        "                            }\n",
        "                        }                    \n",
        "                    }\n",
        "                }\n",
        "            }\n",
        "        }\n",
        "    }\n",
        "\n",
        "    cout << max_score;\n",
        "}"
      ],
      "metadata": {
        "colab": {
          "base_uri": "https://localhost:8080/"
        },
        "id": "0fhh_zvudYgj",
        "outputId": "8d9965d4-5437-48d0-ab47-3b9cb8dca973"
      },
      "execution_count": 221,
      "outputs": [
        {
          "output_type": "stream",
          "name": "stdout",
          "text": [
            "Overwriting paralelismoGPU.cu\n"
          ]
        }
      ]
    },
    {
      "cell_type": "code",
      "source": [
        "!nvcc -arch=sm_70 -std=c++14 paralelismoGPU.cu -o busca_exaustiva_paralela_gpu -Xcompiler -fopenmp"
      ],
      "metadata": {
        "id": "CWu375QodjfX"
      },
      "execution_count": 222,
      "outputs": []
    },
    {
      "cell_type": "code",
      "source": [
        "import random\n",
        "import time\n",
        "import subprocess\n",
        "times_exhaustive_search_first_program_gpu = []\n",
        "length_exhaustive_search_gpu = []\n",
        "exaustive_search_gpu = []\n",
        "\n",
        "for i in range(0, 10):\n",
        "    n = random.randrange(1000) # tamanho da primeira sequência\n",
        "    m = random.randrange(1000) # tamanho da segunda sequência\n",
        "    file = 'dna.seq' # nome do arquivo a ser gerado\n",
        "    f = open(file, 'w')\n",
        "    seq=[str(n)+'\\n',\n",
        "        str(m)+'\\n',\n",
        "        ''.join(random.choices(['A','T','C','G','-'],k=n))+'\\n',\n",
        "        ''.join(random.choices(['A','T','C','G','-'],k=m))]\n",
        "    f.writelines(seq)\n",
        "    f.close()\n",
        "    \n",
        "    initial_time = time.time()\n",
        "\n",
        "    subprocess.run(\"./busca_exaustiva_paralela_gpu < dna.seq\", shell=True)\n",
        "\n",
        "    final_time = time.time()\n",
        "\n",
        "    difference_between_times = final_time - initial_time\n",
        "\n",
        "    exaustive_search_gpu.append({\"Time\": float(\"%.2f\" % difference_between_times), \"Length\": str(n) + \"x\" + str(m), \"Value\": n + m})"
      ],
      "metadata": {
        "id": "GGdkrGqNdzE7"
      },
      "execution_count": 223,
      "outputs": []
    },
    {
      "cell_type": "code",
      "source": [
        "import matplotlib.pyplot as plt\n",
        "\n",
        "times_exhaustive_search_first_program_gpu = []\n",
        "length_exhaustive_search_gpu = []\n",
        "\n",
        "newlist = sorted(exaustive_search_gpu, key=lambda d: d['Time']) \n",
        "\n",
        "for i in newlist:\n",
        "    times_exhaustive_search_first_program_gpu.append(i['Time'])\n",
        "    length_exhaustive_search_gpu.append(i['Value'])\n",
        "\n",
        "fig, ax = plt.subplots()\n",
        "ax.plot(length_exhaustive_search_gpu, times_exhaustive_search_first_program_gpu, 'r')\n",
        "\n",
        "plt.show()"
      ],
      "metadata": {
        "colab": {
          "base_uri": "https://localhost:8080/",
          "height": 265
        },
        "id": "IrbwdvkWePl4",
        "outputId": "f34ebef9-1cd9-4df1-f106-cfa85b2a8cb9"
      },
      "execution_count": 225,
      "outputs": [
        {
          "output_type": "display_data",
          "data": {
            "text/plain": [
              "<Figure size 432x288 with 1 Axes>"
            ],
            "image/png": "[encoded data removed]"
          },
          "metadata": {
            "needs_background": "light"
          }
        }
      ]
    },
    {
      "cell_type": "markdown",
      "source": [
        "Como é possível verificar no gráfico acima o tempo de execução da busca exaustiva paralela com o Thrust e o openMP ficou muito mais rápido e roda entradas com até 1600 elementos de entrada em até 140 segundos sendo que a busca exaustiva levava 200 segundos para rodar entradas com até 60 elementos e esse número sobe muito para entradas com 80 elementos."
      ],
      "metadata": {
        "id": "KxRXGfcefBAD"
      }
    },
    {
      "cell_type": "markdown",
      "source": [
        "### Comparando todos os códigos com as mesmas entradas"
      ],
      "metadata": {
        "id": "4Rkl-8vtsqyV"
      }
    },
    {
      "cell_type": "code",
      "source": [
        "import random\n",
        "import time\n",
        "import subprocess\n",
        "\n",
        "times_heuristic = []\n",
        "length_heuristic = []\n",
        "heuristic = []\n",
        "\n",
        "times_local_search = []\n",
        "length_local_search = []\n",
        "local_search = []\n",
        "\n",
        "times_exhaustive_search = []\n",
        "length_exhaustive_search = []\n",
        "exaustive_search = []\n",
        "\n",
        "times_exhaustive_search_omp = []\n",
        "length_exhaustive_search_omp = []\n",
        "exaustive_search_omp = []\n",
        "\n",
        "times_exhaustive_search_gpu = []\n",
        "length_exhaustive_search_gpu = []\n",
        "exaustive_search_gpu = []\n",
        "\n",
        "for i in range(0, 10):\n",
        "    n = random.randrange(20) # tamanho da primeira sequência\n",
        "    m = random.randrange(20) # tamanho da segunda sequência\n",
        "    file = 'dna.seq' # nome do arquivo a ser gerado\n",
        "    f = open(file, 'w')\n",
        "    seq=[str(n)+'\\n',\n",
        "        str(m)+'\\n',\n",
        "        ''.join(random.choices(['A','T','C','G','-'],k=n))+'\\n',\n",
        "        ''.join(random.choices(['A','T','C','G','-'],k=m))]\n",
        "    f.writelines(seq)\n",
        "    f.close()\n",
        "    \n",
        "    initial_time = time.time()\n",
        "\n",
        "    subprocess.run(\"./heuristic < dna.seq\", shell=True)\n",
        "\n",
        "    final_time = time.time()\n",
        "\n",
        "    difference_between_times = final_time - initial_time\n",
        "\n",
        "    heuristic.append({\"Time\": float(\"%.3f\" % difference_between_times), \"Length\": str(n) + \"x\" + str(m), \"Value\": n + m})\n",
        "\n",
        "    initial_time = time.time()\n",
        "\n",
        "    subprocess.run(\"./busca_local < dna.seq\", shell=True)\n",
        "\n",
        "    final_time = time.time()\n",
        "\n",
        "    difference_between_times = final_time - initial_time\n",
        "\n",
        "    local_search.append({\"Time\": float(\"%.3f\" % difference_between_times), \"Length\": str(n) + \"x\" + str(m), \"Value\": n + m})\n",
        "\n",
        "    initial_time = time.time()\n",
        "\n",
        "    subprocess.run(\"./busca_exaustiva < dna.seq\", shell=True)\n",
        "\n",
        "    final_time = time.time()\n",
        "\n",
        "    difference_between_times = final_time - initial_time\n",
        "\n",
        "    exaustive_search.append({\"Time\": float(\"%.3f\" % difference_between_times), \"Length\": str(n) + \"x\" + str(m), \"Value\": n + m})\n",
        "\n",
        "    initial_time = time.time()\n",
        "\n",
        "    subprocess.run(\"./busca_exaustiva_paralela < dna.seq\", shell=True)\n",
        "\n",
        "    final_time = time.time()\n",
        "\n",
        "    difference_between_times = final_time - initial_time\n",
        "\n",
        "    exaustive_search_omp.append({\"Time\": float(\"%.3f\" % difference_between_times), \"Length\": str(n) + \"x\" + str(m), \"Value\": n + m})\n",
        "\n",
        "    initial_time = time.time()\n",
        "\n",
        "    subprocess.run(\"./busca_exaustiva_paralela_gpu < dna.seq\", shell=True)\n",
        "\n",
        "    final_time = time.time()\n",
        "\n",
        "    difference_between_times = final_time - initial_time\n",
        "\n",
        "    exaustive_search_gpu.append({\"Time\": float(\"%.3f\" % difference_between_times), \"Length\": str(n) + \"x\" + str(m), \"Value\": n + m})\n",
        "\n",
        "    "
      ],
      "metadata": {
        "id": "LHvkPfsmeVkU"
      },
      "execution_count": 226,
      "outputs": []
    },
    {
      "cell_type": "code",
      "source": [
        "import matplotlib.pyplot as plt\n",
        "\n",
        "times_local_search = []\n",
        "length_local_search = []\n",
        "\n",
        "times_exhaustive_search = []\n",
        "length_exhaustive_search = []\n",
        "\n",
        "times_exhaustive_search_omp = []\n",
        "length_exhaustive_search_omp = []\n",
        "\n",
        "times_exhaustive_search_gpu = []\n",
        "length_exhaustive_search_gpu = []\n",
        "\n",
        "local_search = (sorted(local_search, key = lambda i: i['Time']))\n",
        "exaustive_search = (sorted(exaustive_search, key = lambda i: i['Time']))\n",
        "exaustive_search_omp = (sorted(exaustive_search_omp, key = lambda i: i['Time']))\n",
        "exaustive_search_gpu = (sorted(exaustive_search_gpu, key = lambda i: i['Time']))\n",
        "\n",
        "\n",
        "for i in local_search:\n",
        "    times_local_search.append(i['Time'])\n",
        "    length_local_search.append(i['Value'])\n",
        "\n",
        "for i in exaustive_search:\n",
        "    times_exhaustive_search.append(i['Time'])\n",
        "    length_exhaustive_search.append(i['Value'])\n",
        "\n",
        "for i in exaustive_search_omp:\n",
        "    times_exhaustive_search_omp.append(i['Time'])\n",
        "    length_exhaustive_search_omp.append(i['Value'])\n",
        "\n",
        "for i in exaustive_search_gpu:\n",
        "    times_exhaustive_search_gpu.append(i['Time'])\n",
        "    length_exhaustive_search_gpu.append(i['Value'])\n",
        "\n",
        "fig, ax = plt.subplots()\n",
        "ax.plot(length_local_search, times_local_search, 'b')\n",
        "ax.plot(length_exhaustive_search, times_exhaustive_search, 'g')\n",
        "ax.plot(length_exhaustive_search_omp, times_exhaustive_search_omp, 'c')\n",
        "ax.plot(length_exhaustive_search_gpu, times_exhaustive_search_gpu, 'y')\n",
        "plt.show()"
      ],
      "metadata": {
        "colab": {
          "base_uri": "https://localhost:8080/",
          "height": 267
        },
        "id": "nI4_7dOQrKxh",
        "outputId": "6cc1a733-b30b-4551-a330-f0f5eb842127"
      },
      "execution_count": 231,
      "outputs": [
        {
          "output_type": "display_data",
          "data": {
            "text/plain": [
              "<Figure size 432x288 with 1 Axes>"
            ],
            "image/png": "[encoded data removed]"
          },
          "metadata": {
            "needs_background": "light"
          }
        }
      ]
    },
    {
      "cell_type": "markdown",
      "source": [
        "Nesse gráfico podemos observar que a linha amarela correspondente á busca exaustiva em GPU com Thrust e OpenMP é que tem maior performance. A linha correspondente a busca exaustiva tanto paralela (com somente o OpenMP) e a serial são muito parecidas. E a de busca local não tem um padrão para um número pequeno de entradas."
      ],
      "metadata": {
        "id": "rZILq9BJJv2N"
      }
    },
    {
      "cell_type": "code",
      "source": [
        "fig, ax = plt.subplots()\n",
        "ax.plot(length_local_search, times_local_search, 'g')\n",
        "plt.show()"
      ],
      "metadata": {
        "colab": {
          "base_uri": "https://localhost:8080/",
          "height": 268
        },
        "id": "SsRzGKz_v-gx",
        "outputId": "273a1a90-62ed-426c-e1ce-d25bfa90b866"
      },
      "execution_count": 233,
      "outputs": [
        {
          "output_type": "display_data",
          "data": {
            "text/plain": [
              "<Figure size 432x288 with 1 Axes>"
            ],
            "image/png": "[encoded data removed]"
          },
          "metadata": {
            "needs_background": "light"
          }
        }
      ]
    },
    {
      "cell_type": "code",
      "source": [
        "fig, ax = plt.subplots()\n",
        "ax.plot(length_exhaustive_search, times_exhaustive_search, 'b') \n",
        "plt.show()"
      ],
      "metadata": {
        "colab": {
          "base_uri": "https://localhost:8080/",
          "height": 265
        },
        "id": "KgSJQS9hv_9h",
        "outputId": "9b3a5331-f475-4ba3-ec06-b646266b5877"
      },
      "execution_count": 234,
      "outputs": [
        {
          "output_type": "display_data",
          "data": {
            "text/plain": [
              "<Figure size 432x288 with 1 Axes>"
            ],
            "image/png": "[encoded data removed]"
          },
          "metadata": {
            "needs_background": "light"
          }
        }
      ]
    },
    {
      "cell_type": "code",
      "source": [
        "fig, ax = plt.subplots()\n",
        "ax.plot(length_exhaustive_search_omp, times_exhaustive_search_omp, 'y')\n",
        "plt.show()"
      ],
      "metadata": {
        "colab": {
          "base_uri": "https://localhost:8080/",
          "height": 265
        },
        "id": "VoxAfEmewHCU",
        "outputId": "c9478d0b-7101-414f-b335-069c3ab699fb"
      },
      "execution_count": 235,
      "outputs": [
        {
          "output_type": "display_data",
          "data": {
            "text/plain": [
              "<Figure size 432x288 with 1 Axes>"
            ],
            "image/png": "[encoded data removed]"
          },
          "metadata": {
            "needs_background": "light"
          }
        }
      ]
    },
    {
      "cell_type": "code",
      "source": [
        "fig, ax = plt.subplots()\n",
        "ax.plot(length_exhaustive_search_gpu, times_exhaustive_search_gpu, 'y')\n",
        "plt.show()"
      ],
      "metadata": {
        "colab": {
          "base_uri": "https://localhost:8080/",
          "height": 265
        },
        "id": "HPt6vEMSJZSg",
        "outputId": "883f7830-6173-47de-fe67-8e81e81ae314"
      },
      "execution_count": 236,
      "outputs": [
        {
          "output_type": "display_data",
          "data": {
            "text/plain": [
              "<Figure size 432x288 with 1 Axes>"
            ],
            "image/png": "[encoded data removed]"
          },
          "metadata": {
            "needs_background": "light"
          }
        }
      ]
    },
    {
      "cell_type": "markdown",
      "source": [
        "### Conclusão"
      ],
      "metadata": {
        "id": "qHPEFeGxzjTH"
      }
    },
    {
      "cell_type": "markdown",
      "source": [
        "A medida que as entradas vão aumentando o tempo de execução também aumenta. O que acontece com a busca exaustiva é mais gritante pois de entradas 20x20 para entradas 30x30 o código executa com uma diferença de quase 200 segundos. Quando implentamos o openMP para a busca exaustiva esse número diminiu um pouco. E quando implementamos openMP mais o Thrust esse número diminui muito e conseguimos rodar entradas de até 2000 elementos."
      ],
      "metadata": {
        "id": "mrYhrnJVzoTH"
      }
    },
    {
      "cell_type": "code",
      "source": [
        ""
      ],
      "metadata": {
        "id": "eCkZXk88zmqv"
      },
      "execution_count": null,
      "outputs": []
    }
  ]
}