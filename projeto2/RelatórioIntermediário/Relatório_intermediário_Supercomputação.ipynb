{
  "nbformat": 4,
  "nbformat_minor": 0,
  "metadata": {
    "colab": {
      "name": "Relatório intermediário Supercomputação.ipynb",
      "provenance": [],
      "collapsed_sections": []
    },
    "kernelspec": {
      "name": "python3",
      "display_name": "Python 3"
    },
    "language_info": {
      "name": "python"
    }
  },
  "cells": [
    {
      "cell_type": "markdown",
      "source": [
        "### Instalando o Valgrind"
      ],
      "metadata": {
        "id": "V_oLN3stM93b"
      }
    },
    {
      "cell_type": "code",
      "execution_count": 31,
      "metadata": {
        "colab": {
          "base_uri": "https://localhost:8080/"
        },
        "id": "73tSbiCne_6C",
        "outputId": "032e6ada-a6d1-4b52-d4e6-f2314cc42ea5"
      },
      "outputs": [
        {
          "output_type": "stream",
          "name": "stdout",
          "text": [
            "Reading package lists... Done\n",
            "Building dependency tree       \n",
            "Reading state information... Done\n",
            "The following packages were automatically installed and are no longer required:\n",
            "  libnvidia-common-460 nsight-compute-2020.2.0\n",
            "Use 'apt autoremove' to remove them.\n",
            "The following additional packages will be installed:\n",
            "  gdb gdbserver libbabeltrace1 libc6-dbg libdw1\n",
            "Suggested packages:\n",
            "  gdb-doc valgrind-dbg valgrind-mpi kcachegrind alleyoop valkyrie\n",
            "The following NEW packages will be installed:\n",
            "  gdb gdbserver libbabeltrace1 libc6-dbg libdw1 valgrind\n",
            "0 upgraded, 6 newly installed, 0 to remove and 42 not upgraded.\n",
            "Need to get 23.0 MB of archives.\n",
            "After this operation, 126 MB of additional disk space will be used.\n",
            "Get:1 http://archive.ubuntu.com/ubuntu bionic-updates/main amd64 libdw1 amd64 0.170-0.4ubuntu0.1 [203 kB]\n",
            "Get:2 http://archive.ubuntu.com/ubuntu bionic/main amd64 libbabeltrace1 amd64 1.5.5-1 [154 kB]\n",
            "Get:3 http://archive.ubuntu.com/ubuntu bionic-updates/main amd64 gdb amd64 8.1.1-0ubuntu1 [2,937 kB]\n",
            "Get:4 http://archive.ubuntu.com/ubuntu bionic-updates/main amd64 gdbserver amd64 8.1.1-0ubuntu1 [282 kB]\n",
            "Get:5 http://archive.ubuntu.com/ubuntu bionic-updates/main amd64 libc6-dbg amd64 2.27-3ubuntu1.5 [5,163 kB]\n",
            "Get:6 http://archive.ubuntu.com/ubuntu bionic-updates/main amd64 valgrind amd64 1:3.13.0-2ubuntu2.3 [14.3 MB]\n",
            "Fetched 23.0 MB in 0s (46.6 MB/s)\n",
            "Selecting previously unselected package libdw1:amd64.\n",
            "(Reading database ... 155202 files and directories currently installed.)\n",
            "Preparing to unpack .../0-libdw1_0.170-0.4ubuntu0.1_amd64.deb ...\n",
            "Unpacking libdw1:amd64 (0.170-0.4ubuntu0.1) ...\n",
            "Selecting previously unselected package libbabeltrace1:amd64.\n",
            "Preparing to unpack .../1-libbabeltrace1_1.5.5-1_amd64.deb ...\n",
            "Unpacking libbabeltrace1:amd64 (1.5.5-1) ...\n",
            "Selecting previously unselected package gdb.\n",
            "Preparing to unpack .../2-gdb_8.1.1-0ubuntu1_amd64.deb ...\n",
            "Unpacking gdb (8.1.1-0ubuntu1) ...\n",
            "Selecting previously unselected package gdbserver.\n",
            "Preparing to unpack .../3-gdbserver_8.1.1-0ubuntu1_amd64.deb ...\n",
            "Unpacking gdbserver (8.1.1-0ubuntu1) ...\n",
            "Selecting previously unselected package libc6-dbg:amd64.\n",
            "Preparing to unpack .../4-libc6-dbg_2.27-3ubuntu1.5_amd64.deb ...\n",
            "Unpacking libc6-dbg:amd64 (2.27-3ubuntu1.5) ...\n",
            "Selecting previously unselected package valgrind.\n",
            "Preparing to unpack .../5-valgrind_1%3a3.13.0-2ubuntu2.3_amd64.deb ...\n",
            "Unpacking valgrind (1:3.13.0-2ubuntu2.3) ...\n",
            "Setting up libc6-dbg:amd64 (2.27-3ubuntu1.5) ...\n",
            "Setting up libdw1:amd64 (0.170-0.4ubuntu0.1) ...\n",
            "Setting up gdbserver (8.1.1-0ubuntu1) ...\n",
            "Setting up valgrind (1:3.13.0-2ubuntu2.3) ...\n",
            "Setting up libbabeltrace1:amd64 (1.5.5-1) ...\n",
            "Setting up gdb (8.1.1-0ubuntu1) ...\n",
            "Processing triggers for man-db (2.8.3-2ubuntu0.1) ...\n",
            "Processing triggers for libc-bin (2.27-3ubuntu1.3) ...\n",
            "/sbin/ldconfig.real: /usr/local/lib/python3.7/dist-packages/ideep4py/lib/libmkldnn.so.0 is not a symbolic link\n",
            "\n"
          ]
        }
      ],
      "source": [
        "!apt-get install valgrind"
      ]
    },
    {
      "cell_type": "markdown",
      "source": [
        "### Instalando o C++"
      ],
      "metadata": {
        "id": "vZHLHKG-M23w"
      }
    },
    {
      "cell_type": "code",
      "source": [
        "!git config --global url.\"https://\".insteadOf git://\n",
        "!pip install git+git://github.com/canesche/nvcc4jupyter.git\n",
        "!git clone https://github.com/canesche/nvcc4jupyter\n",
        "%load_ext nvcc_plugin"
      ],
      "metadata": {
        "colab": {
          "base_uri": "https://localhost:8080/"
        },
        "id": "xadi4DTWiyoq",
        "outputId": "e13bab6a-1f28-40c1-bb98-603b3ff13300"
      },
      "execution_count": 33,
      "outputs": [
        {
          "output_type": "stream",
          "name": "stdout",
          "text": [
            "Collecting git+git://github.com/canesche/nvcc4jupyter.git\n",
            "  Cloning git://github.com/canesche/nvcc4jupyter.git to /tmp/pip-req-build-j81ohel0\n",
            "  Running command git clone -q git://github.com/canesche/nvcc4jupyter.git /tmp/pip-req-build-j81ohel0\n",
            "Building wheels for collected packages: ColabPlugin\n",
            "  Building wheel for ColabPlugin (setup.py) ... \u001b[?25l\u001b[?25hdone\n",
            "  Created wheel for ColabPlugin: filename=ColabPlugin-blind-py3-none-any.whl size=12727 sha256=33afe4140db6a9b4dcecc8905bcd81dfa0bc1ffb8cf79b3d9aa6ff1deba39397\n",
            "  Stored in directory: /tmp/pip-ephem-wheel-cache-nht3ic_9/wheels/97/a0/61/b9e5e1f61c5cfd624df291d57f6731a0f5832606b9ced448ef\n",
            "\u001b[33m  WARNING: Built wheel for ColabPlugin is invalid: Metadata 1.2 mandates PEP 440 version, but 'blind' is not\u001b[0m\n",
            "Failed to build ColabPlugin\n",
            "Installing collected packages: ColabPlugin\n",
            "    Running setup.py install for ColabPlugin ... \u001b[?25l\u001b[?25hdone\n",
            "\u001b[33m  DEPRECATION: ColabPlugin was installed using the legacy 'setup.py install' method, because a wheel could not be built for it. A possible replacement is to fix the wheel build issue reported above. You can find discussion regarding this at https://github.com/pypa/pip/issues/8368.\u001b[0m\n",
            "Successfully installed ColabPlugin-blind\n",
            "fatal: destination path 'nvcc4jupyter' already exists and is not an empty directory.\n"
          ]
        }
      ]
    },
    {
      "cell_type": "markdown",
      "source": [
        "Criando o arquivo da heurística"
      ],
      "metadata": {
        "id": "bEaQMJwyMxUS"
      }
    },
    {
      "cell_type": "code",
      "source": [
        "%%writefile heuristica.cpp\n",
        "#include <iostream>\n",
        "#include <vector>\n",
        "#include <algorithm>\n",
        "\n",
        "using namespace std;\n",
        "struct dna\n",
        "{\n",
        "    int id;\n",
        "    char dna_value;\n",
        "};\n",
        "\n",
        "struct dna_matrix\n",
        "{\n",
        "    int id;\n",
        "    int value;\n",
        "    int x_last;\n",
        "    int y_last;\n",
        "    int x_current;\n",
        "    int y_current;\n",
        "    char x_value;\n",
        "    char y_value;\n",
        "};\n",
        "\n",
        "int main() {\n",
        "\n",
        "    // Defining n and m. Value of n is the length of the first sequence. Value of m is the length of the second sequence.\n",
        "    int n; int m;\n",
        "\n",
        "    // Reads n and m. \n",
        "    cin >> n >> m;\n",
        "\n",
        "    // Defining the two vectors that receive the sequences.\n",
        "    vector<dna> dnas_first_seq;\n",
        "    vector<dna> dnas_second_seq;\n",
        "\n",
        "    // Reserving n and m length on the vectors.\n",
        "    dnas_first_seq.reserve(n);\n",
        "    dnas_second_seq.reserve(m);\n",
        "\n",
        "    dna dna_next;\n",
        "\n",
        "    // Reads the first sequence and completes the dna_first_seq vector with the sequence.\n",
        "    for(int i = 0; i < n; i++) {\n",
        "        cin >> dna_next.dna_value;\n",
        "        dna_next.id = i;\n",
        "        dnas_first_seq.push_back(dna_next);\n",
        "    }\n",
        "\n",
        "    // Reads the second sequence and completes the dna_second_seq vector with the sequence.\n",
        "    for(int i = 0; i < m; i++) {\n",
        "        cin >> dna_next.dna_value;\n",
        "        dna_next.id = i;\n",
        "        dnas_second_seq.push_back(dna_next);\n",
        "    }\n",
        "\n",
        "    // Creating the matrix that will be used to Smith-Waterman algorithm.\n",
        "    vector<vector<dna_matrix> > matrix;\n",
        "\n",
        "    vector<dna_matrix> line;\n",
        "\n",
        "    dna_matrix line_matrix;\n",
        "\n",
        "    // Creating the first line of zeros of the matrix.\n",
        "    for (int i = 0; i <= n; i++) {\n",
        "        line_matrix.id = i;\n",
        "        line_matrix.value = 0;\n",
        "        line_matrix.x_last = 0;\n",
        "        line_matrix.y_last = 0;\n",
        "        line.push_back(line_matrix);\n",
        "    }\n",
        "    matrix.push_back(line);\n",
        "\n",
        "    // Creating the first column with zeros of the matrix.\n",
        "    for (int i = 1; i <= n; i++) {\n",
        "        vector<dna_matrix> line_loop;\n",
        "        for (int j = 0; j <= m; j++) {\n",
        "            if (j == 0){\n",
        "                line_loop.push_back(line_matrix);\n",
        "            } else {\n",
        "                line_loop.push_back(line_matrix);\n",
        "            }\n",
        "        }\n",
        "        matrix.push_back(line_loop);\n",
        "    }\n",
        "\n",
        "    // Loop over the matrix\n",
        "    for (int i = 1; i <= n; i++) {\n",
        "        for (int j = 1; j <= m; j++) {\n",
        "            int diagonal = 0;\n",
        "\n",
        "            matrix[i][j].x_value = dnas_first_seq[i-1].dna_value;\n",
        "            matrix[i][j].y_value = dnas_second_seq[j-1].dna_value;\n",
        "\n",
        "            // Calculate the diagonal. Seeing if its a mismatch, a gap or a match.\n",
        "            if (dnas_first_seq[i-1].dna_value == dnas_second_seq[j-1].dna_value) {\n",
        "                diagonal = matrix[i-1][j-1].value + 2;\n",
        "            } else {\n",
        "                diagonal = matrix[i-1][j-1].value - 1;\n",
        "            }\n",
        "\n",
        "            // Calculate the delection.\n",
        "            int delection = matrix[i-1][j].value - 1;\n",
        "            // Calculate the insertion.\n",
        "            int insertion = matrix[i][j-1].value - 1;\n",
        "            // Get the maximum between diagonal, delection, insertion and 0.\n",
        "            int max_between_diagonal_delection = max(diagonal,delection);\n",
        "            int max_between_diagonal_delection_insertion = max(max_between_diagonal_delection, insertion);\n",
        "            int max_between_diagonal_delection_insertion_zero = max(max_between_diagonal_delection_insertion, 0);\n",
        "            matrix[i][j].value = max_between_diagonal_delection_insertion_zero;\n",
        "\n",
        "            if (max_between_diagonal_delection_insertion_zero == diagonal) {\n",
        "                matrix[i][j].x_last = i - 1;\n",
        "                matrix[i][j].y_last = j - 1;\n",
        "                matrix[i][j].x_current = i;\n",
        "                matrix[i][j].y_current = j;\n",
        "            } else if (max_between_diagonal_delection_insertion_zero == delection) {\n",
        "                matrix[i][j].x_last = i - 1;\n",
        "                matrix[i][j].y_last = j;\n",
        "                matrix[i][j].x_current = i;\n",
        "                matrix[i][j].y_current = j;\n",
        "            } else if (max_between_diagonal_delection_insertion_zero == insertion) {\n",
        "                matrix[i][j].x_last = i;\n",
        "                matrix[i][j].y_last = j - 1;\n",
        "                matrix[i][j].x_current = i;\n",
        "                matrix[i][j].y_current = j;\n",
        "            } else {\n",
        "                matrix[i][j].x_last = i - 1;\n",
        "                matrix[i][j].y_last = j - 1;\n",
        "                matrix[i][j].x_current = i;\n",
        "                matrix[i][j].y_current = j;\n",
        "            }\n",
        "        }\n",
        "    }\n",
        "\n",
        "    // for(auto& el: matrix) {\n",
        "    //    for(auto& element: el) {\n",
        "    //        cout << element.value;\n",
        "    //    }\n",
        "    //    cout << endl;\n",
        "    // }\n",
        "\n",
        "    // Get the max element of the matrix.\n",
        "    dna_matrix max_element;\n",
        "    for (int i = 0; i <= n; i++) {\n",
        "        for (int j = 0; j <= m; j++) {\n",
        "            if (matrix[i][j].value > max_element.value) {\n",
        "                max_element = matrix[i][j];\n",
        "            }\n",
        "        }\n",
        "    }\n",
        "\n",
        "    int i = max_element.x_current;\n",
        "    int j = max_element.y_current;\n",
        "    int value_max_element = max_element.value;\n",
        "\n",
        "    vector<char> first_seq_answer;\n",
        "    vector<char> second_seq_answer;\n",
        "\n",
        "    // Get the best sequence.\n",
        "    while (matrix[i][j].x_current != 0 || matrix[i][j].y_current != 0) {\n",
        "\n",
        "        first_seq_answer.push_back(matrix[i][j].x_value);\n",
        "        second_seq_answer.push_back(matrix[i][j].y_value);\n",
        "\n",
        "        i = matrix[i][j].x_last;\n",
        "        j = matrix[i][j].y_last;\n",
        "\n",
        "        if (matrix[i][j].x_current == 0 || matrix[i][j].y_current == 0) {\n",
        "            first_seq_answer.push_back(matrix[i][j].x_value);\n",
        "            second_seq_answer.push_back(matrix[i][j].y_value);\n",
        "            break;\n",
        "        }\n",
        "    }\n",
        "\n",
        "    for (auto& el: first_seq_answer) {\n",
        "        cout << el;\n",
        "    }\n",
        "\n",
        "    cout << endl;\n",
        "\n",
        "    for (auto& el: second_seq_answer) {\n",
        "        cout << el;\n",
        "    }\n",
        "\n",
        "    return 0;\n",
        "}\n",
        "\n"
      ],
      "metadata": {
        "colab": {
          "base_uri": "https://localhost:8080/"
        },
        "id": "ZUJh8gjkkNkO",
        "outputId": "ba7363f1-a113-4ea9-8e2a-c0d0c3f3fe99"
      },
      "execution_count": 8,
      "outputs": [
        {
          "output_type": "stream",
          "name": "stdout",
          "text": [
            "Overwriting heuristica.cpp\n"
          ]
        }
      ]
    },
    {
      "cell_type": "code",
      "source": [
        "!g++ -g heuristica.cpp -o heuristica"
      ],
      "metadata": {
        "id": "pEGeJ7fPkaap"
      },
      "execution_count": 9,
      "outputs": []
    },
    {
      "cell_type": "markdown",
      "source": [
        "### Criando o primeiro arquivo de entrada contendo duas sequências de 1000 elementos"
      ],
      "metadata": {
        "id": "_mX-2gl2NGJd"
      }
    },
    {
      "cell_type": "code",
      "source": [
        "%%writefile in4.txt\n",
        "1000\n",
        "1000\n",
        "AT-TT-GGGGC--CCGC-GATCCC-AC-G-CAG-GC-CGCCT-C-AGTT-GTTT-TCCGAAATGT--T-G-A-TTGGCA-ATCTGTT--A-C-CGGGCATCT-GGGC-C-ATCTACT-G-GTCTTA-ATTAGGTTGTTA-AT-CA-GGCCAGAAGGAAA--TGTATA-GTTTCAG-CA--GAT--CTTCAACACAGTA--TA-AGCAAG-CGGC-TC-GCTGCTGAGTGATTGT-CGAAC--ATGAGTT--GGTGC-ATTT-ATGTT--CTAATATCT-GCAGCGAAGACTAGGTAC-GTGG-C-ACCGTCCAGAGGAAAT-GGCTTAGCTCTAG-GCCTCTCGTTTT-GA-ATGG-G-C-GGTGC-C-CGG-A-CCTAC-C-GT--GGCGC-CCCT-TAAGGACA--CTC-GCCCACGG--AGAGA-TAT-GACA-G-TTGGACCACAT-C-CA-GTT-C-AGG-CCGTGAA---CAGTGATC-TACTAT-TT-C-CGT--GGTG--GTAGTAGAG-T--CTTCC-AAGA-TAGAACTACAC-GTAT-TAG-CGG-T--TAAA-CTTAGTAGCTGA-CATT-GGA-AAT-GCTTCCGCGCCAG-CTACACGCA-TGAAGT-CTTAGAG-TG-GGTGTTCACGGATC-GAAGCGTCGG-GGACGTACGGTTTGGA--GT-CG--CT--TG-A-AAACCTCT-T-CT-GAT-AGCTAGGTG-ACACGTCTTTGGTG-TCAATAAA-A-AGTTGGGC-AGGT-TATTA-CTAC-TAAGAC--CGA-CT-GCTGG-TT-GGTGCCT-AA--CGGCTGATA-CCTGTT-TA-GAGCCT-TTTGCAT-C-TATAC-ACG-TACA-AA--GTTTAA---T-GAGTC---CGT-GC-GACGCTTT--G-TCAC-CGCG--AGTGTAG-G-GCGC-AAAT-AG-GTG-CGC-T-TTAGC-CCACGTG--TGT-GAC--TA-A-TAAA-C-GTCACC-TGAA-TG-GTG\n",
        "G-AG-TTT-GTGTGC-AGAAATGCTCGTCATCT-TTGA-CA-CTAGTTATGC-AGGTTC-C-CCACCGCG-GA-ACTATCGTGCTGCATAGCACCAA-GGGAGTTGACTGG-GG--CTCATAC-G--ACTG--GCCAGCTT-AGCGGTACCGATCGGAT---TGCGCTGTA-ACCCATG-CCA-GACATCCTGCT-T-CGTCCCAGCGCGTCTAGTGTTTAC-GA--ACATG-G--GAT-G-CATGGTA-CGTAGTC-C-CCACAATT--T-TCTCTCCGGCGAGC-TAA--GGAA--T-T-CG-ACGAGC-T-TGAAA--C-TGGCTA-----T--CAT-CCGC--ACCTGGCACT---GGAGTGACTGAACG-GAGTGCCGTGAAGC---CGGAGG-AAAAT-AGCT-TGCCAGCCACC-CG--C-ACGGTCG-GTT-CAC-ACG--GCAAAG--TA-GGAACGGGTCCG-CCA-AACCGGAGATT-TGT-TA-T-T-TGCTCCACG-G--C-GTGA-GGGGCAA-T-GTACTCTT--GAGCATTGCT-CTTACTTACGTTG-TA-G-ACGTAGTGAGTGCGAC-GGAGTC--GACCCGCCTTGCCG-AAAACGTGTATTCGACT-C-TTGG-GC-GTTATATCT--AT-TCGTTG-TCCATGTAA----TA-GATTT-TA-TAGGTATC-CG-TAAA-TCACGGC-ATTAT-GTCTCCAC-ACTATTACT-AA-CGGTTGATA-G-CTTATG---AATAAGGG-TTTCTATT-AGATCCGTCGGGA-GAGG-A---GTATATGA-G--GGAC-GG-AAC--AGGGCATGCGCT--AT-TTACTGCG--TCCCA-GAT-A-CGGG-GGTTAACT-TTTCCG-ACC-ACGCTGGCTG-A-CAG-ACG--GTC---A-GCA-TTAG-G-GCACA-CTCTGGATGGCA-AGTTTC-ATTTG-AGA-TTAT-TGATC-A-ATGGA-C--GAC-TG-GTTCAG"
      ],
      "metadata": {
        "colab": {
          "base_uri": "https://localhost:8080/"
        },
        "id": "ARxxWM2XkajA",
        "outputId": "6e56c6e3-e776-467f-c330-da44486ce13a"
      },
      "execution_count": 29,
      "outputs": [
        {
          "output_type": "stream",
          "name": "stdout",
          "text": [
            "Writing in4.txt\n"
          ]
        }
      ]
    },
    {
      "cell_type": "markdown",
      "source": [
        "### Executando o valgrind e o callgrind annotate para a heurística"
      ],
      "metadata": {
        "id": "KSg9ctyENRfi"
      }
    },
    {
      "cell_type": "code",
      "source": [
        "!valgrind --tool=callgrind ./heuristica < in4.txt"
      ],
      "metadata": {
        "colab": {
          "base_uri": "https://localhost:8080/"
        },
        "id": "gYGkb8Jfka6S",
        "outputId": "64708450-3799-42a9-950a-8810b92f03f5"
      },
      "execution_count": 11,
      "outputs": [
        {
          "output_type": "stream",
          "name": "stdout",
          "text": [
            "==616== Callgrind, a call-graph generating cache profiler\n",
            "==616== Copyright (C) 2002-2017, and GNU GPL'd, by Josef Weidendorfer et al.\n",
            "==616== Using Valgrind-3.13.0 and LibVEX; rerun with -h for copyright info\n",
            "==616== Command: ./heuristica\n",
            "==616== \n",
            "==616== For interactive control, run 'callgrind_control -h'.\n",
            "==616== brk segment overflow in thread #1: can't grow to 0x4a2c000\n",
            "==616== (see section Limitations in user manual)\n",
            "==616== NOTE: further instances of this message will not be shown\n",
            "==616== \n",
            "==616== Process terminating with default action of signal 2 (SIGINT)\n",
            "==616==    at 0x109993: main (heuristica.cpp:162)\n",
            "==616== \n",
            "==616== Events    : Ir\n",
            "==616== Collected : 52984901045\n",
            "==616== \n",
            "==616== I   refs:      52,984,901,045\n",
            "^C\n"
          ]
        }
      ]
    },
    {
      "cell_type": "code",
      "source": [
        "!callgrind_annotate callgrind.out.616 heuristica.cpp "
      ],
      "metadata": {
        "colab": {
          "base_uri": "https://localhost:8080/"
        },
        "id": "t7vXApy9ka-j",
        "outputId": "e2260e82-b254-4943-d0be-9e5c534fd472"
      },
      "execution_count": 13,
      "outputs": [
        {
          "output_type": "stream",
          "name": "stdout",
          "text": [
            "--------------------------------------------------------------------------------\n",
            "Profile data file 'callgrind.out.616' (creator: callgrind-3.13.0)\n",
            "--------------------------------------------------------------------------------\n",
            "I1 cache: \n",
            "D1 cache: \n",
            "LL cache: \n",
            "Timerange: Basic block 0 - 7154849305\n",
            "Trigger: Program termination\n",
            "Profiled target:  ./heuristica (PID 616, part 1)\n",
            "Events recorded:  Ir\n",
            "Events shown:     Ir\n",
            "Event sort order: Ir\n",
            "Thresholds:       99\n",
            "Include dirs:     \n",
            "User annotated:   heuristica.cpp\n",
            "Auto-annotation:  off\n",
            "\n",
            "--------------------------------------------------------------------------------\n",
            "            Ir \n",
            "--------------------------------------------------------------------------------\n",
            "52,984,901,045  PROGRAM TOTALS\n",
            "\n",
            "--------------------------------------------------------------------------------\n",
            "            Ir  file:function\n",
            "--------------------------------------------------------------------------------\n",
            "11,942,416,469  heuristica.cpp:main [/content/heuristica]\n",
            "10,863,182,792  /usr/include/c++/7/bits/stl_vector.h:std::vector<std::vector<dna_matrix, std::allocator<dna_matrix> >, std::allocator<std::vector<dna_matrix, std::allocator<dna_matrix> > > >::operator[](unsigned long) [/content/heuristica]\n",
            "10,863,182,792  /usr/include/c++/7/bits/stl_vector.h:std::vector<dna_matrix, std::allocator<dna_matrix> >::operator[](unsigned long) [/content/heuristica]\n",
            " 5,900,958,910  /usr/include/c++/7/bits/stl_vector.h:std::vector<char, std::allocator<char> >::push_back(char const&) [/content/heuristica]\n",
            " 5,026,742,966  /usr/include/c++/7/ext/new_allocator.h:void __gnu_cxx::new_allocator<char>::construct<char, char const&>(char*, char const&) [/content/heuristica]\n",
            " 3,933,972,756  /usr/include/c++/7/bits/alloc_traits.h:void std::allocator_traits<std::allocator<char> >::construct<char, char const&>(std::allocator<char>&, char*, char const&) [/content/heuristica]\n",
            " 2,622,648,840  /usr/include/c++/7/bits/move.h:char const& std::forward<char const&>(std::remove_reference<char const&>::type&) [/content/heuristica]\n",
            " 1,536,920,469  /usr/include/c++/7/new:operator new(unsigned long, void*) [/content/heuristica]\n",
            "\n",
            "--------------------------------------------------------------------------------\n",
            "-- User-annotated source: heuristica.cpp\n",
            "--------------------------------------------------------------------------------\n",
            "           Ir \n",
            "\n",
            "-- line 16 ----------------------------------------\n",
            "            .      int x_last;\n",
            "            .      int y_last;\n",
            "            .      int x_current;\n",
            "            .      int y_current;\n",
            "            .      char x_value;\n",
            "            .      char y_value;\n",
            "            .  };\n",
            "            .  \n",
            "            8  int main() {\n",
            "            .  \n",
            "            .      // Defining n and m. Value of n is the length of the first sequence. Value of m is the length of the second sequence.\n",
            "            .      int n; int m;\n",
            "            .  \n",
            "            .      // Reads n and m. \n",
            "           11      cin >> n >> m;\n",
            "       12,063  => ???:std::istream::operator>>(int&) (2x)\n",
            "            .  \n",
            "            .      // Defining the two vectors that receive the sequences.\n",
            "            3      vector<dna> dnas_first_seq;\n",
            "           52  => /usr/include/c++/7/bits/stl_vector.h:std::vector<dna, std::allocator<dna> >::vector() (1x)\n",
            "            3      vector<dna> dnas_second_seq;\n",
            "           52  => /usr/include/c++/7/bits/stl_vector.h:std::vector<dna, std::allocator<dna> >::vector() (1x)\n",
            "            .  \n",
            "            .      // Reserving n and m length on the vectors.\n",
            "            6      dnas_first_seq.reserve(n);\n",
            "        2,123  => /usr/include/c++/7/bits/vector.tcc:std::vector<dna, std::allocator<dna> >::reserve(unsigned long) (1x)\n",
            "            6      dnas_second_seq.reserve(m);\n",
            "          798  => /usr/include/c++/7/bits/vector.tcc:std::vector<dna, std::allocator<dna> >::reserve(unsigned long) (1x)\n",
            "            .  \n",
            "            .      dna dna_next;\n",
            "            .  \n",
            "            .      // Reads the first sequence and completes the dna_first_seq vector with the sequence.\n",
            "        5,004      for(int i = 0; i < n; i++) {\n",
            "        6,000          cin >> dna_next.dna_value;\n",
            "      252,096  => ???:std::basic_istream<char, std::char_traits<char> >& std::operator>><char, std::char_traits<char> >(std::basic_istream<char, std::char_traits<char> >&, char&) (1000x)\n",
            "        2,000          dna_next.id = i;\n",
            "        5,000          dnas_first_seq.push_back(dna_next);\n",
            "       88,000  => /usr/include/c++/7/bits/stl_vector.h:std::vector<dna, std::allocator<dna> >::push_back(dna const&) (1000x)\n",
            "            .      }\n",
            "            .  \n",
            "            .      // Reads the second sequence and completes the dna_second_seq vector with the sequence.\n",
            "        5,004      for(int i = 0; i < m; i++) {\n",
            "        6,000          cin >> dna_next.dna_value;\n",
            "      252,096  => ???:std::basic_istream<char, std::char_traits<char> >& std::operator>><char, std::char_traits<char> >(std::basic_istream<char, std::char_traits<char> >&, char&) (1000x)\n",
            "        2,000          dna_next.id = i;\n",
            "        5,000          dnas_second_seq.push_back(dna_next);\n",
            "       88,000  => /usr/include/c++/7/bits/stl_vector.h:std::vector<dna, std::allocator<dna> >::push_back(dna const&) (1000x)\n",
            "            .      }\n",
            "            .  \n",
            "            .      // Creating the matrix that will be used to Smith-Waterman algorithm.\n",
            "            3      vector<vector<dna_matrix> > matrix;\n",
            "           52  => /usr/include/c++/7/bits/stl_vector.h:std::vector<std::vector<dna_matrix, std::allocator<dna_matrix> >, std::allocator<std::vector<dna_matrix, std::allocator<dna_matrix> > > >::vector() (1x)\n",
            "            .  \n",
            "            3      vector<dna_matrix> line;\n",
            "           52  => /usr/include/c++/7/bits/stl_vector.h:std::vector<dna_matrix, std::allocator<dna_matrix> >::vector() (1x)\n",
            "            .  \n",
            "            .      dna_matrix line_matrix;\n",
            "            .  \n",
            "            .      // Creating the first line of zeros of the matrix.\n",
            "        5,009      for (int i = 0; i <= n; i++) {\n",
            "        2,002          line_matrix.id = i;\n",
            "        1,001          line_matrix.value = 0;\n",
            "        1,001          line_matrix.x_last = 0;\n",
            "        1,001          line_matrix.y_last = 0;\n",
            "        5,005          line.push_back(line_matrix);\n",
            "      148,257  => /usr/include/c++/7/bits/stl_vector.h:std::vector<dna_matrix, std::allocator<dna_matrix> >::push_back(dna_matrix const&) (1001x)\n",
            "            .      }\n",
            "            5      matrix.push_back(line);\n",
            "       31,180  => /usr/include/c++/7/bits/stl_vector.h:std::vector<std::vector<dna_matrix, std::allocator<dna_matrix> >, std::allocator<std::vector<dna_matrix, std::allocator<dna_matrix> > > >::push_back(std::vector<dna_matrix, std::allocator<dna_matrix> > const&) (1x)\n",
            "            .  \n",
            "            .      // Creating the first column with zeros of the matrix.\n",
            "        5,004      for (int i = 1; i <= n; i++) {\n",
            "        6,000          vector<dna_matrix> line_loop;\n",
            "       52,000  => /usr/include/c++/7/bits/stl_vector.h:std::vector<dna_matrix, std::allocator<dna_matrix> >::vector() (1000x)\n",
            "      210,845  => /usr/include/c++/7/bits/stl_vector.h:std::vector<dna_matrix, std::allocator<dna_matrix> >::~vector() (1000x)\n",
            "    5,009,000          for (int j = 0; j <= m; j++) {\n",
            "    2,002,000              if (j == 0){\n",
            "        6,000                  line_loop.push_back(line_matrix);\n",
            "    1,282,002  => /usr/include/c++/7/bits/stl_vector.h:std::vector<dna_matrix, std::allocator<dna_matrix> >::push_back(dna_matrix const&) (1000x)\n",
            "            .              } else {\n",
            "    5,000,000                  line_loop.push_back(line_matrix);\n",
            "  130,207,427  => /usr/include/c++/7/bits/stl_vector.h:std::vector<dna_matrix, std::allocator<dna_matrix> >::push_back(dna_matrix const&) (1000000x)\n",
            "            .              }\n",
            "            .          }\n",
            "        5,000          matrix.push_back(line_loop);\n",
            "   31,143,553  => /usr/include/c++/7/bits/stl_vector.h:std::vector<std::vector<dna_matrix, std::allocator<dna_matrix> >, std::allocator<std::vector<dna_matrix, std::allocator<dna_matrix> > > >::push_back(std::vector<dna_matrix, std::allocator<dna_matrix> > const&) (1000x)\n",
            "            .      }\n",
            "            .  \n",
            "            .      // Loop over the matrix\n",
            "        5,004      for (int i = 1; i <= n; i++) {\n",
            "    5,004,000          for (int j = 1; j <= m; j++) {\n",
            "    1,000,000              int diagonal = 0;\n",
            "            .  \n",
            "   22,000,000              matrix[i][j].x_value = dnas_first_seq[i-1].dna_value;\n",
            "   14,000,000  => /usr/include/c++/7/bits/stl_vector.h:std::vector<dna_matrix, std::allocator<dna_matrix> >::operator[](unsigned long) (1000000x)\n",
            "   11,000,000  => /usr/include/c++/7/bits/stl_vector.h:std::vector<dna, std::allocator<dna> >::operator[](unsigned long) (1000000x)\n",
            "   14,000,000  => /usr/include/c++/7/bits/stl_vector.h:std::vector<std::vector<dna_matrix, std::allocator<dna_matrix> >, std::allocator<std::vector<dna_matrix, std::allocator<dna_matrix> > > >::operator[](unsigned long) (1000000x)\n",
            "   22,000,000              matrix[i][j].y_value = dnas_second_seq[j-1].dna_value;\n",
            "   14,000,000  => /usr/include/c++/7/bits/stl_vector.h:std::vector<std::vector<dna_matrix, std::allocator<dna_matrix> >, std::allocator<std::vector<dna_matrix, std::allocator<dna_matrix> > > >::operator[](unsigned long) (1000000x)\n",
            "   11,000,000  => /usr/include/c++/7/bits/stl_vector.h:std::vector<dna, std::allocator<dna> >::operator[](unsigned long) (1000000x)\n",
            "   14,000,000  => /usr/include/c++/7/bits/stl_vector.h:std::vector<dna_matrix, std::allocator<dna_matrix> >::operator[](unsigned long) (1000000x)\n",
            "            .  \n",
            "            .              // Calculate the diagonal. Seeing if its a mismatch, a gap or a match.\n",
            "   20,000,000              if (dnas_first_seq[i-1].dna_value == dnas_second_seq[j-1].dna_value) {\n",
            "   22,000,000  => /usr/include/c++/7/bits/stl_vector.h:std::vector<dna, std::allocator<dna> >::operator[](unsigned long) (2000000x)\n",
            "    3,412,036                  diagonal = matrix[i-1][j-1].value + 2;\n",
            "    2,809,912  => /usr/include/c++/7/bits/stl_vector.h:std::vector<dna_matrix, std::allocator<dna_matrix> >::operator[](unsigned long) (200708x)\n",
            "    2,809,912  => /usr/include/c++/7/bits/stl_vector.h:std::vector<std::vector<dna_matrix, std::allocator<dna_matrix> >, std::allocator<std::vector<dna_matrix, std::allocator<dna_matrix> > > >::operator[](unsigned long) (200708x)\n",
            "            .              } else {\n",
            "   12,788,672                  diagonal = matrix[i-1][j-1].value - 1;\n",
            "   11,190,088  => /usr/include/c++/7/bits/stl_vector.h:std::vector<std::vector<dna_matrix, std::allocator<dna_matrix> >, std::allocator<std::vector<dna_matrix, std::allocator<dna_matrix> > > >::operator[](unsigned long) (799292x)\n",
            "   11,190,088  => /usr/include/c++/7/bits/stl_vector.h:std::vector<dna_matrix, std::allocator<dna_matrix> >::operator[](unsigned long) (799292x)\n",
            "            .              }\n",
            "            .  \n",
            "            .              // Calculate the delection.\n",
            "   15,000,000              int delection = matrix[i-1][j].value - 1;\n",
            "   14,000,000  => /usr/include/c++/7/bits/stl_vector.h:std::vector<std::vector<dna_matrix, std::allocator<dna_matrix> >, std::allocator<std::vector<dna_matrix, std::allocator<dna_matrix> > > >::operator[](unsigned long) (1000000x)\n",
            "   14,000,000  => /usr/include/c++/7/bits/stl_vector.h:std::vector<dna_matrix, std::allocator<dna_matrix> >::operator[](unsigned long) (1000000x)\n",
            "            .              // Calculate the insertion.\n",
            "   15,000,000              int insertion = matrix[i][j-1].value - 1;\n",
            "   14,000,000  => /usr/include/c++/7/bits/stl_vector.h:std::vector<std::vector<dna_matrix, std::allocator<dna_matrix> >, std::allocator<std::vector<dna_matrix, std::allocator<dna_matrix> > > >::operator[](unsigned long) (1000000x)\n",
            "   14,000,000  => /usr/include/c++/7/bits/stl_vector.h:std::vector<dna_matrix, std::allocator<dna_matrix> >::operator[](unsigned long) (1000000x)\n",
            "            .              // Get the maximum between diagonal, delection, insertion and 0.\n",
            "    7,000,000              int max_between_diagonal_delection = max(diagonal,delection);\n",
            "   13,248,500  => /usr/include/c++/7/bits/stl_algobase.h:int const& std::max<int>(int const&, int const&) (1000000x)\n",
            "    7,000,000              int max_between_diagonal_delection_insertion = max(max_between_diagonal_delection, insertion);\n",
            "   13,195,048  => /usr/include/c++/7/bits/stl_algobase.h:int const& std::max<int>(int const&, int const&) (1000000x)\n",
            "    8,000,000              int max_between_diagonal_delection_insertion_zero = max(max_between_diagonal_delection_insertion, 0);\n",
            "   13,001,972  => /usr/include/c++/7/bits/stl_algobase.h:int const& std::max<int>(int const&, int const&) (1000000x)\n",
            "   14,000,000              matrix[i][j].value = max_between_diagonal_delection_insertion_zero;\n",
            "   14,000,000  => /usr/include/c++/7/bits/stl_vector.h:std::vector<dna_matrix, std::allocator<dna_matrix> >::operator[](unsigned long) (1000000x)\n",
            "   14,000,000  => /usr/include/c++/7/bits/stl_vector.h:std::vector<std::vector<dna_matrix, std::allocator<dna_matrix> >, std::allocator<std::vector<dna_matrix, std::allocator<dna_matrix> > > >::operator[](unsigned long) (1000000x)\n",
            "            .  \n",
            "    3,000,000              if (max_between_diagonal_delection_insertion_zero == diagonal) {\n",
            "    8,792,115                  matrix[i][j].x_last = i - 1;\n",
            "    8,205,974  => /usr/include/c++/7/bits/stl_vector.h:std::vector<std::vector<dna_matrix, std::allocator<dna_matrix> >, std::allocator<std::vector<dna_matrix, std::allocator<dna_matrix> > > >::operator[](unsigned long) (586141x)\n",
            "    8,205,974  => /usr/include/c++/7/bits/stl_vector.h:std::vector<dna_matrix, std::allocator<dna_matrix> >::operator[](unsigned long) (586141x)\n",
            "    8,792,115                  matrix[i][j].y_last = j - 1;\n",
            "    8,205,974  => /usr/include/c++/7/bits/stl_vector.h:std::vector<dna_matrix, std::allocator<dna_matrix> >::operator[](unsigned long) (586141x)\n",
            "    8,205,974  => /usr/include/c++/7/bits/stl_vector.h:std::vector<std::vector<dna_matrix, std::allocator<dna_matrix> >, std::allocator<std::vector<dna_matrix, std::allocator<dna_matrix> > > >::operator[](unsigned long) (586141x)\n",
            "    8,205,974                  matrix[i][j].x_current = i;\n",
            "    8,205,974  => /usr/include/c++/7/bits/stl_vector.h:std::vector<dna_matrix, std::allocator<dna_matrix> >::operator[](unsigned long) (586141x)\n",
            "    8,205,974  => /usr/include/c++/7/bits/stl_vector.h:std::vector<std::vector<dna_matrix, std::allocator<dna_matrix> >, std::allocator<std::vector<dna_matrix, std::allocator<dna_matrix> > > >::operator[](unsigned long) (586141x)\n",
            "    8,792,115                  matrix[i][j].y_current = j;\n",
            "    8,205,974  => /usr/include/c++/7/bits/stl_vector.h:std::vector<std::vector<dna_matrix, std::allocator<dna_matrix> >, std::allocator<std::vector<dna_matrix, std::allocator<dna_matrix> > > >::operator[](unsigned long) (586141x)\n",
            "    8,205,974  => /usr/include/c++/7/bits/stl_vector.h:std::vector<dna_matrix, std::allocator<dna_matrix> >::operator[](unsigned long) (586141x)\n",
            "    1,241,577              } else if (max_between_diagonal_delection_insertion_zero == delection) {\n",
            "    3,252,585                  matrix[i][j].x_last = i - 1;\n",
            "    3,035,746  => /usr/include/c++/7/bits/stl_vector.h:std::vector<dna_matrix, std::allocator<dna_matrix> >::operator[](unsigned long) (216839x)\n",
            "    3,035,746  => /usr/include/c++/7/bits/stl_vector.h:std::vector<std::vector<dna_matrix, std::allocator<dna_matrix> >, std::allocator<std::vector<dna_matrix, std::allocator<dna_matrix> > > >::operator[](unsigned long) (216839x)\n",
            "    3,035,746                  matrix[i][j].y_last = j;\n",
            "    3,035,746  => /usr/include/c++/7/bits/stl_vector.h:std::vector<std::vector<dna_matrix, std::allocator<dna_matrix> >, std::allocator<std::vector<dna_matrix, std::allocator<dna_matrix> > > >::operator[](unsigned long) (216839x)\n",
            "    3,035,746  => /usr/include/c++/7/bits/stl_vector.h:std::vector<dna_matrix, std::allocator<dna_matrix> >::operator[](unsigned long) (216839x)\n",
            "    3,035,746                  matrix[i][j].x_current = i;\n",
            "    3,035,746  => /usr/include/c++/7/bits/stl_vector.h:std::vector<dna_matrix, std::allocator<dna_matrix> >::operator[](unsigned long) (216839x)\n",
            "    3,035,746  => /usr/include/c++/7/bits/stl_vector.h:std::vector<std::vector<dna_matrix, std::allocator<dna_matrix> >, std::allocator<std::vector<dna_matrix, std::allocator<dna_matrix> > > >::operator[](unsigned long) (216839x)\n",
            "    3,252,585                  matrix[i][j].y_current = j;\n",
            "    3,035,746  => /usr/include/c++/7/bits/stl_vector.h:std::vector<dna_matrix, std::allocator<dna_matrix> >::operator[](unsigned long) (216839x)\n",
            "    3,035,746  => /usr/include/c++/7/bits/stl_vector.h:std::vector<std::vector<dna_matrix, std::allocator<dna_matrix> >, std::allocator<std::vector<dna_matrix, std::allocator<dna_matrix> > > >::operator[](unsigned long) (216839x)\n",
            "      591,060              } else if (max_between_diagonal_delection_insertion_zero == insertion) {\n",
            "    2,730,672                  matrix[i][j].x_last = i;\n",
            "    2,730,672  => /usr/include/c++/7/bits/stl_vector.h:std::vector<std::vector<dna_matrix, std::allocator<dna_matrix> >, std::allocator<std::vector<dna_matrix, std::allocator<dna_matrix> > > >::operator[](unsigned long) (195048x)\n",
            "    2,730,672  => /usr/include/c++/7/bits/stl_vector.h:std::vector<dna_matrix, std::allocator<dna_matrix> >::operator[](unsigned long) (195048x)\n",
            "    2,925,720                  matrix[i][j].y_last = j - 1;\n",
            "    2,730,672  => /usr/include/c++/7/bits/stl_vector.h:std::vector<dna_matrix, std::allocator<dna_matrix> >::operator[](unsigned long) (195048x)\n",
            "    2,730,672  => /usr/include/c++/7/bits/stl_vector.h:std::vector<std::vector<dna_matrix, std::allocator<dna_matrix> >, std::allocator<std::vector<dna_matrix, std::allocator<dna_matrix> > > >::operator[](unsigned long) (195048x)\n",
            "    2,730,672                  matrix[i][j].x_current = i;\n",
            "    2,730,672  => /usr/include/c++/7/bits/stl_vector.h:std::vector<std::vector<dna_matrix, std::allocator<dna_matrix> >, std::allocator<std::vector<dna_matrix, std::allocator<dna_matrix> > > >::operator[](unsigned long) (195048x)\n",
            "    2,730,672  => /usr/include/c++/7/bits/stl_vector.h:std::vector<dna_matrix, std::allocator<dna_matrix> >::operator[](unsigned long) (195048x)\n",
            "    2,925,720                  matrix[i][j].y_current = j;\n",
            "    2,730,672  => /usr/include/c++/7/bits/stl_vector.h:std::vector<std::vector<dna_matrix, std::allocator<dna_matrix> >, std::allocator<std::vector<dna_matrix, std::allocator<dna_matrix> > > >::operator[](unsigned long) (195048x)\n",
            "    2,730,672  => /usr/include/c++/7/bits/stl_vector.h:std::vector<dna_matrix, std::allocator<dna_matrix> >::operator[](unsigned long) (195048x)\n",
            "            .              } else {\n",
            "       29,580                  matrix[i][j].x_last = i - 1;\n",
            "       27,608  => /usr/include/c++/7/bits/stl_vector.h:std::vector<std::vector<dna_matrix, std::allocator<dna_matrix> >, std::allocator<std::vector<dna_matrix, std::allocator<dna_matrix> > > >::operator[](unsigned long) (1972x)\n",
            "       27,608  => /usr/include/c++/7/bits/stl_vector.h:std::vector<dna_matrix, std::allocator<dna_matrix> >::operator[](unsigned long) (1972x)\n",
            "       29,580                  matrix[i][j].y_last = j - 1;\n",
            "       27,608  => /usr/include/c++/7/bits/stl_vector.h:std::vector<std::vector<dna_matrix, std::allocator<dna_matrix> >, std::allocator<std::vector<dna_matrix, std::allocator<dna_matrix> > > >::operator[](unsigned long) (1972x)\n",
            "       27,608  => /usr/include/c++/7/bits/stl_vector.h:std::vector<dna_matrix, std::allocator<dna_matrix> >::operator[](unsigned long) (1972x)\n",
            "       27,608                  matrix[i][j].x_current = i;\n",
            "       27,608  => /usr/include/c++/7/bits/stl_vector.h:std::vector<std::vector<dna_matrix, std::allocator<dna_matrix> >, std::allocator<std::vector<dna_matrix, std::allocator<dna_matrix> > > >::operator[](unsigned long) (1972x)\n",
            "       27,608  => /usr/include/c++/7/bits/stl_vector.h:std::vector<dna_matrix, std::allocator<dna_matrix> >::operator[](unsigned long) (1972x)\n",
            "       27,608                  matrix[i][j].y_current = j;\n",
            "       27,608  => /usr/include/c++/7/bits/stl_vector.h:std::vector<dna_matrix, std::allocator<dna_matrix> >::operator[](unsigned long) (1972x)\n",
            "       27,608  => /usr/include/c++/7/bits/stl_vector.h:std::vector<std::vector<dna_matrix, std::allocator<dna_matrix> >, std::allocator<std::vector<dna_matrix, std::allocator<dna_matrix> > > >::operator[](unsigned long) (1972x)\n",
            "            .              }\n",
            "            .          }\n",
            "            .      }\n",
            "            .  \n",
            "            .      // for(auto& el: matrix) {\n",
            "            .      //    for(auto& element: el) {\n",
            "            .      //        cout << element.value;\n",
            "            .      //    }\n",
            "            .      //    cout << endl;\n",
            "            .      // }\n",
            "            .  \n",
            "            .      // Get the max element of the matrix.\n",
            "            .      dna_matrix max_element;\n",
            "        5,009      for (int i = 0; i <= n; i++) {\n",
            "    5,014,009          for (int j = 0; j <= m; j++) {\n",
            "   17,034,017              if (matrix[i][j].value > max_element.value) {\n",
            "   14,028,014  => /usr/include/c++/7/bits/stl_vector.h:std::vector<std::vector<dna_matrix, std::allocator<dna_matrix> >, std::allocator<std::vector<dna_matrix, std::allocator<dna_matrix> > > >::operator[](unsigned long) (1002001x)\n",
            "   14,028,014  => /usr/include/c++/7/bits/stl_vector.h:std::vector<dna_matrix, std::allocator<dna_matrix> >::operator[](unsigned long) (1002001x)\n",
            "        9,580                  max_element = matrix[i][j];\n",
            "        6,706  => /usr/include/c++/7/bits/stl_vector.h:std::vector<std::vector<dna_matrix, std::allocator<dna_matrix> >, std::allocator<std::vector<dna_matrix, std::allocator<dna_matrix> > > >::operator[](unsigned long) (479x)\n",
            "        6,706  => /usr/include/c++/7/bits/stl_vector.h:std::vector<dna_matrix, std::allocator<dna_matrix> >::operator[](unsigned long) (479x)\n",
            "            .              }\n",
            "            .          }\n",
            "            .      }\n",
            "            .  \n",
            "            2      int i = max_element.x_current;\n",
            "            2      int j = max_element.y_current;\n",
            "            2      int value_max_element = max_element.value;\n",
            "            .  \n",
            "            3      vector<char> first_seq_answer;\n",
            "           38  => /usr/include/c++/7/bits/stl_vector.h:std::vector<char, std::allocator<char> >::vector() (1x)\n",
            "            3      vector<char> second_seq_answer;\n",
            "           38  => /usr/include/c++/7/bits/stl_vector.h:std::vector<char, std::allocator<char> >::vector() (1x)\n",
            "            .  \n",
            "            .      // Get the best sequence.\n",
            "1,966,986,396      while (matrix[i][j].x_current != 0 || matrix[i][j].y_current != 0) {\n",
            "1,529,878,308  => /usr/include/c++/7/bits/stl_vector.h:std::vector<dna_matrix, std::allocator<dna_matrix> >::operator[](unsigned long) (109277022x)\n",
            "1,529,878,308  => /usr/include/c++/7/bits/stl_vector.h:std::vector<std::vector<dna_matrix, std::allocator<dna_matrix> >, std::allocator<std::vector<dna_matrix, std::allocator<dna_matrix> > > >::operator[](unsigned long) (109277022x)\n",
            "            .  \n",
            "1,748,432,344          first_seq_answer.push_back(matrix[i][j].x_value);\n",
            "1,529,878,294  => /usr/include/c++/7/bits/stl_vector.h:std::vector<std::vector<dna_matrix, std::allocator<dna_matrix> >, std::allocator<std::vector<dna_matrix, std::allocator<dna_matrix> > > >::operator[](unsigned long) (109277022x)\n",
            "9,532,616,711  => /usr/include/c++/7/bits/stl_vector.h:std::vector<char, std::allocator<char> >::push_back(char const&) (109277021x)\n",
            "1,529,878,294  => /usr/include/c++/7/bits/stl_vector.h:std::vector<dna_matrix, std::allocator<dna_matrix> >::operator[](unsigned long) (109277021x)\n",
            "1,748,432,336          second_seq_answer.push_back(matrix[i][j].y_value);\n",
            "1,529,878,294  => /usr/include/c++/7/bits/stl_vector.h:std::vector<dna_matrix, std::allocator<dna_matrix> >::operator[](unsigned long) (109277021x)\n",
            "9,532,502,746  => /usr/include/c++/7/bits/stl_vector.h:std::vector<char, std::allocator<char> >::push_back(char const&) (109277021x)\n",
            "1,529,878,294  => /usr/include/c++/7/bits/stl_vector.h:std::vector<std::vector<dna_matrix, std::allocator<dna_matrix> >, std::allocator<std::vector<dna_matrix, std::allocator<dna_matrix> > > >::operator[](unsigned long) (109277021x)\n",
            "            .  \n",
            "1,420,601,273          i = matrix[i][j].x_last;\n",
            "1,529,878,294  => /usr/include/c++/7/bits/stl_vector.h:std::vector<std::vector<dna_matrix, std::allocator<dna_matrix> >, std::allocator<std::vector<dna_matrix, std::allocator<dna_matrix> > > >::operator[](unsigned long) (109277021x)\n",
            "1,529,878,294  => /usr/include/c++/7/bits/stl_vector.h:std::vector<dna_matrix, std::allocator<dna_matrix> >::operator[](unsigned long) (109277021x)\n",
            "1,420,601,273          j = matrix[i][j].y_last;\n",
            "1,529,878,294  => /usr/include/c++/7/bits/stl_vector.h:std::vector<std::vector<dna_matrix, std::allocator<dna_matrix> >, std::allocator<std::vector<dna_matrix, std::allocator<dna_matrix> > > >::operator[](unsigned long) (109277021x)\n",
            "1,529,878,294  => /usr/include/c++/7/bits/stl_vector.h:std::vector<dna_matrix, std::allocator<dna_matrix> >::operator[](unsigned long) (109277021x)\n",
            "            .  \n",
            "3,387,587,651          if (matrix[i][j].x_current == 0 || matrix[i][j].y_current == 0) {\n",
            "3,059,756,588  => /usr/include/c++/7/bits/stl_vector.h:std::vector<dna_matrix, std::allocator<dna_matrix> >::operator[](unsigned long) (218554042x)\n",
            "3,059,756,588  => /usr/include/c++/7/bits/stl_vector.h:std::vector<std::vector<dna_matrix, std::allocator<dna_matrix> >, std::allocator<std::vector<dna_matrix, std::allocator<dna_matrix> > > >::operator[](unsigned long) (218554042x)\n",
            "            .              first_seq_answer.push_back(matrix[i][j].x_value);\n",
            "            .              second_seq_answer.push_back(matrix[i][j].y_value);\n",
            "            .              break;\n",
            "            .          }\n",
            "            .      }\n",
            "            .  \n",
            "            .      for (auto& el: first_seq_answer) {\n",
            "            .          cout << el;\n",
            "-- line 176 ----------------------------------------\n",
            "-- line 178 ----------------------------------------\n",
            "            .  \n",
            "            .      cout << endl;\n",
            "            .  \n",
            "            .      for (auto& el: second_seq_answer) {\n",
            "            .          cout << el;\n",
            "            .      }\n",
            "            .  \n",
            "            .      return 0;\n",
            "           19  }\n",
            "      109,321  => heuristica.cpp:__static_initialization_and_destruction_0(int, int) (1x)\n",
            "\n",
            "--------------------------------------------------------------------------------\n",
            "Ir \n",
            "--------------------------------------------------------------------------------\n",
            "23  percentage of events annotated\n",
            "\n"
          ]
        }
      ]
    },
    {
      "cell_type": "markdown",
      "source": [
        "De acordo com o resultado do profilling do projeto 1, da heuristíca, é possível verificar que existe uma grande quantidade de acessos a memória, na casa dos bilhões. Além disso é possível observar que o ponto que teve mais lentidão foi a montagem da resposta fazendo o *trace* de toda a cadeia do sequenciamento genético. Mas mesmo assim podemos observar que o código é eficiente mesmo para entradas grandes com os seguintes tempos:"
      ],
      "metadata": {
        "id": "wA77vQIUwwTR"
      }
    },
    {
      "cell_type": "code",
      "source": [
        "from tabulate import tabulate"
      ],
      "metadata": {
        "id": "g8GGLpnkxfxe"
      },
      "execution_count": 22,
      "outputs": []
    },
    {
      "cell_type": "code",
      "source": [
        "table = [['Tamanho das sequências', 'Tempo'], ['200x200', '0.0043'], ['400x200', '0.0117'], ['400x400', '0.0159'], ['1000x1000', '0.0284']]"
      ],
      "metadata": {
        "id": "-rLVR_lGxiXl"
      },
      "execution_count": 20,
      "outputs": []
    },
    {
      "cell_type": "code",
      "source": [
        "print(tabulate(table, headers='firstrow', tablefmt='grid'))"
      ],
      "metadata": {
        "colab": {
          "base_uri": "https://localhost:8080/"
        },
        "id": "JEiG3L4Gyml5",
        "outputId": "11015ad3-4949-4bcd-ba90-fb7e210da8e9"
      },
      "execution_count": 24,
      "outputs": [
        {
          "output_type": "stream",
          "name": "stdout",
          "text": [
            "+--------------------------+---------+\n",
            "| Tamanho das sequências   |   Tempo |\n",
            "+==========================+=========+\n",
            "| 200x200                  |  0.0043 |\n",
            "+--------------------------+---------+\n",
            "| 400x200                  |  0.0117 |\n",
            "+--------------------------+---------+\n",
            "| 400x400                  |  0.0159 |\n",
            "+--------------------------+---------+\n",
            "| 1000x1000                |  0.0284 |\n",
            "+--------------------------+---------+\n"
          ]
        }
      ]
    },
    {
      "cell_type": "markdown",
      "source": [
        "### Criando o arquivo da busca local"
      ],
      "metadata": {
        "id": "CGBR9ycxNcuf"
      }
    },
    {
      "cell_type": "code",
      "source": [
        "%%writefile busca_local.cpp\n",
        "#include <iostream>\n",
        "#include <vector>\n",
        "#include <algorithm>\n",
        "#include <random>\n",
        "#include <cstdlib>\n",
        "\n",
        "using namespace std;\n",
        "struct dna\n",
        "{\n",
        "    int id;\n",
        "    char dna_value;\n",
        "};\n",
        "\n",
        "int main() {\n",
        "\n",
        "    int score_max_global = 0;\n",
        "    vector<char> subsequence_a_max_score_global;\n",
        "    vector<char> subsequence_b_max_score_global;\n",
        "\n",
        "    // Defining n and m. Value of n is the length of the first sequence. Value of m is the length of the second sequence.\n",
        "    int n; int m;\n",
        "\n",
        "    // Reads n and m. \n",
        "    cin >> n >> m;\n",
        "\n",
        "    // Defining the two vectors that receive the sequences.\n",
        "    vector<dna> dnas_first_seq;\n",
        "    vector<dna> dnas_second_seq;\n",
        "\n",
        "    // Reserving n and m length on the vectors.\n",
        "    dnas_first_seq.reserve(n);\n",
        "    dnas_second_seq.reserve(m);\n",
        "\n",
        "    dna dna_next;\n",
        "\n",
        "    // Reads the first sequence and completes the dna_first_seq vector with the sequence.\n",
        "    for(int i = 0; i < n; i++) {\n",
        "        cin >> dna_next.dna_value;\n",
        "        dna_next.id = i;\n",
        "        dnas_first_seq.push_back(dna_next);\n",
        "    }\n",
        "\n",
        "    // Reads the second sequence and completes the dna_second_seq vector with the sequence.\n",
        "    for(int i = 0; i < m; i++) {\n",
        "        cin >> dna_next.dna_value;\n",
        "        dna_next.id = i;\n",
        "        dnas_second_seq.push_back(dna_next);\n",
        "    }\n",
        "    \n",
        "    // Generate one thousand values for k in random form.\n",
        "    for (int z = 0; z < 10000; z++) {\n",
        "        random_device random;\n",
        "        mt19937 generator(random());\n",
        "        uniform_int_distribution<int> distribution(1,m);\n",
        "        int k = distribution(generator);\n",
        "        vector<char> subsequence_b;\n",
        "        // Creates subsequence b with the first k elements of sequence b.\n",
        "        for (int i = 0; i < k; i++) {\n",
        "            subsequence_b.push_back(dnas_second_seq[i].dna_value);\n",
        "        }\n",
        "\n",
        "        // Creates matrix that will receive the subsequences of a.\n",
        "        vector<vector<char> > subsequences_a;\n",
        "\n",
        "        int counter = 0;\n",
        "        vector<dna> dnas_first_seq_flexible = dnas_first_seq;\n",
        "\n",
        "        // Create empty vectors inside the matrix.\n",
        "        while(dnas_first_seq_flexible.size() - k + 1 > 0) {\n",
        "            vector<char> subsequence_a;\n",
        "            subsequences_a.push_back(subsequence_a);\n",
        "            dnas_first_seq_flexible.erase(dnas_first_seq_flexible.begin());\n",
        "        }\n",
        "        \n",
        "        dnas_first_seq_flexible = dnas_first_seq;\n",
        "\n",
        "        // Create the subsequences of a.\n",
        "        while(dnas_first_seq_flexible.size() - k + 1 > 0) {\n",
        "            for (int i = 0; i < k; i++) {\n",
        "                subsequences_a[counter].push_back(dnas_first_seq_flexible[i].dna_value);\n",
        "            }\n",
        "            counter++;\n",
        "            dnas_first_seq_flexible.erase(dnas_first_seq_flexible.begin());\n",
        "        }\n",
        "\n",
        "        // Create vector of scores.\n",
        "        vector<int> scores;\n",
        "\n",
        "        int sum_score_pair = 0;\n",
        "        // Generate scores.\n",
        "        for (int i = 0; i < subsequences_a.size(); i++) {\n",
        "            for (int j = 0; j < subsequences_a[0].size(); j++) {\n",
        "                if (subsequences_a[i][j] == subsequence_b[j]) {\n",
        "                    sum_score_pair += 2;\n",
        "                } else {\n",
        "                    sum_score_pair -= 1;\n",
        "                }\n",
        "            }\n",
        "            scores.push_back(sum_score_pair);\n",
        "            sum_score_pair = 0;\n",
        "        }\n",
        "\n",
        "        // Gets the index of the max score and the value.\n",
        "        int score_max_index = max_element(scores.begin(),scores.end()) - scores.begin();\n",
        "        int score_max = *max_element(scores.begin(), scores.end());\n",
        "\n",
        "        // Compares max score global with actual max score. If max score global equals\n",
        "        // to actual max score and if actual max score has subsequence bigger than \n",
        "        // max score global change max score global to actual max score and change subsequences.\n",
        "        if (score_max == score_max_global) {\n",
        "            if(subsequences_a[score_max_index].size() > subsequence_a_max_score_global.size()) {\n",
        "                subsequence_a_max_score_global = subsequences_a[score_max_index];\n",
        "                subsequence_b_max_score_global = subsequence_b;\n",
        "            }\n",
        "        }\n",
        "\n",
        "        // If actual max score bigger than max score global change max score global and its subsequences.\n",
        "        if (score_max > score_max_global) {\n",
        "            score_max_global = score_max;\n",
        "            subsequence_a_max_score_global = subsequences_a[score_max_index];\n",
        "            subsequence_b_max_score_global = subsequence_b;\n",
        "        }\n",
        "    }\n",
        "\n",
        "    cout << score_max_global << endl;\n",
        "\n",
        "    for (auto& el: subsequence_a_max_score_global) {\n",
        "        cout << el;\n",
        "    }\n",
        "\n",
        "    cout << endl;\n",
        "\n",
        "    for (auto& el: subsequence_b_max_score_global) {\n",
        "        cout << el;\n",
        "    }\n",
        "}"
      ],
      "metadata": {
        "colab": {
          "base_uri": "https://localhost:8080/"
        },
        "id": "_DSyXeUUy9St",
        "outputId": "61b81ea0-da5a-42d7-f99e-31f7b051c76d"
      },
      "execution_count": 26,
      "outputs": [
        {
          "output_type": "stream",
          "name": "stdout",
          "text": [
            "Writing busca_local.cpp\n"
          ]
        }
      ]
    },
    {
      "cell_type": "code",
      "source": [
        "!g++ -g busca_local.cpp -o busca_local"
      ],
      "metadata": {
        "id": "jCtAYmqdzLXc"
      },
      "execution_count": 42,
      "outputs": []
    },
    {
      "cell_type": "markdown",
      "source": [
        "### Executando o valgrind e o callgrind annotate para busca local"
      ],
      "metadata": {
        "id": "wyRop6SgNjAE"
      }
    },
    {
      "cell_type": "code",
      "source": [
        "!valgrind --tool=callgrind ./busca_local < in4.txt"
      ],
      "metadata": {
        "colab": {
          "base_uri": "https://localhost:8080/"
        },
        "id": "rK6ER01ZzLvq",
        "outputId": "c33333ed-5c04-4b16-b933-14d676e3c858"
      },
      "execution_count": 43,
      "outputs": [
        {
          "output_type": "stream",
          "name": "stdout",
          "text": [
            "==1068== Callgrind, a call-graph generating cache profiler\n",
            "==1068== Copyright (C) 2002-2017, and GNU GPL'd, by Josef Weidendorfer et al.\n",
            "==1068== Using Valgrind-3.13.0 and LibVEX; rerun with -h for copyright info\n",
            "==1068== Command: ./busca_local\n",
            "==1068== \n",
            "==1068== For interactive control, run 'callgrind_control -h'.\n",
            "==1068== brk segment overflow in thread #1: can't grow to 0x4a2c000\n",
            "==1068== (see section Limitations in user manual)\n",
            "==1068== NOTE: further instances of this message will not be shown\n",
            "==1068== \n",
            "==1068== Process terminating with default action of signal 2 (SIGINT)\n",
            "==1068==    at 0x10965D: main (busca_local.cpp:79)\n",
            "==1068== \n",
            "==1068== Events    : Ir\n",
            "==1068== Collected : 11408822235\n",
            "==1068== \n",
            "==1068== I   refs:      11,408,822,235\n",
            "^C\n"
          ]
        }
      ]
    },
    {
      "cell_type": "code",
      "source": [
        "!callgrind_annotate callgrind.out.1068 busca_local.cpp "
      ],
      "metadata": {
        "colab": {
          "base_uri": "https://localhost:8080/"
        },
        "id": "Z0kJbYlAzLxv",
        "outputId": "26509764-93a8-4c3a-863d-980d3b69ebf1"
      },
      "execution_count": 46,
      "outputs": [
        {
          "output_type": "stream",
          "name": "stdout",
          "text": [
            "--------------------------------------------------------------------------------\n",
            "Profile data file 'callgrind.out.1068' (creator: callgrind-3.13.0)\n",
            "--------------------------------------------------------------------------------\n",
            "I1 cache: \n",
            "D1 cache: \n",
            "LL cache: \n",
            "Timerange: Basic block 0 - 2572265586\n",
            "Trigger: Program termination\n",
            "Profiled target:  ./busca_local (PID 1068, part 1)\n",
            "Events recorded:  Ir\n",
            "Events shown:     Ir\n",
            "Event sort order: Ir\n",
            "Thresholds:       99\n",
            "Include dirs:     \n",
            "User annotated:   busca_local.cpp\n",
            "Auto-annotation:  off\n",
            "\n",
            "--------------------------------------------------------------------------------\n",
            "            Ir \n",
            "--------------------------------------------------------------------------------\n",
            "11,408,822,235  PROGRAM TOTALS\n",
            "\n",
            "--------------------------------------------------------------------------------\n",
            "           Ir  file:function\n",
            "--------------------------------------------------------------------------------\n",
            "2,310,327,543  busca_local.cpp:main [/content/busca_local]\n",
            "1,552,717,306  /usr/include/c++/7/bits/stl_vector.h:std::vector<std::vector<char, std::allocator<char> >, std::allocator<std::vector<char, std::allocator<char> > > >::operator[](unsigned long) [/content/busca_local]\n",
            "1,065,650,241  /build/glibc-uZu3wS/glibc-2.27/string/../sysdeps/x86_64/multiarch/memmove-vec-unaligned-erms.S:__memcpy_avx_unaligned_erms [/lib/x86_64-linux-gnu/libc-2.27.so]\n",
            "  996,910,079  /usr/include/c++/7/bits/stl_vector.h:std::vector<char, std::allocator<char> >::push_back(char const&) [/content/busca_local]\n",
            "  852,806,811  /usr/include/c++/7/ext/new_allocator.h:void __gnu_cxx::new_allocator<char>::construct<char, char const&>(char*, char const&) [/content/busca_local]\n",
            "  738,290,480  /usr/include/c++/7/bits/stl_vector.h:std::vector<char, std::allocator<char> >::operator[](unsigned long) [/content/busca_local]\n",
            "  667,414,026  /usr/include/c++/7/bits/alloc_traits.h:void std::allocator_traits<std::allocator<char> >::construct<char, char const&>(std::allocator<char>&, char*, char const&) [/content/busca_local]\n",
            "  496,193,916  /usr/include/c++/7/bits/stl_vector.h:std::vector<char, std::allocator<char> >::size() const [/content/busca_local]\n",
            "  451,259,124  /usr/include/c++/7/bits/move.h:char const& std::forward<char const&>(std::remove_reference<char const&>::type&) [/content/busca_local]\n",
            "  407,864,127  /usr/include/c++/7/bits/stl_vector.h:std::vector<dna, std::allocator<dna> >::operator[](unsigned long) [/content/busca_local]\n",
            "  262,190,012  /usr/include/c++/7/new:operator new(unsigned long, void*) [/content/busca_local]\n",
            "  132,645,240  /usr/include/c++/7/bits/vector.tcc:void std::vector<char, std::allocator<char> >::_M_realloc_insert<char const&>(__gnu_cxx::__normal_iterator<char*, std::vector<char, std::allocator<char> > >, char const&) [/content/busca_local]\n",
            "   75,797,280  /usr/include/c++/7/bits/stl_iterator.h:std::move_iterator<char*> std::__make_move_if_noexcept_iterator<char, std::move_iterator<char*> >(char*) [/content/busca_local]\n",
            "   61,058,920  /usr/include/c++/7/bits/stl_vector.h:std::vector<char, std::allocator<char> >::_M_check_len(unsigned long, char const*) const [/content/busca_local]\n",
            "   58,953,440  /usr/include/c++/7/bits/stl_algobase.h:char* std::__copy_move_a2<true, char*, char*>(char*, char*, char*) [/content/busca_local]\n",
            "   54,742,480  /usr/include/c++/7/bits/stl_uninitialized.h:char* std::__uninitialized_move_if_noexcept_a<char*, char*, std::allocator<char> >(char*, char*, char*, std::allocator<char>&) [/content/busca_local]\n",
            "   52,879,236  ???:free [???]\n",
            "   50,531,520  /usr/include/c++/7/bits/stl_algobase.h:char* std::copy<std::move_iterator<char*>, char*>(std::move_iterator<char*>, std::move_iterator<char*>, char*) [/content/busca_local]\n",
            "   47,598,903  ???:operator new[](unsigned long) [???]\n",
            "   46,417,448  /usr/include/c++/7/bits/stl_iterator.h:decltype (__miter_base(({parm [/content/busca_local]\n",
            "   44,482,693  /usr/include/c++/7/bits/stl_algobase.h:char* std::__copy_move<true, true, std::random_access_iterator_tag>::__copy_m<char>(char const*, char const*, char*) [/content/busca_local]\n",
            "   42,109,600  /usr/include/c++/7/bits/stl_iterator.h:std::move_iterator<char*>::move_iterator(char*) [/content/busca_local]\n",
            "   38,571,498  /usr/include/c++/7/bits/stl_algobase.h:char* std::__niter_base<char*>(char*) [/content/busca_local]\n",
            "   31,582,200  /usr/include/c++/7/bits/stl_uninitialized.h:char* std::uninitialized_copy<std::move_iterator<char*>, char*>(std::move_iterator<char*>, std::move_iterator<char*>, char*) [/content/busca_local]\n",
            "   31,582,200  /usr/include/c++/7/bits/stl_uninitialized.h:char* std::__uninitialized_copy_a<std::move_iterator<char*>, char*, char>(std::move_iterator<char*>, std::move_iterator<char*>, char*, std::allocator<char>&) [/content/busca_local]\n",
            "   31,582,200  /usr/include/c++/7/bits/stl_algobase.h:char* std::__copy_move_a<true, char*, char*>(char*, char*, char*) [/content/busca_local]\n",
            "   29,476,720  /usr/include/c++/7/bits/stl_iterator.h:std::move_iterator<char*>::base() const [/content/busca_local]\n",
            "   29,476,720  /usr/include/c++/7/bits/stl_uninitialized.h:char* std::__uninitialized_copy<true>::__uninit_copy<std::move_iterator<char*>, char*>(std::move_iterator<char*>, std::move_iterator<char*>, char*) [/content/busca_local]\n",
            "   25,265,808  /usr/include/c++/7/bits/cpp_type_traits.h:char* std::__miter_base<char*>(char*) [/content/busca_local]\n",
            "   25,265,772  /usr/include/c++/7/bits/stl_iterator.h:__gnu_cxx::__normal_iterator<char*, std::vector<char, std::allocator<char> > >::base() const [/content/busca_local]\n",
            "   23,160,346  /usr/include/c++/7/bits/stl_iterator.h:__gnu_cxx::__normal_iterator<char*, std::vector<char, std::allocator<char> > >::__normal_iterator(char* const&) [/content/busca_local]\n",
            "   23,160,280  /usr/include/c++/7/bits/stl_vector.h:std::vector<char, std::allocator<char> >::max_size() const [/content/busca_local]\n",
            "   22,781,436  /usr/include/c++/7/bits/stl_vector.h:std::_Vector_base<char, std::allocator<char> >::_M_get_Tp_allocator() [/content/busca_local]\n",
            "   22,107,540  /usr/include/c++/7/bits/stl_iterator.h:__gnu_cxx::__normal_iterator<char*, std::vector<char, std::allocator<char> > >::difference_type __gnu_cxx::operator-<char*, std::vector<char, std::allocator<char> > >(__gnu_cxx::__normal_iterator<char*, std::vector<char, std::allocator<char> > > const&, __gnu_cxx::__normal_iterator<char*, std::vector<char, std::allocator<char> > > const&) [/content/busca_local]\n",
            "   22,025,389  /usr/include/c++/7/bits/stl_vector.h:std::_Vector_base<char, std::allocator<char> >::_M_deallocate(char*, unsigned long) [/content/busca_local]\n",
            "   20,002,136  /usr/include/c++/7/ext/new_allocator.h:__gnu_cxx::new_allocator<char>::allocate(unsigned long, void const*) [/content/busca_local]\n",
            "   20,002,098  /usr/include/c++/7/bits/stl_vector.h:std::vector<char, std::allocator<char> >::end() [/content/busca_local]\n",
            "   19,993,750  /usr/include/c++/7/bits/stl_construct.h:void std::_Destroy<char*, char>(char*, char*, std::allocator<char>&) [/content/busca_local]\n",
            "   19,717,632  /usr/include/c++/7/bits/stl_iterator.h:__gnu_cxx::__normal_iterator<dna*, std::vector<dna, std::allocator<dna> > >::__normal_iterator(dna* const&) [/content/busca_local]\n",
            "   18,949,356  /usr/include/c++/7/bits/stl_vector.h:std::vector<char, std::allocator<char> >::begin() [/content/busca_local]\n",
            "   18,949,344  /usr/include/c++/7/ext/new_allocator.h:__gnu_cxx::new_allocator<char>::max_size() const [/content/busca_local]\n",
            "   18,949,320  /usr/include/c++/7/bits/alloc_traits.h:std::allocator_traits<std::allocator<char> >::max_size(std::allocator<char> const&) [/content/busca_local]\n",
            "   18,565,625  /usr/include/c++/7/bits/stl_construct.h:void std::_Destroy<char*>(char*, char*) [/content/busca_local]\n",
            "   16,912,430  /usr/include/c++/7/bits/stl_vector.h:std::_Vector_base<char, std::allocator<char> >::_M_allocate(unsigned long) [/content/busca_local]\n",
            "   16,804,800  /usr/include/c++/7/bits/stl_iterator.h:__gnu_cxx::__normal_iterator<dna*, std::vector<dna, std::allocator<dna> > >::operator+(long) const [/content/busca_local]\n",
            "   15,790,035  /usr/include/c++/7/bits/alloc_traits.h:std::allocator_traits<std::allocator<char> >::deallocate(std::allocator<char>&, char*, unsigned long) [/content/busca_local]\n",
            "   14,058,438  /usr/include/c++/7/bits/move.h:std::enable_if<std::__and_<std::__not_<std::__is_tuple_like<char*> >, std::is_move_constructible<char*>, std::is_move_assignable<char*> >::value, void>::type std::swap<char*>(char*&, char*&) [/content/busca_local]\n",
            "   13,855,582  /usr/include/c++/7/bits/stl_algobase.h:unsigned long const& std::max<unsigned long>(unsigned long const&, unsigned long const&) [/content/busca_local]\n",
            "   13,685,672  /usr/include/c++/7/bits/alloc_traits.h:std::allocator_traits<std::allocator<char> >::allocate(std::allocator<char>&, unsigned long) [/content/busca_local]\n",
            "   13,684,697  /usr/include/c++/7/ext/new_allocator.h:__gnu_cxx::new_allocator<char>::deallocate(char*, unsigned long) [/content/busca_local]\n",
            "   13,305,642  /usr/include/c++/7/bits/stl_vector.h:std::_Vector_base<char, std::allocator<char> >::_M_get_Tp_allocator() const [/content/busca_local]\n",
            "   12,995,712  /usr/include/c++/7/bits/vector.tcc:std::vector<dna, std::allocator<dna> >::_M_erase(__gnu_cxx::__normal_iterator<dna*, std::vector<dna, std::allocator<dna> > >) [/content/busca_local]\n",
            "    9,996,875  /usr/include/c++/7/bits/stl_construct.h:void std::_Destroy_aux<true>::__destroy<char*>(char*, char*) [/content/busca_local]\n",
            "    9,186,624  /usr/include/c++/7/bits/stl_algobase.h:__gnu_cxx::__normal_iterator<dna*, std::vector<dna, std::allocator<dna> > > std::__copy_move_a2<true, __gnu_cxx::__normal_iterator<dna*, std::vector<dna, std::allocator<dna> > >, __gnu_cxx::__normal_iterator<dna*, std::vector<dna, std::allocator<dna> > > >(__gnu_cxx::__normal_iterator<dna*, std::vector<dna, std::allocator<dna> > >, __gnu_cxx::__normal_iterator<dna*, std::vector<dna, std::allocator<dna> > >, __gnu_cxx::__normal_iterator<dna*, std::vector<dna, std::allocator<dna> > >) [/content/busca_local]\n",
            "    9,009,144  /usr/include/c++/7/bits/stl_vector.h:std::_Vector_base<char, std::allocator<char> >::~_Vector_base() [/content/busca_local]\n",
            "    8,738,496  /usr/include/c++/7/bits/stl_vector.h:std::vector<dna, std::allocator<dna> >::erase(__gnu_cxx::__normal_iterator<dna const*, std::vector<dna, std::allocator<dna> > >) [/content/busca_local]\n",
            "    8,514,432  /usr/include/c++/7/bits/stl_vector.h:std::vector<dna, std::allocator<dna> >::end() [/content/busca_local]\n",
            "    8,162,964  /usr/include/c++/7/bits/move.h:std::remove_reference<char*&>::type&& std::move<char*&>(char*&) [/content/busca_local]\n",
            "    8,066,304  /usr/include/c++/7/bits/stl_iterator.h:__gnu_cxx::__normal_iterator<dna*, std::vector<dna, std::allocator<dna> > >::base() const [/content/busca_local]\n",
            "    8,066,304  /usr/include/c++/7/bits/stl_vector.h:std::vector<dna, std::allocator<dna> >::begin() [/content/busca_local]\n",
            "    7,883,001  /usr/include/c++/7/bits/stl_vector.h:std::vector<char, std::allocator<char> >::~vector() [/content/busca_local]\n",
            "    7,176,128  /usr/include/c++/7/bits/stl_vector.h:std::vector<char, std::allocator<char> >::vector(std::vector<char, std::allocator<char> > const&) [/content/busca_local]\n",
            "    6,721,920  /usr/include/c++/7/bits/stl_iterator.h:dna* std::__niter_base<dna*, std::vector<dna, std::allocator<dna> > >(__gnu_cxx::__normal_iterator<dna*, std::vector<dna, std::allocator<dna> > >) [/content/busca_local]\n",
            "    6,273,832  /usr/include/c++/7/bits/stl_algobase.h:dna* std::__copy_move<true, true, std::random_access_iterator_tag>::__copy_m<dna>(dna const*, dna const*, dna*) [/content/busca_local]\n",
            "    5,377,536  /usr/include/c++/7/bits/stl_algobase.h:__gnu_cxx::__normal_iterator<dna*, std::vector<dna, std::allocator<dna> > > std::move<__gnu_cxx::__normal_iterator<dna*, std::vector<dna, std::allocator<dna> > >, __gnu_cxx::__normal_iterator<dna*, std::vector<dna, std::allocator<dna> > > >(__gnu_cxx::__normal_iterator<dna*, std::vector<dna, std::allocator<dna> > >, __gnu_cxx::__normal_iterator<dna*, std::vector<dna, std::allocator<dna> > >, __gnu_cxx::__normal_iterator<dna*, std::vector<dna, std::allocator<dna> > >) [/content/busca_local]\n",
            "    4,929,408  /usr/include/c++/7/bits/stl_iterator.h:__gnu_cxx::__normal_iterator<dna const*, std::vector<dna, std::allocator<dna> > >::difference_type __gnu_cxx::operator-<dna const*, std::vector<dna, std::allocator<dna> > >(__gnu_cxx::__normal_iterator<dna const*, std::vector<dna, std::allocator<dna> > > const&, __gnu_cxx::__normal_iterator<dna const*, std::vector<dna, std::allocator<dna> > > const&) [/content/busca_local]\n",
            "    4,705,344  /usr/include/c++/7/bits/stl_vector.h:std::vector<dna, std::allocator<dna> >::cbegin() const [/content/busca_local]\n",
            "    4,689,048  /usr/include/c++/7/bits/predefined_ops.h:bool __gnu_cxx::__ops::_Iter_less_iter::operator()<__gnu_cxx::__normal_iterator<int*, std::vector<int, std::allocator<int> > >, __gnu_cxx::__normal_iterator<int*, std::vector<int, std::allocator<int> > > >(__gnu_cxx::__normal_iterator<int*, std::vector<int, std::allocator<int> > >, __gnu_cxx::__normal_iterator<int*, std::vector<int, std::allocator<int> > >) const [/content/busca_local]\n",
            "    4,662,477  /usr/include/c++/7/bits/random.tcc:std::mersenne_twister_engine<unsigned long, 32ul, 624ul, 397ul, 31ul, 2567483615ul, 11ul, 4294967295ul, 7ul, 2636928640ul, 15ul, 4022730752ul, 18ul, 1812433253ul>::_M_gen_rand() [/content/busca_local]\n",
            "    4,481,280  /usr/include/c++/7/bits/stl_iterator.h:bool __gnu_cxx::operator!=<dna*, std::vector<dna, std::allocator<dna> > >(__gnu_cxx::__normal_iterator<dna*, std::vector<dna, std::allocator<dna> > > const&, __gnu_cxx::__normal_iterator<dna*, std::vector<dna, std::allocator<dna> > > const&) [/content/busca_local]\n",
            "    4,474,640  /usr/include/c++/7/bits/stl_iterator.h:bool __gnu_cxx::operator!=<int*, std::vector<int, std::allocator<int> > >(__gnu_cxx::__normal_iterator<int*, std::vector<int, std::allocator<int> > > const&, __gnu_cxx::__normal_iterator<int*, std::vector<int, std::allocator<int> > > const&) [/content/busca_local]\n",
            "    4,129,191  /usr/include/c++/7/bits/stl_vector.h:std::_Vector_base<char, std::allocator<char> >::_Vector_impl::~_Vector_impl() [/content/busca_local]\n",
            "    4,081,482  /usr/include/c++/7/bits/stl_vector.h:std::_Vector_base<char, std::allocator<char> >::_Vector_impl::_M_swap_data(std::_Vector_base<char, std::allocator<char> >::_Vector_impl&) [/content/busca_local]\n",
            "    3,818,114  /usr/include/c++/7/bits/stl_algo.h:__gnu_cxx::__normal_iterator<int*, std::vector<int, std::allocator<int> > > std::__max_element<__gnu_cxx::__normal_iterator<int*, std::vector<int, std::allocator<int> > >, __gnu_cxx::__ops::_Iter_less_iter>(__gnu_cxx::__normal_iterator<int*, std::vector<int, std::allocator<int> > >, __gnu_cxx::__normal_iterator<int*, std::vector<int, std::allocator<int> > >, __gnu_cxx::__ops::_Iter_less_iter) [/content/busca_local]\n",
            "    3,779,150  /usr/include/c++/7/bits/stl_vector.h:std::_Vector_base<char, std::allocator<char> >::_Vector_base(std::_Vector_base<char, std::allocator<char> >&&) [/content/busca_local]\n",
            "    3,616,391  /usr/include/c++/7/bits/random.tcc:std::mersenne_twister_engine<unsigned long, 32ul, 624ul, 397ul, 31ul, 2567483615ul, 11ul, 4294967295ul, 7ul, 2636928640ul, 15ul, 4022730752ul, 18ul, 1812433253ul>::seed(unsigned long) [/content/busca_local]\n",
            "    3,476,818  /usr/include/c++/7/bits/stl_vector.h:std::_Vector_base<char, std::allocator<char> >::_Vector_impl::_Vector_impl(std::allocator<char>&&) [/content/busca_local]\n",
            "    3,422,936  /usr/include/c++/7/bits/stl_uninitialized.h:std::vector<char, std::allocator<char> >* std::__uninitialized_copy<false>::__uninit_copy<std::move_iterator<std::vector<char, std::allocator<char> >*>, std::vector<char, std::allocator<char> >*>(std::move_iterator<std::vector<char, std::allocator<char> >*>, std::move_iterator<std::vector<char, std::allocator<char> >*>, std::vector<char, std::allocator<char> >*) [/content/busca_local]\n",
            "    3,360,990  /usr/include/c++/7/bits/stl_algobase.h:dna* std::__copy_move_a<true, dna*, dna*>(dna*, dna*, dna*) [/content/busca_local]\n",
            "    3,139,668  /usr/include/c++/7/bits/stl_algobase.h:char* std::__copy_move_a2<false, __gnu_cxx::__normal_iterator<char const*, std::vector<char, std::allocator<char> > >, char*>(__gnu_cxx::__normal_iterator<char const*, std::vector<char, std::allocator<char> > >, __gnu_cxx::__normal_iterator<char const*, std::vector<char, std::allocator<char> > >, char*) [/content/busca_local]\n",
            "    3,136,896  /usr/include/c++/7/bits/stl_iterator.h:__gnu_cxx::__normal_iterator<dna const*, std::vector<dna, std::allocator<dna> > >::__normal_iterator<dna*>(__gnu_cxx::__normal_iterator<dna*, __gnu_cxx::__enable_if<std::__are_same<dna*, dna*>::__value, std::vector<dna, std::allocator<dna> > >::__type> const&) [/content/busca_local]\n",
            "    3,127,586  /usr/include/c++/7/bits/stl_iterator.h:__gnu_cxx::__normal_iterator<int*, std::vector<int, std::allocator<int> > >::operator*() const [/content/busca_local]\n",
            "    3,018,585  /usr/include/c++/7/bits/stl_vector.h:std::vector<std::vector<char, std::allocator<char> >, std::allocator<std::vector<char, std::allocator<char> > > >::push_back(std::vector<char, std::allocator<char> > const&) [/content/busca_local]\n",
            "    3,011,578  /usr/include/c++/7/bits/stl_vector.h:std::vector<int, std::allocator<int> >::push_back(int const&) [/content/busca_local]\n",
            "    2,956,172  /usr/include/c++/7/bits/stl_iterator.h:bool std::operator==<std::vector<char, std::allocator<char> >*>(std::move_iterator<std::vector<char, std::allocator<char> >*> const&, std::move_iterator<std::vector<char, std::allocator<char> >*> const&) [/content/busca_local]\n",
            "    2,933,151  /usr/include/c++/7/bits/stl_vector.h:std::vector<dna, std::allocator<dna> >::size() const [/content/busca_local]\n",
            "    2,915,302  /usr/include/c++/7/bits/stl_vector.h:std::_Vector_base<char, std::allocator<char> >::_M_create_storage(unsigned long) [/content/busca_local]\n",
            "\n",
            "--------------------------------------------------------------------------------\n",
            "-- User-annotated source: busca_local.cpp\n",
            "--------------------------------------------------------------------------------\n",
            "         Ir \n",
            "\n",
            "-- line 6 ----------------------------------------\n",
            "          .  \n",
            "          .  using namespace std;\n",
            "          .  struct dna\n",
            "          .  {\n",
            "          .      int id;\n",
            "          .      char dna_value;\n",
            "          .  };\n",
            "          .  \n",
            "          7  int main() {\n",
            "          .  \n",
            "          1      int score_max_global = 0;\n",
            "          3      vector<char> subsequence_a_max_score_global;\n",
            "         38  => /usr/include/c++/7/bits/stl_vector.h:std::vector<char, std::allocator<char> >::vector() (1x)\n",
            "          3      vector<char> subsequence_b_max_score_global;\n",
            "         38  => /usr/include/c++/7/bits/stl_vector.h:std::vector<char, std::allocator<char> >::vector() (1x)\n",
            "          .  \n",
            "          .      // Defining n and m. Value of n is the length of the first sequence. Value of m is the length of the second sequence.\n",
            "          .      int n; int m;\n",
            "          .  \n",
            "          .      // Reads n and m. \n",
            "         11      cin >> n >> m;\n",
            "     12,063  => ???:std::istream::operator>>(int&) (2x)\n",
            "          .  \n",
            "          .      // Defining the two vectors that receive the sequences.\n",
            "          3      vector<dna> dnas_first_seq;\n",
            "         52  => /usr/include/c++/7/bits/stl_vector.h:std::vector<dna, std::allocator<dna> >::vector() (1x)\n",
            "          3      vector<dna> dnas_second_seq;\n",
            "         52  => /usr/include/c++/7/bits/stl_vector.h:std::vector<dna, std::allocator<dna> >::vector() (1x)\n",
            "          .  \n",
            "          .      // Reserving n and m length on the vectors.\n",
            "          6      dnas_first_seq.reserve(n);\n",
            "      2,123  => /usr/include/c++/7/bits/vector.tcc:std::vector<dna, std::allocator<dna> >::reserve(unsigned long) (1x)\n",
            "          6      dnas_second_seq.reserve(m);\n",
            "        798  => /usr/include/c++/7/bits/vector.tcc:std::vector<dna, std::allocator<dna> >::reserve(unsigned long) (1x)\n",
            "          .  \n",
            "          .      dna dna_next;\n",
            "          .  \n",
            "          .      // Reads the first sequence and completes the dna_first_seq vector with the sequence.\n",
            "      5,004      for(int i = 0; i < n; i++) {\n",
            "      6,000          cin >> dna_next.dna_value;\n",
            "    252,096  => ???:std::basic_istream<char, std::char_traits<char> >& std::operator>><char, std::char_traits<char> >(std::basic_istream<char, std::char_traits<char> >&, char&) (1000x)\n",
            "      2,000          dna_next.id = i;\n",
            "      5,000          dnas_first_seq.push_back(dna_next);\n",
            "     88,000  => /usr/include/c++/7/bits/stl_vector.h:std::vector<dna, std::allocator<dna> >::push_back(dna const&) (1000x)\n",
            "          .      }\n",
            "          .  \n",
            "          .      // Reads the second sequence and completes the dna_second_seq vector with the sequence.\n",
            "      5,004      for(int i = 0; i < m; i++) {\n",
            "      6,000          cin >> dna_next.dna_value;\n",
            "    252,096  => ???:std::basic_istream<char, std::char_traits<char> >& std::operator>><char, std::char_traits<char> >(std::basic_istream<char, std::char_traits<char> >&, char&) (1000x)\n",
            "      2,000          dna_next.id = i;\n",
            "      5,000          dnas_second_seq.push_back(dna_next);\n",
            "     88,000  => /usr/include/c++/7/bits/stl_vector.h:std::vector<dna, std::allocator<dna> >::push_back(dna const&) (1000x)\n",
            "          .      }\n",
            "          .      \n",
            "          .      // Generate one thousand values for k in random form.\n",
            "        891      for (int z = 0; z < 10000; z++) {\n",
            "      5,795          random_device random;\n",
            "     23,368  => ???:std::__cxx11::basic_string<char, std::char_traits<char>, std::allocator<char> >::basic_string(char const*, std::allocator<char> const&) (223x)\n",
            "        223  => ???:std::allocator<char>::allocator() (223x)\n",
            "    134,996  => /usr/include/c++/7/bits/random.h:std::random_device::random_device(std::__cxx11::basic_string<char, std::char_traits<char>, std::allocator<char> > const&) (223x)\n",
            "      1,115  => ???:std::__cxx11::basic_string<char, std::char_traits<char>, std::allocator<char> >::~basic_string() (223x)\n",
            "        223  => ???:std::allocator<char>::~allocator() (223x)\n",
            "     90,938  => /usr/include/c++/7/bits/random.h:std::random_device::~random_device() (222x)\n",
            "      1,784          mt19937 generator(random());\n",
            "     16,221  => /usr/include/c++/7/bits/random.h:std::random_device::operator()() (223x)\n",
            " 10,153,190  => /usr/include/c++/7/bits/random.h:std::mersenne_twister_engine<unsigned long, 32ul, 624ul, 397ul, 31ul, 2567483615ul, 11ul, 4294967295ul, 7ul, 2636928640ul, 15ul, 4022730752ul, 18ul, 1812433253ul>::mersenne_twister_engine(unsigned long) (223x)\n",
            "      1,115          uniform_int_distribution<int> distribution(1,m);\n",
            "      6,467  => /usr/include/c++/7/bits/uniform_int_dist.h:std::uniform_int_distribution<int>::uniform_int_distribution(int, int) (223x)\n",
            "      1,338          int k = distribution(generator);\n",
            "  4,692,359  => /usr/include/c++/7/bits/uniform_int_dist.h:int std::uniform_int_distribution<int>::operator()<std::mersenne_twister_engine<unsigned long, 32ul, 624ul, 397ul, 31ul, 2567483615ul, 11ul, 4294967295ul, 7ul, 2636928640ul, 15ul, 4022730752ul, 18ul, 1812433253ul> >(std::mersenne_twister_engine<unsigned long, 32ul, 624ul, 397ul, 31ul, 2567483615ul, 11ul, 4294967295ul, 7ul, 2636928640ul, 15ul, 4022730752ul, 18ul, 1812433253ul>&) (223x)\n",
            "      1,335          vector<char> subsequence_b;\n",
            "     42,624  => /usr/include/c++/7/bits/stl_vector.h:std::vector<char, std::allocator<char> >::~vector() (222x)\n",
            "      8,474  => /usr/include/c++/7/bits/stl_vector.h:std::vector<char, std::allocator<char> >::vector() (223x)\n",
            "          .          // Creates subsequence b with the first k elements of sequence b.\n",
            "    556,372          for (int i = 0; i < k; i++) {\n",
            "  1,222,056              subsequence_b.push_back(dnas_second_seq[i].dna_value);\n",
            "  1,222,056  => /usr/include/c++/7/bits/stl_vector.h:std::vector<dna, std::allocator<dna> >::operator[](unsigned long) (111096x)\n",
            " 12,453,005  => /usr/include/c++/7/bits/stl_vector.h:std::vector<char, std::allocator<char> >::push_back(char const&) (111096x)\n",
            "          .          }\n",
            "          .  \n",
            "          .          // Creates matrix that will receive the subsequences of a.\n",
            "      1,335          vector<vector<char> > subsequences_a;\n",
            "     11,596  => /usr/include/c++/7/bits/stl_vector.h:std::vector<std::vector<char, std::allocator<char> >, std::allocator<std::vector<char, std::allocator<char> > > >::vector() (223x)\n",
            " 26,550,122  => /usr/include/c++/7/bits/stl_vector.h:std::vector<std::vector<char, std::allocator<char> >, std::allocator<std::vector<char, std::allocator<char> > > >::~vector() (222x)\n",
            "          .  \n",
            "        223          int counter = 0;\n",
            "      1,781          vector<dna> dnas_first_seq_flexible = dnas_first_seq;\n",
            "     45,954  => /usr/include/c++/7/bits/stl_vector.h:std::vector<dna, std::allocator<dna> >::~vector() (222x)\n",
            "  1,924,642  => /usr/include/c++/7/bits/stl_vector.h:std::vector<dna, std::allocator<dna> >::vector(std::vector<dna, std::allocator<dna> > const&) (223x)\n",
            "          .  \n",
            "          .          // Create empty vectors inside the matrix.\n",
            "  1,460,327          while(dnas_first_seq_flexible.size() - k + 1 > 0) {\n",
            "  1,460,550  => /usr/include/c++/7/bits/stl_vector.h:std::vector<dna, std::allocator<dna> >::size() const (112350x)\n",
            "    672,762              vector<char> subsequence_a;\n",
            " 12,109,716  => /usr/include/c++/7/bits/stl_vector.h:std::vector<char, std::allocator<char> >::~vector() (112127x)\n",
            "  4,260,826  => /usr/include/c++/7/bits/stl_vector.h:std::vector<char, std::allocator<char> >::vector() (112127x)\n",
            "    560,635              subsequences_a.push_back(subsequence_a);\n",
            "142,744,190  => /usr/include/c++/7/bits/stl_vector.h:std::vector<std::vector<char, std::allocator<char> >, std::allocator<std::vector<char, std::allocator<char> > > >::push_back(std::vector<char, std::allocator<char> > const&) (112127x)\n",
            "  1,569,778              dnas_first_seq_flexible.erase(dnas_first_seq_flexible.begin());\n",
            "  3,251,683  => /usr/include/c++/7/bits/stl_vector.h:std::vector<dna, std::allocator<dna> >::begin() (112127x)\n",
            "  2,242,540  => /usr/include/c++/7/bits/stl_iterator.h:__gnu_cxx::__normal_iterator<dna const*, std::vector<dna, std::allocator<dna> > >::__normal_iterator<dna*>(__gnu_cxx::__normal_iterator<dna*, __gnu_cxx::__enable_if<std::__are_same<dna*, dna*>::__value, std::vector<dna, std::allocator<dna> > >::__type> const&) (112127x)\n",
            "590,122,882  => /usr/include/c++/7/bits/stl_vector.h:std::vector<dna, std::allocator<dna> >::erase(__gnu_cxx::__normal_iterator<dna const*, std::vector<dna, std::allocator<dna> > >) (112127x)\n",
            "          .          }\n",
            "          .          \n",
            "      1,115          dnas_first_seq_flexible = dnas_first_seq;\n",
            "  1,477,504  => /usr/include/c++/7/bits/vector.tcc:std::vector<dna, std::allocator<dna> >::operator=(std::vector<dna, std::allocator<dna> > const&) (223x)\n",
            "          .  \n",
            "          .          // Create the subsequences of a.\n",
            "  1,457,857          while(dnas_first_seq_flexible.size() - k + 1 > 0) {\n",
            "  1,458,080  => /usr/include/c++/7/bits/stl_vector.h:std::vector<dna, std::allocator<dna> >::size() const (112160x)\n",
            "185,285,052              for (int i = 0; i < k; i++) {\n",
            "628,446,837                  subsequences_a[counter].push_back(dnas_first_seq_flexible[i].dna_value);\n",
            "406,642,071  => /usr/include/c++/7/bits/stl_vector.h:std::vector<dna, std::allocator<dna> >::operator[](unsigned long) (36967461x)\n",
            "517,544,454  => /usr/include/c++/7/bits/stl_vector.h:std::vector<std::vector<char, std::allocator<char> >, std::allocator<std::vector<char, std::allocator<char> > > >::operator[](unsigned long) (36967461x)\n",
            "Negative repeat count does nothing at /usr/bin/callgrind_annotate line 828, <INPUTFILE> line 80.\n",
            "4,505,601,066  => /usr/include/c++/7/bits/stl_vector.h:std::vector<char, std::allocator<char> >::push_back(char const&) (36967461x)\n",
            "          .              }\n",
            "    111,937              counter++;\n",
            "  1,567,118              dnas_first_seq_flexible.erase(dnas_first_seq_flexible.begin());\n",
            "  2,238,740  => /usr/include/c++/7/bits/stl_iterator.h:__gnu_cxx::__normal_iterator<dna const*, std::vector<dna, std::allocator<dna> > >::__normal_iterator<dna*>(__gnu_cxx::__normal_iterator<dna*, __gnu_cxx::__enable_if<std::__are_same<dna*, dna*>::__value, std::vector<dna, std::allocator<dna> > >::__type> const&) (111937x)\n",
            "  3,246,173  => /usr/include/c++/7/bits/stl_vector.h:std::vector<dna, std::allocator<dna> >::begin() (111937x)\n",
            "588,741,012  => /usr/include/c++/7/bits/stl_vector.h:std::vector<dna, std::allocator<dna> >::erase(__gnu_cxx::__normal_iterator<dna const*, std::vector<dna, std::allocator<dna> > >) (111937x)\n",
            "          .          }\n",
            "          .  \n",
            "          .          // Create vector of scores.\n",
            "      1,332          vector<int> scores;\n",
            "     11,544  => /usr/include/c++/7/bits/stl_vector.h:std::vector<int, std::allocator<int> >::vector() (222x)\n",
            "     45,954  => /usr/include/c++/7/bits/stl_vector.h:std::vector<int, std::allocator<int> >::~vector() (222x)\n",
            "          .  \n",
            "        222          int sum_score_pair = 0;\n",
            "          .          // Generate scores.\n",
            "  1,232,746          for (int i = 0; i < subsequences_a.size(); i++) {\n",
            "  1,793,408  => /usr/include/c++/7/bits/stl_vector.h:std::vector<std::vector<char, std::allocator<char> >, std::allocator<std::vector<char, std::allocator<char> > > >::size() const (112088x)\n",
            "518,257,594              for (int j = 0; j < subsequences_a[0].size(); j++) {\n",
            "518,369,460  => /usr/include/c++/7/bits/stl_vector.h:std::vector<std::vector<char, std::allocator<char> >, std::allocator<std::vector<char, std::allocator<char> > > >::operator[](unsigned long) (37026390x)\n",
            "444,316,680  => /usr/include/c++/7/bits/stl_vector.h:std::vector<char, std::allocator<char> >::size() const (37026390x)\n",
            "849,034,052                  if (subsequences_a[i][j] == subsequence_b[j]) {\n",
            "516,803,336  => /usr/include/c++/7/bits/stl_vector.h:std::vector<std::vector<char, std::allocator<char> >, std::allocator<std::vector<char, std::allocator<char> > > >::operator[](unsigned long) (36914524x)\n",
            "738,290,480  => /usr/include/c++/7/bits/stl_vector.h:std::vector<char, std::allocator<char> >::operator[](unsigned long) (73829048x)\n",
            " 29,654,868                      sum_score_pair += 2;\n",
            "          .                  } else {\n",
            " 88,502,421                      sum_score_pair -= 1;\n",
            "          .                  }\n",
            "          .              }\n",
            "    559,330              scores.push_back(sum_score_pair);\n",
            " 12,525,841  => /usr/include/c++/7/bits/stl_vector.h:std::vector<int, std::allocator<int> >::push_back(int const&) (111866x)\n",
            "    111,866              sum_score_pair = 0;\n",
            "          .          }\n",
            "          .  \n",
            "          .          // Gets the index of the max score and the value.\n",
            "      4,662          int score_max_index = max_element(scores.begin(),scores.end()) - scores.begin();\n",
            "     12,876  => /usr/include/c++/7/bits/stl_vector.h:std::vector<int, std::allocator<int> >::begin() (444x)\n",
            " 10,640,155  => /usr/include/c++/7/bits/stl_algo.h:__gnu_cxx::__normal_iterator<int*, std::vector<int, std::allocator<int> > > std::max_element<__gnu_cxx::__normal_iterator<int*, std::vector<int, std::allocator<int> > > >(__gnu_cxx::__normal_iterator<int*, std::vector<int, std::allocator<int> > >, __gnu_cxx::__normal_iterator<int*, std::vector<int, std::allocator<int> > >) (222x)\n",
            "      7,548  => /usr/include/c++/7/bits/stl_iterator.h:__gnu_cxx::__normal_iterator<int*, std::vector<int, std::allocator<int> > >::difference_type __gnu_cxx::operator-<int*, std::vector<int, std::allocator<int> > >(__gnu_cxx::__normal_iterator<int*, std::vector<int, std::allocator<int> > > const&, __gnu_cxx::__normal_iterator<int*, std::vector<int, std::allocator<int> > > const&) (222x)\n",
            "      6,660  => /usr/include/c++/7/bits/stl_vector.h:std::vector<int, std::allocator<int> >::end() (222x)\n",
            "      3,552          int score_max = *max_element(scores.begin(), scores.end());\n",
            " 10,640,155  => /usr/include/c++/7/bits/stl_algo.h:__gnu_cxx::__normal_iterator<int*, std::vector<int, std::allocator<int> > > std::max_element<__gnu_cxx::__normal_iterator<int*, std::vector<int, std::allocator<int> > > >(__gnu_cxx::__normal_iterator<int*, std::vector<int, std::allocator<int> > >, __gnu_cxx::__normal_iterator<int*, std::vector<int, std::allocator<int> > >) (222x)\n",
            "      1,554  => /usr/include/c++/7/bits/stl_iterator.h:__gnu_cxx::__normal_iterator<int*, std::vector<int, std::allocator<int> > >::operator*() const (222x)\n",
            "      6,660  => /usr/include/c++/7/bits/stl_vector.h:std::vector<int, std::allocator<int> >::end() (222x)\n",
            "      6,438  => /usr/include/c++/7/bits/stl_vector.h:std::vector<int, std::allocator<int> >::begin() (222x)\n",
            "          .  \n",
            "          .          // Compares max score global with actual max score. If max score global equals\n",
            "          .          // to actual max score and if actual max score has subsequence bigger than \n",
            "          .          // max score global change max score global to actual max score and change subsequences.\n",
            "        666          if (score_max == score_max_global) {\n",
            "          .              if(subsequences_a[score_max_index].size() > subsequence_a_max_score_global.size()) {\n",
            "          .                  subsequence_a_max_score_global = subsequences_a[score_max_index];\n",
            "          .                  subsequence_b_max_score_global = subsequence_b;\n",
            "          .              }\n",
            "          .          }\n",
            "          .  \n",
            "          .          // If actual max score bigger than max score global change max score global and its subsequences.\n",
            "        666          if (score_max > score_max_global) {\n",
            "          8              score_max_global = score_max;\n",
            "         44              subsequence_a_max_score_global = subsequences_a[score_max_index];\n",
            "         56  => /usr/include/c++/7/bits/stl_vector.h:std::vector<std::vector<char, std::allocator<char> >, std::allocator<std::vector<char, std::allocator<char> > > >::operator[](unsigned long) (4x)\n",
            "      5,419  => /usr/include/c++/7/bits/vector.tcc:std::vector<char, std::allocator<char> >::operator=(std::vector<char, std::allocator<char> > const&) (4x)\n",
            "         20              subsequence_b_max_score_global = subsequence_b;\n",
            "      2,330  => /usr/include/c++/7/bits/vector.tcc:std::vector<char, std::allocator<char> >::operator=(std::vector<char, std::allocator<char> > const&) (4x)\n",
            "          .          }\n",
            "          .      }\n",
            "          .  \n",
            "          .      cout << score_max_global << endl;\n",
            "          .  \n",
            "          .      for (auto& el: subsequence_a_max_score_global) {\n",
            "          .          cout << el;\n",
            "          .      }\n",
            "          .  \n",
            "          .      cout << endl;\n",
            "          .  \n",
            "          .      for (auto& el: subsequence_b_max_score_global) {\n",
            "          .          cout << el;\n",
            "          .      }\n",
            "         19  }    109,321  => busca_local.cpp:__static_initialization_and_destruction_0(int, int) (1x)\n",
            "\n",
            "--------------------------------------------------------------------------------\n",
            "Ir \n",
            "--------------------------------------------------------------------------------\n",
            "20  percentage of events annotated\n",
            "\n"
          ]
        }
      ]
    },
    {
      "cell_type": "markdown",
      "source": [
        "O profilling do código de busca local aponta que a montagem das subsequências de a e o cálculo da pontuação são os pontos que mais apresentaram lentidão."
      ],
      "metadata": {
        "id": "o3nHLZez2uR-"
      }
    },
    {
      "cell_type": "code",
      "source": [
        "table = [['Tamanho das sequências', 'Tempo'], ['200x200', '0.6649'], ['400x200', '1.5086'], ['400x400', '1.3414'], ['1000x1000', '5.8454']]"
      ],
      "metadata": {
        "id": "w7s5BzTi3MVn"
      },
      "execution_count": 39,
      "outputs": []
    },
    {
      "cell_type": "code",
      "source": [
        "print(tabulate(table, headers='firstrow', tablefmt='grid'))"
      ],
      "metadata": {
        "colab": {
          "base_uri": "https://localhost:8080/"
        },
        "id": "qaDG7DtO3QZe",
        "outputId": "3bf77657-b865-4db4-f3ae-27503f00b85c"
      },
      "execution_count": 40,
      "outputs": [
        {
          "output_type": "stream",
          "name": "stdout",
          "text": [
            "+--------------------------+---------+\n",
            "| Tamanho das sequências   |   Tempo |\n",
            "+==========================+=========+\n",
            "| 200x200                  |  0.6649 |\n",
            "+--------------------------+---------+\n",
            "| 400x200                  |  1.5086 |\n",
            "+--------------------------+---------+\n",
            "| 400x400                  |  1.3414 |\n",
            "+--------------------------+---------+\n",
            "| 1000x1000                |  5.8454 |\n",
            "+--------------------------+---------+\n"
          ]
        }
      ]
    },
    {
      "cell_type": "markdown",
      "source": [
        "### Criando o arquivo da busca exaustiva"
      ],
      "metadata": {
        "id": "rTk0c-ynOBZr"
      }
    },
    {
      "cell_type": "code",
      "source": [
        "%%writefile busca_exaustiva.cpp\n",
        "#include <iostream>\n",
        "#include <vector>\n",
        "#include <algorithm>\n",
        "\n",
        "using namespace std;\n",
        "\n",
        "void create_subsequences(vector<char>& dnas, vector<vector<char> >& subsequences, vector<char>& subsequence, int index, int n){\n",
        "    if (index == n){\n",
        "        // Compares if subsequence string is in dnas string. If its in add it to the matrix.\n",
        "        string subsequence_string(subsequence.begin(), subsequence.end());\n",
        "        string dnas_string(dnas.begin(), dnas.end());\n",
        "        if (dnas_string.find(subsequence_string) != string::npos) {\n",
        "            subsequences.push_back(subsequence);\n",
        "        }\n",
        "    } else {\n",
        "        subsequence.push_back(dnas[index]);\n",
        "        create_subsequences(dnas, subsequences, subsequence, index + 1, n);\n",
        "        subsequence.pop_back();\n",
        "        create_subsequences(dnas, subsequences, subsequence, index + 1, n);\n",
        "\n",
        "    }\n",
        "}\n",
        "\n",
        "\n",
        "\n",
        "int main() {\n",
        "\n",
        "    // Defining n and m. Value of n is the length of the first sequence. Value of m is the length of the second sequence.\n",
        "    int n; int m;\n",
        "\n",
        "    // Reads n and m. \n",
        "    cin >> n >> m;\n",
        "\n",
        "    // Defining the two vectors that receive the sequences.\n",
        "    vector<char> dnas_first_seq;\n",
        "    vector<char> dnas_second_seq;\n",
        "\n",
        "    // Reserving n and m length on the vectors.\n",
        "    dnas_first_seq.reserve(n);\n",
        "    dnas_second_seq.reserve(m);\n",
        "\n",
        "    char dna_next;\n",
        "\n",
        "    // Reads the first sequence and completes the dna_first_seq vector with the sequence.\n",
        "    for(int i = 0; i < n; i++) {\n",
        "        cin >> dna_next;\n",
        "        dnas_first_seq.push_back(dna_next);\n",
        "    }\n",
        "\n",
        "    // Reads the second sequence and completes the dna_second_seq vector with the sequence.\n",
        "    for(int i = 0; i < m; i++) {\n",
        "        cin >> dna_next;\n",
        "        dnas_second_seq.push_back(dna_next);\n",
        "    }\n",
        "    \n",
        "    // Creating matrixes that will contain the subsequences of a and b.\n",
        "    vector<vector<char> > subsequences_a;\n",
        "    vector<vector<char> > subsequences_b;\n",
        "\n",
        "    vector<char> subsequence_a;\n",
        "    vector<char> subsequence_b;\n",
        "\n",
        "    // Creating subsequences recursively.\n",
        "    create_subsequences(dnas_first_seq, subsequences_a, subsequence_a, 0, n);\n",
        "    create_subsequences(dnas_second_seq, subsequences_b, subsequence_b, 0, m);\n",
        "\n",
        "    // Erase duplicates.\n",
        "    subsequences_a.erase(unique(subsequences_a.begin(), subsequences_a.end()), subsequences_a.end());\n",
        "    subsequences_b.erase(unique(subsequences_b.begin(), subsequences_b.end()), subsequences_b.end());\n",
        "\n",
        "    // Create matrix that will contain the scores.\n",
        "    vector<vector<int> > scores;\n",
        "\n",
        "    vector<int> scores_next;\n",
        "\n",
        "    for (int i = 0; i < subsequences_a.size(); i++) {\n",
        "        scores.push_back(scores_next);\n",
        "    }\n",
        "\n",
        "    int sum_score_pair = 0;\n",
        "\n",
        "    // Calculate scores. If subsequence of a bigger than subsequence of b calculate\n",
        "    // for all elements of b and the first elements of a that has the same size of \n",
        "    // b subsequence. Else the inverse.\n",
        "    for (int i = 0; i < subsequences_a.size(); i++) {\n",
        "        for (int j = 0; j < subsequences_b.size(); j++) {\n",
        "            if (subsequences_a[i].size() > subsequences_b[j].size()) {\n",
        "                for (int k = 0; k < subsequences_b[j].size(); k++) {\n",
        "                    if (subsequences_a[i][k] == subsequences_b[j][k]) {\n",
        "                        sum_score_pair+=2;\n",
        "                    } else {\n",
        "                        sum_score_pair-=1;\n",
        "                    }\n",
        "                }\n",
        "            } else {\n",
        "                for (int k = 0; k < subsequences_a[i].size(); k++) {\n",
        "                    if (subsequences_a[i][k] == subsequences_b[j][k]) {\n",
        "                        sum_score_pair+=2;\n",
        "                    } else {\n",
        "                        sum_score_pair-=1;\n",
        "                    }\n",
        "                }\n",
        "            }\n",
        "            scores[i].push_back(sum_score_pair);\n",
        "            sum_score_pair = 0;\n",
        "        }\n",
        "    }\n",
        "\n",
        "    int max_score = 0;\n",
        "\n",
        "    int max_x = 0;\n",
        "    int max_y = 0;\n",
        "\n",
        "\n",
        "    // Get the max score and the subsequences correlated to the max score.\n",
        "    for (int i = 0; i < scores.size(); i++) {\n",
        "        for (int j = 0; j < scores[0].size(); j++) {\n",
        "            if (scores[i][j] > max_score) {\n",
        "                max_x = i;\n",
        "                max_y = j;\n",
        "                max_score = scores[i][j];\n",
        "            }\n",
        "        }\n",
        "    }\n",
        "\n",
        "    cout << max_score;\n",
        "    cout << endl;\n",
        "\n",
        "    for(auto& subsequence_a: subsequences_a[max_x]) {\n",
        "        cout << subsequence_a;\n",
        "    }\n",
        "\n",
        "    cout << endl;\n",
        "\n",
        "    for(auto& subsequence_b: subsequences_b[max_y]) {\n",
        "        cout << subsequence_b;\n",
        "    }\n",
        "\n",
        "\n",
        "}"
      ],
      "metadata": {
        "colab": {
          "base_uri": "https://localhost:8080/"
        },
        "id": "qLKprKPq4Z0w",
        "outputId": "2a00a5e2-b7b0-4957-8637-e99c98575661"
      },
      "execution_count": 47,
      "outputs": [
        {
          "output_type": "stream",
          "name": "stdout",
          "text": [
            "Overwriting busca_exaustiva.cpp\n"
          ]
        }
      ]
    },
    {
      "cell_type": "code",
      "source": [
        "!g++ -g busca_exaustiva.cpp -o busca_exaustiva"
      ],
      "metadata": {
        "id": "NCMYH_1S4Z7Q"
      },
      "execution_count": 48,
      "outputs": []
    },
    {
      "cell_type": "markdown",
      "source": [
        "### Criando o primeiro arquivo de entrada para a busca exaustiva"
      ],
      "metadata": {
        "id": "oiVOGllAOHPG"
      }
    },
    {
      "cell_type": "code",
      "source": [
        "%%writefile in4_busca_exaustiva.txt\n",
        "30\n",
        "30\n",
        "TTACCGGCTACCCAAAC-CTAG-GGT-GAA\n",
        "-G--TCA-AC-CT-TGTAA-TCCCCGGCTA"
      ],
      "metadata": {
        "colab": {
          "base_uri": "https://localhost:8080/"
        },
        "id": "qi-t5sHQ4Z_K",
        "outputId": "6ea9fcaa-24c1-485b-8c04-d4ef54831f44"
      },
      "execution_count": 51,
      "outputs": [
        {
          "output_type": "stream",
          "name": "stdout",
          "text": [
            "Writing in4_busca_exaustiva.txt\n"
          ]
        }
      ]
    },
    {
      "cell_type": "markdown",
      "source": [
        "### Executando o Valgrind e o callgrind annotate para a busca exaustiva"
      ],
      "metadata": {
        "id": "IJDt6YIyONdR"
      }
    },
    {
      "cell_type": "code",
      "source": [
        "!valgrind --tool=callgrind ./busca_exaustiva < in4_busca_exaustiva.txt"
      ],
      "metadata": {
        "colab": {
          "base_uri": "https://localhost:8080/"
        },
        "id": "1rdpyoPb4aBP",
        "outputId": "e16e8848-6536-4d41-df83-7cd134df4ca9"
      },
      "execution_count": 54,
      "outputs": [
        {
          "output_type": "stream",
          "name": "stdout",
          "text": [
            "==1239== Callgrind, a call-graph generating cache profiler\n",
            "==1239== Copyright (C) 2002-2017, and GNU GPL'd, by Josef Weidendorfer et al.\n",
            "==1239== Using Valgrind-3.13.0 and LibVEX; rerun with -h for copyright info\n",
            "==1239== Command: ./busca_exaustiva\n",
            "==1239== \n",
            "==1239== For interactive control, run 'callgrind_control -h'.\n",
            "==1239== brk segment overflow in thread #1: can't grow to 0x4a2c000\n",
            "==1239== (see section Limitations in user manual)\n",
            "==1239== NOTE: further instances of this message will not be shown\n",
            "==1239== \n",
            "==1239== Process terminating with default action of signal 2 (SIGINT)\n",
            "==1239==    at 0x10AC3E: __gnu_cxx::__normal_iterator<char*, std::vector<char, std::allocator<char> > >::operator*() const (stl_iterator.h:795)\n",
            "==1239==    by 0x10DC5A: void std::__cxx11::basic_string<char, std::char_traits<char>, std::allocator<char> >::_S_copy_chars<__gnu_cxx::__normal_iterator<char*, std::vector<char, std::allocator<char> > > >(char*, __gnu_cxx::__normal_iterator<char*, std::vector<char, std::allocator<char> > >, __gnu_cxx::__normal_iterator<char*, std::vector<char, std::allocator<char> > >) (basic_string.h:368)\n",
            "==1239==    by 0x10D22C: void std::__cxx11::basic_string<char, std::char_traits<char>, std::allocator<char> >::_M_construct<__gnu_cxx::__normal_iterator<char*, std::vector<char, std::allocator<char> > > >(__gnu_cxx::__normal_iterator<char*, std::vector<char, std::allocator<char> > >, __gnu_cxx::__normal_iterator<char*, std::vector<char, std::allocator<char> > >, std::forward_iterator_tag) (basic_string.tcc:225)\n",
            "==1239==    by 0x10C137: void std::__cxx11::basic_string<char, std::char_traits<char>, std::allocator<char> >::_M_construct_aux<__gnu_cxx::__normal_iterator<char*, std::vector<char, std::allocator<char> > > >(__gnu_cxx::__normal_iterator<char*, std::vector<char, std::allocator<char> > >, __gnu_cxx::__normal_iterator<char*, std::vector<char, std::allocator<char> > >, std::__false_type) (basic_string.h:236)\n",
            "==1239==    by 0x10ACBB: void std::__cxx11::basic_string<char, std::char_traits<char>, std::allocator<char> >::_M_construct<__gnu_cxx::__normal_iterator<char*, std::vector<char, std::allocator<char> > > >(__gnu_cxx::__normal_iterator<char*, std::vector<char, std::allocator<char> > >, __gnu_cxx::__normal_iterator<char*, std::vector<char, std::allocator<char> > >) (basic_string.h:255)\n",
            "==1239==    by 0x10A3BC: std::__cxx11::basic_string<char, std::char_traits<char>, std::allocator<char> >::basic_string<__gnu_cxx::__normal_iterator<char*, std::vector<char, std::allocator<char> > >, void>(__gnu_cxx::__normal_iterator<char*, std::vector<char, std::allocator<char> > >, __gnu_cxx::__normal_iterator<char*, std::vector<char, std::allocator<char> > >, std::allocator<char> const&) (basic_string.h:607)\n",
            "==1239==    by 0x1096B4: create_subsequences(std::vector<char, std::allocator<char> >&, std::vector<std::vector<char, std::allocator<char> >, std::allocator<std::vector<char, std::allocator<char> > > >&, std::vector<char, std::allocator<char> >&, int, int) (busca_exaustiva.cpp:11)\n",
            "==1239==    by 0x10976C: create_subsequences(std::vector<char, std::allocator<char> >&, std::vector<std::vector<char, std::allocator<char> >, std::allocator<std::vector<char, std::allocator<char> > > >&, std::vector<char, std::allocator<char> >&, int, int) (busca_exaustiva.cpp:17)\n",
            "==1239==    by 0x10976C: create_subsequences(std::vector<char, std::allocator<char> >&, std::vector<std::vector<char, std::allocator<char> >, std::allocator<std::vector<char, std::allocator<char> > > >&, std::vector<char, std::allocator<char> >&, int, int) (busca_exaustiva.cpp:17)\n",
            "==1239==    by 0x1097A4: create_subsequences(std::vector<char, std::allocator<char> >&, std::vector<std::vector<char, std::allocator<char> >, std::allocator<std::vector<char, std::allocator<char> > > >&, std::vector<char, std::allocator<char> >&, int, int) (busca_exaustiva.cpp:19)\n",
            "==1239==    by 0x10976C: create_subsequences(std::vector<char, std::allocator<char> >&, std::vector<std::vector<char, std::allocator<char> >, std::allocator<std::vector<char, std::allocator<char> > > >&, std::vector<char, std::allocator<char> >&, int, int) (busca_exaustiva.cpp:17)\n",
            "==1239==    by 0x1097A4: create_subsequences(std::vector<char, std::allocator<char> >&, std::vector<std::vector<char, std::allocator<char> >, std::allocator<std::vector<char, std::allocator<char> > > >&, std::vector<char, std::allocator<char> >&, int, int) (busca_exaustiva.cpp:19)\n",
            "==1239== \n",
            "==1239== Events    : Ir\n",
            "==1239== Collected : 37519952234\n",
            "==1239== \n",
            "==1239== I   refs:      37,519,952,234\n",
            "^C\n"
          ]
        }
      ]
    },
    {
      "cell_type": "code",
      "source": [
        "!callgrind_annotate callgrind.out.1239 busca_exaustiva.cpp "
      ],
      "metadata": {
        "colab": {
          "base_uri": "https://localhost:8080/"
        },
        "id": "pJ9Ua66O6gqC",
        "outputId": "8c762ce8-e10c-42f3-d959-674e7c81445c"
      },
      "execution_count": 55,
      "outputs": [
        {
          "output_type": "stream",
          "name": "stdout",
          "text": [
            "--------------------------------------------------------------------------------\n",
            "Profile data file 'callgrind.out.1239' (creator: callgrind-3.13.0)\n",
            "--------------------------------------------------------------------------------\n",
            "I1 cache: \n",
            "D1 cache: \n",
            "LL cache: \n",
            "Timerange: Basic block 0 - 6870820786\n",
            "Trigger: Program termination\n",
            "Profiled target:  ./busca_exaustiva (PID 1239, part 1)\n",
            "Events recorded:  Ir\n",
            "Events shown:     Ir\n",
            "Event sort order: Ir\n",
            "Thresholds:       99\n",
            "Include dirs:     \n",
            "User annotated:   busca_exaustiva.cpp\n",
            "Auto-annotation:  off\n",
            "\n",
            "--------------------------------------------------------------------------------\n",
            "            Ir \n",
            "--------------------------------------------------------------------------------\n",
            "37,519,952,234  PROGRAM TOTALS\n",
            "\n",
            "--------------------------------------------------------------------------------\n",
            "           Ir  file:function\n",
            "--------------------------------------------------------------------------------\n",
            "7,054,667,040  /usr/include/c++/7/bits/stl_iterator.h:bool __gnu_cxx::operator!=<char*, std::vector<char, std::allocator<char> > >(__gnu_cxx::__normal_iterator<char*, std::vector<char, std::allocator<char> > > const&, __gnu_cxx::__normal_iterator<char*, std::vector<char, std::allocator<char> > > const&) [/content/busca_exaustiva]\n",
            "6,999,122,293  /usr/include/c++/7/bits/basic_string.h:void std::__cxx11::basic_string<char, std::char_traits<char>, std::allocator<char> >::_S_copy_chars<__gnu_cxx::__normal_iterator<char*, std::vector<char, std::allocator<char> > > >(char*, __gnu_cxx::__normal_iterator<char*, std::vector<char, std::allocator<char> > >, __gnu_cxx::__normal_iterator<char*, std::vector<char, std::allocator<char> > >) [/content/busca_exaustiva]\n",
            "4,399,434,600  /usr/include/c++/7/bits/stl_iterator.h:__gnu_cxx::__normal_iterator<char*, std::vector<char, std::allocator<char> > >::base() const [/content/busca_exaustiva]\n",
            "3,727,318,826  /usr/include/c++/7/bits/stl_iterator.h:__gnu_cxx::__normal_iterator<char*, std::vector<char, std::allocator<char> > >::operator++() [/content/busca_exaustiva]\n",
            "3,727,318,826  /usr/include/c++/7/bits/char_traits.h:std::char_traits<char>::assign(char&, char const&) [/content/busca_exaustiva]\n",
            "2,371,930,162  /usr/include/c++/7/bits/stl_iterator.h:__gnu_cxx::__normal_iterator<char*, std::vector<char, std::allocator<char> > >::operator*() const [/content/busca_exaustiva]\n",
            "  978,977,443  busca_exaustiva.cpp:create_subsequences(std::vector<char, std::allocator<char> >&, std::vector<std::vector<char, std::allocator<char> >, std::allocator<std::vector<char, std::allocator<char> > > >&, std::vector<char, std::allocator<char> >&, int, int)'2 [/content/busca_exaustiva]\n",
            "  961,950,390  /usr/include/c++/7/bits/basic_string.tcc:void std::__cxx11::basic_string<char, std::char_traits<char>, std::allocator<char> >::_M_construct<__gnu_cxx::__normal_iterator<char*, std::vector<char, std::allocator<char> > > >(__gnu_cxx::__normal_iterator<char*, std::vector<char, std::allocator<char> > >, __gnu_cxx::__normal_iterator<char*, std::vector<char, std::allocator<char> > >, std::forward_iterator_tag) [/content/busca_exaustiva]\n",
            "  703,767,436  ???:std::__cxx11::basic_string<char, std::char_traits<char>, std::allocator<char> >::find(char const*, unsigned long, unsigned long) const [/usr/lib/x86_64-linux-gnu/libstdc++.so.6.0.25]\n",
            "  667,776,894  ???:free [???]\n",
            "  601,008,018  ???:operator new[](unsigned long) [???]\n",
            "  552,162,328  /build/glibc-uZu3wS/glibc-2.27/string/../sysdeps/x86_64/multiarch/memchr-avx2.S:__memchr_avx2 [/lib/x86_64-linux-gnu/libc-2.27.so]\n",
            "  453,863,935  /build/glibc-uZu3wS/glibc-2.27/string/../sysdeps/x86_64/multiarch/memcmp-avx2-movbe.S:__memcmp_avx2_movbe [/lib/x86_64-linux-gnu/libc-2.27.so]\n",
            "  430,471,761  /usr/include/c++/7/bits/basic_string.h:std::__cxx11::basic_string<char, std::char_traits<char>, std::allocator<char> >::basic_string<__gnu_cxx::__normal_iterator<char*, std::vector<char, std::allocator<char> > >, void>(__gnu_cxx::__normal_iterator<char*, std::vector<char, std::allocator<char> > >, __gnu_cxx::__normal_iterator<char*, std::vector<char, std::allocator<char> > >, std::allocator<char> const&) [/content/busca_exaustiva]\n",
            "  361,040,836  /usr/include/c++/7/bits/stl_iterator_base_funcs.h:std::iterator_traits<__gnu_cxx::__normal_iterator<char*, std::vector<char, std::allocator<char> > > >::difference_type std::distance<__gnu_cxx::__normal_iterator<char*, std::vector<char, std::allocator<char> > > >(__gnu_cxx::__normal_iterator<char*, std::vector<char, std::allocator<char> > >, __gnu_cxx::__normal_iterator<char*, std::vector<char, std::allocator<char> > >) [/content/busca_exaustiva]\n",
            "  333,268,457  /usr/include/c++/7/bits/basic_string.h:void std::__cxx11::basic_string<char, std::char_traits<char>, std::allocator<char> >::_M_construct<__gnu_cxx::__normal_iterator<char*, std::vector<char, std::allocator<char> > > >(__gnu_cxx::__normal_iterator<char*, std::vector<char, std::allocator<char> > >, __gnu_cxx::__normal_iterator<char*, std::vector<char, std::allocator<char> > >) [/content/busca_exaustiva]\n",
            "  333,268,457  /usr/include/c++/7/bits/basic_string.h:void std::__cxx11::basic_string<char, std::char_traits<char>, std::allocator<char> >::_M_construct_aux<__gnu_cxx::__normal_iterator<char*, std::vector<char, std::allocator<char> > > >(__gnu_cxx::__normal_iterator<char*, std::vector<char, std::allocator<char> > >, __gnu_cxx::__normal_iterator<char*, std::vector<char, std::allocator<char> > >, std::__false_type) [/content/busca_exaustiva]\n",
            "  305,496,224  /usr/include/c++/7/bits/stl_iterator.h:__gnu_cxx::__normal_iterator<char*, std::vector<char, std::allocator<char> > >::__normal_iterator(char* const&) [/content/busca_exaustiva]\n",
            "  291,610,032  /usr/include/c++/7/bits/stl_iterator.h:__gnu_cxx::__normal_iterator<char*, std::vector<char, std::allocator<char> > >::difference_type __gnu_cxx::operator-<char*, std::vector<char, std::allocator<char> > >(__gnu_cxx::__normal_iterator<char*, std::vector<char, std::allocator<char> > > const&, __gnu_cxx::__normal_iterator<char*, std::vector<char, std::allocator<char> > > const&) [/content/busca_exaustiva]\n",
            "  263,837,648  /usr/include/c++/7/bits/stl_vector.h:std::vector<char, std::allocator<char> >::end() [/content/busca_exaustiva]\n",
            "  249,951,456  /usr/include/c++/7/bits/stl_vector.h:std::vector<char, std::allocator<char> >::begin() [/content/busca_exaustiva]\n",
            "  187,465,539  /usr/include/c++/7/bits/stl_vector.h:std::vector<char, std::allocator<char> >::push_back(char const&) [/content/busca_exaustiva]\n",
            "  166,634,232  /usr/include/c++/7/bits/stl_iterator_base_funcs.h:std::iterator_traits<__gnu_cxx::__normal_iterator<char*, std::vector<char, std::allocator<char> > > >::difference_type std::__distance<__gnu_cxx::__normal_iterator<char*, std::vector<char, std::allocator<char> > > >(__gnu_cxx::__normal_iterator<char*, std::vector<char, std::allocator<char> > >, __gnu_cxx::__normal_iterator<char*, std::vector<char, std::allocator<char> > >, std::random_access_iterator_tag) [/content/busca_exaustiva]\n",
            "  159,692,887  /usr/include/c++/7/ext/new_allocator.h:void __gnu_cxx::new_allocator<char>::construct<char, char const&>(char*, char const&) [/content/busca_exaustiva]\n",
            "  146,910,771  ???:std::__cxx11::basic_string<char, std::char_traits<char>, std::allocator<char> >::_M_create(unsigned long&, unsigned long) [/usr/lib/x86_64-linux-gnu/libstdc++.so.6.0.25]\n",
            "  124,977,042  /usr/include/c++/7/bits/alloc_traits.h:void std::allocator_traits<std::allocator<char> >::construct<char, char const&>(std::allocator<char>&, char*, char const&) [/content/busca_exaustiva]\n",
            "  124,975,656  /usr/include/c++/7/bits/stl_vector.h:std::vector<char, std::allocator<char> >::pop_back() [/content/busca_exaustiva]\n",
            "   96,141,960  ???:std::__cxx11::basic_string<char, std::char_traits<char>, std::allocator<char> >::~basic_string() [/usr/lib/x86_64-linux-gnu/libstdc++.so.6.0.25]\n",
            "   90,260,196  /usr/include/c++/7/bits/alloc_traits.h:void std::allocator_traits<std::allocator<char> >::destroy<char>(std::allocator<char>&, char*) [/content/busca_exaustiva]\n",
            "   83,318,064  /usr/include/c++/7/bits/move.h:char const& std::forward<char const&>(std::remove_reference<char const&>::type&) [/content/busca_exaustiva]\n",
            "   83,317,116  /usr/include/c++/7/ext/type_traits.h:bool __gnu_cxx::__is_null_pointer<__gnu_cxx::__normal_iterator<char*, std::vector<char, std::allocator<char> > > >(__gnu_cxx::__normal_iterator<char*, std::vector<char, std::allocator<char> > >) [/content/busca_exaustiva]\n",
            "   69,431,090  /usr/include/c++/7/bits/stl_vector.h:std::vector<char, std::allocator<char> >::operator[](unsigned long) [/content/busca_exaustiva]\n",
            "   69,430,930  /usr/include/c++/7/bits/stl_iterator_base_types.h:std::iterator_traits<__gnu_cxx::__normal_iterator<char*, std::vector<char, std::allocator<char> > > >::iterator_category std::__iterator_category<__gnu_cxx::__normal_iterator<char*, std::vector<char, std::allocator<char> > > >(__gnu_cxx::__normal_iterator<char*, std::vector<char, std::allocator<char> > > const&) [/content/busca_exaustiva]\n",
            "\n",
            "--------------------------------------------------------------------------------\n",
            "-- User-annotated source: busca_exaustiva.cpp\n",
            "--------------------------------------------------------------------------------\n",
            "         Ir \n",
            "\n",
            "          .  #include <iostream>\n",
            "          .  #include <vector>\n",
            "          .  #include <algorithm>\n",
            "          .  \n",
            "          .  using namespace std;\n",
            "          .  \n",
            "166,634,424  void create_subsequences(vector<char>& dnas, vector<vector<char> >& subsequences, vector<char>& subsequence, int index, int n){\n",
            " 41,658,606      if (index == n){\n",
            "          .          // Compares if subsequence string is in dnas string. If its in add it to the matrix.\n",
            "180,520,414          string subsequence_string(subsequence.begin(), subsequence.end());\n",
            "Negative repeat count does nothing at /usr/bin/callgrind_annotate line 828, <INPUTFILE> line 10.\n",
            "12,956,122,510  => /usr/include/c++/7/bits/basic_string.h:std::__cxx11::basic_string<char, std::char_traits<char>, std::allocator<char> >::basic_string<__gnu_cxx::__normal_iterator<char*, std::vector<char, std::allocator<char> > >, void>(__gnu_cxx::__normal_iterator<char*, std::vector<char, std::allocator<char> > >, __gnu_cxx::__normal_iterator<char*, std::vector<char, std::allocator<char> > >, std::allocator<char> const&) (6943093x)\n",
            "  6,943,093  => ???:std::allocator<char>::~allocator() (6943093x)\n",
            "201,349,697  => /usr/include/c++/7/bits/stl_vector.h:std::vector<char, std::allocator<char> >::begin() (6943093x)\n",
            "  6,943,093  => ???:std::allocator<char>::allocator() (6943093x)\n",
            "208,292,790  => /usr/include/c++/7/bits/stl_vector.h:std::vector<char, std::allocator<char> >::end() (6943093x)\n",
            "368,161,716  => ???:std::__cxx11::basic_string<char, std::char_traits<char>, std::allocator<char> >::~basic_string() (6943092x)\n",
            "180,520,410          string dnas_string(dnas.begin(), dnas.end());\n",
            "Negative repeat count does nothing at /usr/bin/callgrind_annotate line 828, <INPUTFILE> line 11.\n",
            "19,294,854,354  => /usr/include/c++/7/bits/basic_string.h:std::__cxx11::basic_string<char, std::char_traits<char>, std::allocator<char> >::basic_string<__gnu_cxx::__normal_iterator<char*, std::vector<char, std::allocator<char> > >, void>(__gnu_cxx::__normal_iterator<char*, std::vector<char, std::allocator<char> > >, __gnu_cxx::__normal_iterator<char*, std::vector<char, std::allocator<char> > >, std::allocator<char> const&) (6943093x)\n",
            "  6,943,092  => ???:std::allocator<char>::~allocator() (6943092x)\n",
            "  6,943,093  => ???:std::allocator<char>::allocator() (6943093x)\n",
            "201,349,697  => /usr/include/c++/7/bits/stl_vector.h:std::vector<char, std::allocator<char> >::begin() (6943093x)\n",
            "395,756,244  => ???:std::__cxx11::basic_string<char, std::char_traits<char>, std::allocator<char> >::~basic_string() (6943092x)\n",
            "208,292,790  => /usr/include/c++/7/bits/stl_vector.h:std::vector<char, std::allocator<char> >::end() (6943093x)\n",
            " 76,374,012          if (dnas_string.find(subsequence_string) != string::npos) {\n",
            "Negative repeat count does nothing at /usr/bin/callgrind_annotate line 828, <INPUTFILE> line 12.\n",
            "1,737,566,401  => ???:std::__cxx11::basic_string<char, std::char_traits<char>, std::allocator<char> >::find(std::__cxx11::basic_string<char, std::char_traits<char>, std::allocator<char> > const&, unsigned long) const (6943092x)\n",
            "        960              subsequences.push_back(subsequence);\n",
            "    285,861  => /usr/include/c++/7/bits/stl_vector.h:std::vector<std::vector<char, std::allocator<char> >, std::allocator<std::vector<char, std::allocator<char> > > >::push_back(std::vector<char, std::allocator<char> > const&) (192x)\n",
            "          .          }\n",
            "          .      } else {\n",
            " 76,374,199          subsequence.push_back(dnas[index]);\n",
            "      1,218  => /usr/include/c++/7/bits/stl_vector.h:std::vector<char, std::allocator<char> >::push_back(char const&) (1x)\n",
            "         10  => /usr/include/c++/7/bits/stl_vector.h:std::vector<char, std::allocator<char> >::operator[](unsigned long) (1x)\n",
            " 62,487,981          create_subsequences(dnas, subsequences, subsequence, index + 1, n);\n",
            "Negative repeat count does nothing at /usr/bin/callgrind_annotate line 828, <INPUTFILE> line 17.\n",
            "37,516,112,986  => busca_exaustiva.cpp:create_subsequences(std::vector<char, std::allocator<char> >&, std::vector<std::vector<char, std::allocator<char> >, std::allocator<std::vector<char, std::allocator<char> > > >&, std::vector<char, std::allocator<char> >&, int, int)'2 (1x)\n",
            " 20,829,276          subsequence.pop_back();\n",
            "263,837,496  => /usr/include/c++/7/bits/stl_vector.h:std::vector<char, std::allocator<char> >::pop_back() (6943092x)\n",
            " 62,487,828          create_subsequences(dnas, subsequences, subsequence, index + 1, n);\n",
            "Negative repeat count does nothing at /usr/bin/callgrind_annotate line 828, <INPUTFILE> line 19.\n",
            "415,540,376,503  => busca_exaustiva.cpp:create_subsequences(std::vector<char, std::allocator<char> >&, std::vector<std::vector<char, std::allocator<char> >, std::allocator<std::vector<char, std::allocator<char> > > >&, std::vector<char, std::allocator<char> >&, int, int)'2 (6943092x)\n",
            "          .  \n",
            "          .      }\n",
            "111,089,368  }\n",
            "          .  \n",
            "          .  \n",
            "          .  \n",
            "          8  int main() {\n",
            "          .  \n",
            "          .      // Defining n and m. Value of n is the length of the first sequence. Value of m is the length of the second sequence.\n",
            "          .      int n; int m;\n",
            "          .  \n",
            "          .      // Reads n and m. \n",
            "         11      cin >> n >> m;\n",
            "     11,275  => ???:std::istream::operator>>(int&) (2x)\n",
            "          .  \n",
            "          .      // Defining the two vectors that receive the sequences.\n",
            "          3      vector<char> dnas_first_seq;\n",
            "         38  => /usr/include/c++/7/bits/stl_vector.h:std::vector<char, std::allocator<char> >::vector() (1x)\n",
            "          3      vector<char> dnas_second_seq;\n",
            "         38  => /usr/include/c++/7/bits/stl_vector.h:std::vector<char, std::allocator<char> >::vector() (1x)\n",
            "          .  \n",
            "          .      // Reserving n and m length on the vectors.\n",
            "          6      dnas_first_seq.reserve(n);\n",
            "        744  => /usr/include/c++/7/bits/vector.tcc:std::vector<char, std::allocator<char> >::reserve(unsigned long) (1x)\n",
            "          6      dnas_second_seq.reserve(m);\n",
            "        576  => /usr/include/c++/7/bits/vector.tcc:std::vector<char, std::allocator<char> >::reserve(unsigned long) (1x)\n",
            "          .  \n",
            "          .      char dna_next;\n",
            "          .  \n",
            "          .      // Reads the first sequence and completes the dna_first_seq vector with the sequence.\n",
            "        154      for(int i = 0; i < n; i++) {\n",
            "        150          cin >> dna_next;\n",
            "      7,656  => ???:std::basic_istream<char, std::char_traits<char> >& std::operator>><char, std::char_traits<char> >(std::basic_istream<char, std::char_traits<char> >&, char&) (30x)\n",
            "        150          dnas_first_seq.push_back(dna_next);\n",
            "      2,610  => /usr/include/c++/7/bits/stl_vector.h:std::vector<char, std::allocator<char> >::push_back(char const&) (30x)\n",
            "          .      }\n",
            "          .  \n",
            "          .      // Reads the second sequence and completes the dna_second_seq vector with the sequence.\n",
            "        154      for(int i = 0; i < m; i++) {\n",
            "        150          cin >> dna_next;\n",
            "      7,656  => ???:std::basic_istream<char, std::char_traits<char> >& std::operator>><char, std::char_traits<char> >(std::basic_istream<char, std::char_traits<char> >&, char&) (30x)\n",
            "        150          dnas_second_seq.push_back(dna_next);\n",
            "      2,610  => /usr/include/c++/7/bits/stl_vector.h:std::vector<char, std::allocator<char> >::push_back(char const&) (30x)\n",
            "          .      }\n",
            "          .      \n",
            "          .      // Creating matrixes that will contain the subsequences of a and b.\n",
            "          3      vector<vector<char> > subsequences_a;\n",
            "         52  => /usr/include/c++/7/bits/stl_vector.h:std::vector<std::vector<char, std::allocator<char> >, std::allocator<std::vector<char, std::allocator<char> > > >::vector() (1x)\n",
            "          3      vector<vector<char> > subsequences_b;\n",
            "         52  => /usr/include/c++/7/bits/stl_vector.h:std::vector<std::vector<char, std::allocator<char> >, std::allocator<std::vector<char, std::allocator<char> > > >::vector() (1x)\n",
            "          .  \n",
            "          3      vector<char> subsequence_a;\n",
            "         38  => /usr/include/c++/7/bits/stl_vector.h:std::vector<char, std::allocator<char> >::vector() (1x)\n",
            "          3      vector<char> subsequence_b;\n",
            "         38  => /usr/include/c++/7/bits/stl_vector.h:std::vector<char, std::allocator<char> >::vector() (1x)\n",
            "          .  \n",
            "          .      // Creating subsequences recursively.\n",
            "          8      create_subsequences(dnas_first_seq, subsequences_a, subsequence_a, 0, n);\n",
            "Negative repeat count does nothing at /usr/bin/callgrind_annotate line 828, <INPUTFILE> line 64.\n",
            "37,516,114,249  => busca_exaustiva.cpp:create_subsequences(std::vector<char, std::allocator<char> >&, std::vector<std::vector<char, std::allocator<char> >, std::allocator<std::vector<char, std::allocator<char> > > >&, std::vector<char, std::allocator<char> >&, int, int) (1x)\n",
            "          .      create_subsequences(dnas_second_seq, subsequences_b, subsequence_b, 0, m);\n",
            "          .  \n",
            "          .      // Erase duplicates.\n",
            "          .      subsequences_a.erase(unique(subsequences_a.begin(), subsequences_a.end()), subsequences_a.end());\n",
            "          .      subsequences_b.erase(unique(subsequences_b.begin(), subsequences_b.end()), subsequences_b.end());\n",
            "          .  \n",
            "          .      // Create matrix that will contain the scores.\n",
            "          .      vector<vector<int> > scores;\n",
            "-- line 72 ----------------------------------------\n",
            "-- line 132 ----------------------------------------\n",
            "          .  \n",
            "          .      cout << endl;\n",
            "          .  \n",
            "          .      for(auto& subsequence_b: subsequences_b[max_y]) {\n",
            "          .          cout << subsequence_b;\n",
            "          .      }\n",
            "          .  \n",
            "          .  \n",
            "         19  }    109,321  => busca_exaustiva.cpp:__static_initialization_and_destruction_0(int, int) (1x)\n",
            "\n",
            "--------------------------------------------------------------------------------\n",
            "Ir \n",
            "--------------------------------------------------------------------------------\n",
            " 3  percentage of events annotated\n",
            "\n"
          ]
        }
      ]
    },
    {
      "cell_type": "markdown",
      "source": [
        "O principal ponto de lentidão da busca exaustiva é na geração das subsequências. Os tempos de execução da busca exaustiva começam baixos e tem um aumento de quase 4000 vezes como pode ser observado na tabela a seguir mesmo para entradas pequenas."
      ],
      "metadata": {
        "id": "JyXVxQI2Ap7d"
      }
    },
    {
      "cell_type": "code",
      "source": [
        "table = [['Tamanho das sequências', 'Tempo'], ['10x10', '0.05'], ['20x20', '0.65'], ['20x30', '100.36'], ['30x30', '199.62']]"
      ],
      "metadata": {
        "id": "ejWrUTlrDvUr"
      },
      "execution_count": 56,
      "outputs": []
    },
    {
      "cell_type": "code",
      "source": [
        "print(tabulate(table, headers='firstrow', tablefmt='grid'))"
      ],
      "metadata": {
        "colab": {
          "base_uri": "https://localhost:8080/"
        },
        "id": "HqDLU7PiELB-",
        "outputId": "ca8b8f81-aed9-4571-c707-6abd201a1496"
      },
      "execution_count": 57,
      "outputs": [
        {
          "output_type": "stream",
          "name": "stdout",
          "text": [
            "+--------------------------+---------+\n",
            "| Tamanho das sequências   |   Tempo |\n",
            "+==========================+=========+\n",
            "| 10x10                    |    0.05 |\n",
            "+--------------------------+---------+\n",
            "| 20x20                    |    0.65 |\n",
            "+--------------------------+---------+\n",
            "| 20x30                    |  100.36 |\n",
            "+--------------------------+---------+\n",
            "| 30x30                    |  199.62 |\n",
            "+--------------------------+---------+\n"
          ]
        }
      ]
    },
    {
      "cell_type": "markdown",
      "source": [
        "### Criando o arquivo da estratégia de *branch and bound*"
      ],
      "metadata": {
        "id": "g8YmmCq2Odf5"
      }
    },
    {
      "cell_type": "code",
      "source": [
        "%%writefile branch_and_bound.cpp\n",
        "#include <iostream>\n",
        "#include <vector>\n",
        "#include <algorithm>\n",
        "\n",
        "using namespace std;\n",
        "\n",
        "void create_subsequences(vector<char>& dnas, vector<vector<char> >& subsequences, vector<char>& subsequence, int index, int n){\n",
        "    if (index == n){\n",
        "        // Compares if subsequence string is in dnas string. If its in add it to the matrix.\n",
        "        string subsequence_string(subsequence.begin(), subsequence.end());\n",
        "        string dnas_string(dnas.begin(), dnas.end());\n",
        "        if (dnas_string.find(subsequence_string) != string::npos) {\n",
        "            subsequences.push_back(subsequence);\n",
        "        }\n",
        "    } else {\n",
        "        subsequence.push_back(dnas[index]);\n",
        "        create_subsequences(dnas, subsequences, subsequence, index + 1, n);\n",
        "        subsequence.pop_back();\n",
        "        create_subsequences(dnas, subsequences, subsequence, index + 1, n);\n",
        "\n",
        "    }\n",
        "}\n",
        "\n",
        "\n",
        "\n",
        "int main() {\n",
        "\n",
        "    int sum_score_pair_global = 0;\n",
        "    int max_x = 0;\n",
        "    int max_y = 0;\n",
        "\n",
        "    // Defining n and m. Value of n is the length of the first sequence. Value of m is the length of the second sequence.\n",
        "    int n; int m;\n",
        "\n",
        "    // Reads n and m. \n",
        "    cin >> n >> m;\n",
        "\n",
        "    // Defining the two vectors that receive the sequences.\n",
        "    vector<char> dnas_first_seq;\n",
        "    vector<char> dnas_second_seq;\n",
        "\n",
        "    // Reserving n and m length on the vectors.\n",
        "    dnas_first_seq.reserve(n);\n",
        "    dnas_second_seq.reserve(m);\n",
        "\n",
        "    char dna_next;\n",
        "\n",
        "    // Reads the first sequence and completes the dna_first_seq vector with the sequence.\n",
        "    for(int i = 0; i < n; i++) {\n",
        "        cin >> dna_next;\n",
        "        dnas_first_seq.push_back(dna_next);\n",
        "    }\n",
        "\n",
        "    // Reads the second sequence and completes the dna_second_seq vector with the sequence.\n",
        "    for(int i = 0; i < m; i++) {\n",
        "        cin >> dna_next;\n",
        "        dnas_second_seq.push_back(dna_next);\n",
        "    }\n",
        "    \n",
        "    // Creating matrixes that will contain the subsequences of a and b.\n",
        "    vector<vector<char> > subsequences_a;\n",
        "    vector<vector<char> > subsequences_b;\n",
        "\n",
        "    vector<char> subsequence_a;\n",
        "    vector<char> subsequence_b;\n",
        "\n",
        "    // Creating subsequences recursively.\n",
        "    create_subsequences(dnas_first_seq, subsequences_a, subsequence_a, 0, n);\n",
        "    create_subsequences(dnas_second_seq, subsequences_b, subsequence_b, 0, m);\n",
        "\n",
        "    // Erase duplicates.\n",
        "    subsequences_a.erase(unique(subsequences_a.begin(), subsequences_a.end()), subsequences_a.end());\n",
        "    subsequences_b.erase(unique(subsequences_b.begin(), subsequences_b.end()), subsequences_b.end());\n",
        "\n",
        "    // Create matrix that will contain the scores.\n",
        "    vector<vector<int> > scores;\n",
        "\n",
        "    vector<int> scores_next;\n",
        "\n",
        "    for (int i = 0; i < subsequences_a.size(); i++) {\n",
        "        scores.push_back(scores_next);\n",
        "    }\n",
        "\n",
        "    int sum_score_pair = 0;\n",
        "\n",
        "    // Calculate scores. If subsequence of a bigger than subsequence of b calculate\n",
        "    // for all elements of b and the first elements of a that has the same size of \n",
        "    // b subsequence. Else the inverse.\n",
        "    for (int i = 0; i < subsequences_a.size(); i++) {\n",
        "        for (int j = 0; j < subsequences_b.size(); j++) {\n",
        "            if (subsequences_a[i].size() > subsequences_b[j].size()) {\n",
        "                for (int k = 0; k < subsequences_b[j].size(); k++) {\n",
        "                    int bound = (2 * (subsequences_b[j].size() - j));\n",
        "                    if(sum_score_pair + bound >= sum_score_pair_global) {\n",
        "                        if (subsequences_a[i][k] == subsequences_b[j][k]) {\n",
        "                            sum_score_pair+=2;\n",
        "                        } else {\n",
        "                            sum_score_pair-=1;\n",
        "                        }                    \n",
        "                    } else {\n",
        "                        scores[i].push_back(sum_score_pair);\n",
        "                        sum_score_pair = 0;\n",
        "                        break;\n",
        "                    }\n",
        "                }\n",
        "            } else {\n",
        "                for (int k = 0; k < subsequences_a[i].size(); k++) {\n",
        "                    int bound = (2 * (subsequences_a[i].size() - i));\n",
        "                    if(sum_score_pair + bound >= sum_score_pair_global) {\n",
        "                        if (subsequences_a[i][k] == subsequences_b[j][k]) {\n",
        "                            sum_score_pair+=2;\n",
        "                        } else {\n",
        "                            sum_score_pair-=1;\n",
        "                        }                    \n",
        "                    } else {\n",
        "                        scores[i].push_back(sum_score_pair);\n",
        "                        sum_score_pair = 0;\n",
        "                        break;\n",
        "                    }\n",
        "                }\n",
        "            }\n",
        "            // If actual score bigger or equal to global score replace global score with\n",
        "            // actual score and change x and y references to position of subsequences\n",
        "            // in the matrixes.\n",
        "            if (sum_score_pair >= sum_score_pair_global) {\n",
        "                sum_score_pair_global = sum_score_pair;\n",
        "                max_x = i;\n",
        "                max_y = j;\n",
        "            }\n",
        "            scores[i].push_back(sum_score_pair);\n",
        "            sum_score_pair = 0;\n",
        "        }\n",
        "    }\n",
        "\n",
        "\n",
        "    // Print results\n",
        "    cout << sum_score_pair_global;\n",
        "    cout << endl;\n",
        "\n",
        "    for(auto& subsequence_a: subsequences_a[max_x]) {\n",
        "        cout << subsequence_a;\n",
        "    }\n",
        "\n",
        "    cout << endl;\n",
        "\n",
        "    for(auto& subsequence_b: subsequences_b[max_y]) {\n",
        "        cout << subsequence_b;\n",
        "    }\n",
        "}"
      ],
      "metadata": {
        "colab": {
          "base_uri": "https://localhost:8080/"
        },
        "id": "ie-EhAhOFqhj",
        "outputId": "a59fbd35-bf77-47b6-f9c8-243493815d8f"
      },
      "execution_count": 58,
      "outputs": [
        {
          "output_type": "stream",
          "name": "stdout",
          "text": [
            "Writing branch_and_bound.cpp\n"
          ]
        }
      ]
    },
    {
      "cell_type": "code",
      "source": [
        "!g++ -g branch_and_bound.cpp -o bb"
      ],
      "metadata": {
        "id": "oLKB6qTZFqo_"
      },
      "execution_count": 59,
      "outputs": []
    },
    {
      "cell_type": "markdown",
      "source": [
        "### Executando o Valgrind e o callgrind annotate para o *branch and bound*"
      ],
      "metadata": {
        "id": "P2lwmviPOig-"
      }
    },
    {
      "cell_type": "code",
      "source": [
        "!valgrind --tool=callgrind ./bb < in4_busca_exaustiva.txt"
      ],
      "metadata": {
        "colab": {
          "base_uri": "https://localhost:8080/"
        },
        "id": "rB7F_sk4FrVi",
        "outputId": "431bf55c-c04c-4d45-949a-c13e4c2f4727"
      },
      "execution_count": 60,
      "outputs": [
        {
          "output_type": "stream",
          "name": "stdout",
          "text": [
            "==1424== Callgrind, a call-graph generating cache profiler\n",
            "==1424== Copyright (C) 2002-2017, and GNU GPL'd, by Josef Weidendorfer et al.\n",
            "==1424== Using Valgrind-3.13.0 and LibVEX; rerun with -h for copyright info\n",
            "==1424== Command: ./bb\n",
            "==1424== \n",
            "==1424== For interactive control, run 'callgrind_control -h'.\n",
            "==1424== brk segment overflow in thread #1: can't grow to 0x4a2c000\n",
            "==1424== (see section Limitations in user manual)\n",
            "==1424== NOTE: further instances of this message will not be shown\n",
            "==1424== \n",
            "==1424== Process terminating with default action of signal 2 (SIGINT)\n",
            "==1424==    at 0x10ABD0: bool __gnu_cxx::operator!=<char*, std::vector<char, std::allocator<char> > >(__gnu_cxx::__normal_iterator<char*, std::vector<char, std::allocator<char> > > const&, __gnu_cxx::__normal_iterator<char*, std::vector<char, std::allocator<char> > > const&) (stl_iterator.h:886)\n",
            "==1424==    by 0x10DC78: void std::__cxx11::basic_string<char, std::char_traits<char>, std::allocator<char> >::_S_copy_chars<__gnu_cxx::__normal_iterator<char*, std::vector<char, std::allocator<char> > > >(char*, __gnu_cxx::__normal_iterator<char*, std::vector<char, std::allocator<char> > >, __gnu_cxx::__normal_iterator<char*, std::vector<char, std::allocator<char> > >) (basic_string.h:367)\n",
            "==1424==    by 0x10D1FE: void std::__cxx11::basic_string<char, std::char_traits<char>, std::allocator<char> >::_M_construct<__gnu_cxx::__normal_iterator<char*, std::vector<char, std::allocator<char> > > >(__gnu_cxx::__normal_iterator<char*, std::vector<char, std::allocator<char> > >, __gnu_cxx::__normal_iterator<char*, std::vector<char, std::allocator<char> > >, std::forward_iterator_tag) (basic_string.tcc:225)\n",
            "==1424==    by 0x10C109: void std::__cxx11::basic_string<char, std::char_traits<char>, std::allocator<char> >::_M_construct_aux<__gnu_cxx::__normal_iterator<char*, std::vector<char, std::allocator<char> > > >(__gnu_cxx::__normal_iterator<char*, std::vector<char, std::allocator<char> > >, __gnu_cxx::__normal_iterator<char*, std::vector<char, std::allocator<char> > >, std::__false_type) (basic_string.h:236)\n",
            "==1424==    by 0x10AC8D: void std::__cxx11::basic_string<char, std::char_traits<char>, std::allocator<char> >::_M_construct<__gnu_cxx::__normal_iterator<char*, std::vector<char, std::allocator<char> > > >(__gnu_cxx::__normal_iterator<char*, std::vector<char, std::allocator<char> > >, __gnu_cxx::__normal_iterator<char*, std::vector<char, std::allocator<char> > >) (basic_string.h:255)\n",
            "==1424==    by 0x10A40C: std::__cxx11::basic_string<char, std::char_traits<char>, std::allocator<char> >::basic_string<__gnu_cxx::__normal_iterator<char*, std::vector<char, std::allocator<char> > >, void>(__gnu_cxx::__normal_iterator<char*, std::vector<char, std::allocator<char> > >, __gnu_cxx::__normal_iterator<char*, std::vector<char, std::allocator<char> > >, std::allocator<char> const&) (basic_string.h:607)\n",
            "==1424==    by 0x1096B4: create_subsequences(std::vector<char, std::allocator<char> >&, std::vector<std::vector<char, std::allocator<char> >, std::allocator<std::vector<char, std::allocator<char> > > >&, std::vector<char, std::allocator<char> >&, int, int) (branch_and_bound.cpp:11)\n",
            "==1424==    by 0x10976C: create_subsequences(std::vector<char, std::allocator<char> >&, std::vector<std::vector<char, std::allocator<char> >, std::allocator<std::vector<char, std::allocator<char> > > >&, std::vector<char, std::allocator<char> >&, int, int) (branch_and_bound.cpp:17)\n",
            "==1424==    by 0x10976C: create_subsequences(std::vector<char, std::allocator<char> >&, std::vector<std::vector<char, std::allocator<char> >, std::allocator<std::vector<char, std::allocator<char> > > >&, std::vector<char, std::allocator<char> >&, int, int) (branch_and_bound.cpp:17)\n",
            "==1424==    by 0x1097A4: create_subsequences(std::vector<char, std::allocator<char> >&, std::vector<std::vector<char, std::allocator<char> >, std::allocator<std::vector<char, std::allocator<char> > > >&, std::vector<char, std::allocator<char> >&, int, int) (branch_and_bound.cpp:19)\n",
            "==1424==    by 0x10976C: create_subsequences(std::vector<char, std::allocator<char> >&, std::vector<std::vector<char, std::allocator<char> >, std::allocator<std::vector<char, std::allocator<char> > > >&, std::vector<char, std::allocator<char> >&, int, int) (branch_and_bound.cpp:17)\n",
            "==1424==    by 0x1097A4: create_subsequences(std::vector<char, std::allocator<char> >&, std::vector<std::vector<char, std::allocator<char> >, std::allocator<std::vector<char, std::allocator<char> > > >&, std::vector<char, std::allocator<char> >&, int, int) (branch_and_bound.cpp:19)\n",
            "==1424== \n",
            "==1424== Events    : Ir\n",
            "==1424== Collected : 11425794350\n",
            "==1424== \n",
            "==1424== I   refs:      11,425,794,350\n",
            "^C\n"
          ]
        }
      ]
    },
    {
      "cell_type": "code",
      "source": [
        "!callgrind_annotate callgrind.out.1424 branch_and_bound.cpp "
      ],
      "metadata": {
        "colab": {
          "base_uri": "https://localhost:8080/"
        },
        "id": "mi8ZVm0rFrbg",
        "outputId": "1fdd92d6-9bf0-4168-dd20-4e88b5a4312d"
      },
      "execution_count": 61,
      "outputs": [
        {
          "output_type": "stream",
          "name": "stdout",
          "text": [
            "--------------------------------------------------------------------------------\n",
            "Profile data file 'callgrind.out.1424' (creator: callgrind-3.13.0)\n",
            "--------------------------------------------------------------------------------\n",
            "I1 cache: \n",
            "D1 cache: \n",
            "LL cache: \n",
            "Timerange: Basic block 0 - 2090287552\n",
            "Trigger: Program termination\n",
            "Profiled target:  ./bb (PID 1424, part 1)\n",
            "Events recorded:  Ir\n",
            "Events shown:     Ir\n",
            "Event sort order: Ir\n",
            "Thresholds:       99\n",
            "Include dirs:     \n",
            "User annotated:   branch_and_bound.cpp\n",
            "Auto-annotation:  off\n",
            "\n",
            "--------------------------------------------------------------------------------\n",
            "            Ir \n",
            "--------------------------------------------------------------------------------\n",
            "11,425,794,350  PROGRAM TOTALS\n",
            "\n",
            "--------------------------------------------------------------------------------\n",
            "           Ir  file:function\n",
            "--------------------------------------------------------------------------------\n",
            "2,154,081,009  /usr/include/c++/7/bits/stl_iterator.h:bool __gnu_cxx::operator!=<char*, std::vector<char, std::allocator<char> > >(__gnu_cxx::__normal_iterator<char*, std::vector<char, std::allocator<char> > > const&, __gnu_cxx::__normal_iterator<char*, std::vector<char, std::allocator<char> > > const&) [/content/bb]\n",
            "2,137,354,575  /usr/include/c++/7/bits/basic_string.h:void std::__cxx11::basic_string<char, std::char_traits<char>, std::allocator<char> >::_S_copy_chars<__gnu_cxx::__normal_iterator<char*, std::vector<char, std::allocator<char> > > >(char*, __gnu_cxx::__normal_iterator<char*, std::vector<char, std::allocator<char> > >, __gnu_cxx::__normal_iterator<char*, std::vector<char, std::allocator<char> > >) [/content/bb]\n",
            "1,342,628,064  /usr/include/c++/7/bits/stl_iterator.h:__gnu_cxx::__normal_iterator<char*, std::vector<char, std::allocator<char> > >::base() const [/content/bb]\n",
            "1,138,746,851  /usr/include/c++/7/bits/stl_iterator.h:__gnu_cxx::__normal_iterator<char*, std::vector<char, std::allocator<char> > >::operator++() [/content/bb]\n",
            "1,138,746,851  /usr/include/c++/7/bits/char_traits.h:std::char_traits<char>::assign(char&, char const&) [/content/bb]\n",
            "  724,657,087  /usr/include/c++/7/bits/stl_iterator.h:__gnu_cxx::__normal_iterator<char*, std::vector<char, std::allocator<char> > >::operator*() const [/content/bb]\n",
            "  294,804,732  branch_and_bound.cpp:create_subsequences(std::vector<char, std::allocator<char> >&, std::vector<std::vector<char, std::allocator<char> >, std::allocator<std::vector<char, std::allocator<char> > > >&, std::vector<char, std::allocator<char> >&, int, int)'2 [/content/bb]\n",
            "  291,221,661  /usr/include/c++/7/bits/basic_string.tcc:void std::__cxx11::basic_string<char, std::char_traits<char>, std::allocator<char> >::_M_construct<__gnu_cxx::__normal_iterator<char*, std::vector<char, std::allocator<char> > > >(__gnu_cxx::__normal_iterator<char*, std::vector<char, std::allocator<char> > >, __gnu_cxx::__normal_iterator<char*, std::vector<char, std::allocator<char> > >, std::forward_iterator_tag) [/content/bb]\n",
            "  209,748,712  ???:std::__cxx11::basic_string<char, std::char_traits<char>, std::allocator<char> >::find(char const*, unsigned long, unsigned long) const [/usr/lib/x86_64-linux-gnu/libstdc++.so.6.0.25]\n",
            "  205,157,544  ???:free [???]\n",
            "  184,650,063  ???:operator new[](unsigned long) [???]\n",
            "  164,024,277  /build/glibc-uZu3wS/glibc-2.27/string/../sysdeps/x86_64/multiarch/memchr-avx2.S:__memchr_avx2 [/lib/x86_64-linux-gnu/libc-2.27.so]\n",
            "  134,614,128  /build/glibc-uZu3wS/glibc-2.27/string/../sysdeps/x86_64/multiarch/memcmp-avx2-movbe.S:__memcmp_avx2_movbe [/lib/x86_64-linux-gnu/libc-2.27.so]\n",
            "  129,629,905  /usr/include/c++/7/bits/basic_string.h:std::__cxx11::basic_string<char, std::char_traits<char>, std::allocator<char> >::basic_string<__gnu_cxx::__normal_iterator<char*, std::vector<char, std::allocator<char> > >, void>(__gnu_cxx::__normal_iterator<char*, std::vector<char, std::allocator<char> > >, __gnu_cxx::__normal_iterator<char*, std::vector<char, std::allocator<char> > >, std::allocator<char> const&) [/content/bb]\n",
            "  108,721,860  /usr/include/c++/7/bits/stl_iterator_base_funcs.h:std::iterator_traits<__gnu_cxx::__normal_iterator<char*, std::vector<char, std::allocator<char> > > >::difference_type std::distance<__gnu_cxx::__normal_iterator<char*, std::vector<char, std::allocator<char> > > >(__gnu_cxx::__normal_iterator<char*, std::vector<char, std::allocator<char> > >, __gnu_cxx::__normal_iterator<char*, std::vector<char, std::allocator<char> > >) [/content/bb]\n",
            "  100,358,633  /usr/include/c++/7/bits/basic_string.h:void std::__cxx11::basic_string<char, std::char_traits<char>, std::allocator<char> >::_M_construct<__gnu_cxx::__normal_iterator<char*, std::vector<char, std::allocator<char> > > >(__gnu_cxx::__normal_iterator<char*, std::vector<char, std::allocator<char> > >, __gnu_cxx::__normal_iterator<char*, std::vector<char, std::allocator<char> > >) [/content/bb]\n",
            "  100,358,633  /usr/include/c++/7/bits/basic_string.h:void std::__cxx11::basic_string<char, std::char_traits<char>, std::allocator<char> >::_M_construct_aux<__gnu_cxx::__normal_iterator<char*, std::vector<char, std::allocator<char> > > >(__gnu_cxx::__normal_iterator<char*, std::vector<char, std::allocator<char> > >, __gnu_cxx::__normal_iterator<char*, std::vector<char, std::allocator<char> > >, std::__false_type) [/content/bb]\n",
            "   91,995,552  /usr/include/c++/7/bits/stl_iterator.h:__gnu_cxx::__normal_iterator<char*, std::vector<char, std::allocator<char> > >::__normal_iterator(char* const&) [/content/bb]\n",
            "   87,813,936  /usr/include/c++/7/bits/stl_iterator.h:__gnu_cxx::__normal_iterator<char*, std::vector<char, std::allocator<char> > >::difference_type __gnu_cxx::operator-<char*, std::vector<char, std::allocator<char> > >(__gnu_cxx::__normal_iterator<char*, std::vector<char, std::allocator<char> > > const&, __gnu_cxx::__normal_iterator<char*, std::vector<char, std::allocator<char> > > const&) [/content/bb]\n",
            "   79,450,704  /usr/include/c++/7/bits/stl_vector.h:std::vector<char, std::allocator<char> >::end() [/content/bb]\n",
            "   75,269,088  /usr/include/c++/7/bits/stl_vector.h:std::vector<char, std::allocator<char> >::begin() [/content/bb]\n",
            "   56,453,736  /usr/include/c++/7/bits/stl_vector.h:std::vector<char, std::allocator<char> >::push_back(char const&) [/content/bb]\n",
            "   50,179,320  /usr/include/c++/7/bits/stl_iterator_base_funcs.h:std::iterator_traits<__gnu_cxx::__normal_iterator<char*, std::vector<char, std::allocator<char> > > >::difference_type std::__distance<__gnu_cxx::__normal_iterator<char*, std::vector<char, std::allocator<char> > > >(__gnu_cxx::__normal_iterator<char*, std::vector<char, std::allocator<char> > >, __gnu_cxx::__normal_iterator<char*, std::vector<char, std::allocator<char> > >, std::random_access_iterator_tag) [/content/bb]\n",
            "   48,090,240  /usr/include/c++/7/ext/new_allocator.h:void __gnu_cxx::new_allocator<char>::construct<char, char const&>(char*, char const&) [/content/bb]\n",
            "   45,134,514  ???:std::__cxx11::basic_string<char, std::char_traits<char>, std::allocator<char> >::_M_create(unsigned long&, unsigned long) [/usr/lib/x86_64-linux-gnu/libstdc++.so.6.0.25]\n",
            "   37,635,840  /usr/include/c++/7/bits/alloc_traits.h:void std::allocator_traits<std::allocator<char> >::construct<char, char const&>(std::allocator<char>&, char*, char const&) [/content/bb]\n",
            "   37,634,472  /usr/include/c++/7/bits/stl_vector.h:std::vector<char, std::allocator<char> >::pop_back() [/content/bb]\n",
            "   29,114,306  ???:std::__cxx11::basic_string<char, std::char_traits<char>, std::allocator<char> >::~basic_string() [/usr/lib/x86_64-linux-gnu/libstdc++.so.6.0.25]\n",
            "   27,180,452  /usr/include/c++/7/bits/alloc_traits.h:void std::allocator_traits<std::allocator<char> >::destroy<char>(std::allocator<char>&, char*) [/content/bb]\n",
            "   25,090,596  /usr/include/c++/7/bits/move.h:char const& std::forward<char const&>(std::remove_reference<char const&>::type&) [/content/bb]\n",
            "   25,089,660  /usr/include/c++/7/ext/type_traits.h:bool __gnu_cxx::__is_null_pointer<__gnu_cxx::__normal_iterator<char*, std::vector<char, std::allocator<char> > > >(__gnu_cxx::__normal_iterator<char*, std::vector<char, std::allocator<char> > >) [/content/bb]\n",
            "   20,908,200  /usr/include/c++/7/bits/stl_vector.h:std::vector<char, std::allocator<char> >::operator[](unsigned long) [/content/bb]\n",
            "   20,908,050  /usr/include/c++/7/bits/stl_iterator_base_types.h:std::iterator_traits<__gnu_cxx::__normal_iterator<char*, std::vector<char, std::allocator<char> > > >::iterator_category std::__iterator_category<__gnu_cxx::__normal_iterator<char*, std::vector<char, std::allocator<char> > > >(__gnu_cxx::__normal_iterator<char*, std::vector<char, std::allocator<char> > > const&) [/content/bb]\n",
            "\n",
            "--------------------------------------------------------------------------------\n",
            "-- User-annotated source: branch_and_bound.cpp\n",
            "--------------------------------------------------------------------------------\n",
            "        Ir \n",
            "\n",
            "         .  #include <iostream>\n",
            "         .  #include <vector>\n",
            "         .  #include <algorithm>\n",
            "         .  \n",
            "         .  using namespace std;\n",
            "         .  \n",
            "50,179,500  void create_subsequences(vector<char>& dnas, vector<vector<char> >& subsequences, vector<char>& subsequence, int index, int n){\n",
            "12,544,875      if (index == n){\n",
            "         .          // Compares if subsequence string is in dnas string. If its in add it to the matrix.\n",
            "54,360,926          string subsequence_string(subsequence.begin(), subsequence.end());\n",
            " 2,090,805  => ???:std::allocator<char>::~allocator() (2090805x)\n",
            " 2,090,805  => ???:std::allocator<char>::allocator() (2090805x)\n",
            "60,633,345  => /usr/include/c++/7/bits/stl_vector.h:std::vector<char, std::allocator<char> >::begin() (2090805x)\n",
            "Negative repeat count does nothing at /usr/bin/callgrind_annotate line 828, <INPUTFILE> line 10.\n",
            "115,095,128  => ???:std::__cxx11::basic_string<char, std::char_traits<char>, std::allocator<char> >::~basic_string() (2090804x)\n",
            "Negative repeat count does nothing at /usr/bin/callgrind_annotate line 828, <INPUTFILE> line 10.\n",
            "4,028,154,044  => /usr/include/c++/7/bits/basic_string.h:std::__cxx11::basic_string<char, std::char_traits<char>, std::allocator<char> >::basic_string<__gnu_cxx::__normal_iterator<char*, std::vector<char, std::allocator<char> > >, void>(__gnu_cxx::__normal_iterator<char*, std::vector<char, std::allocator<char> > >, __gnu_cxx::__normal_iterator<char*, std::vector<char, std::allocator<char> > >, std::allocator<char> const&) (2090805x)\n",
            "62,724,150  => /usr/include/c++/7/bits/stl_vector.h:std::vector<char, std::allocator<char> >::end() (2090805x)\n",
            "54,360,922          string dnas_string(dnas.begin(), dnas.end());\n",
            "60,633,345  => /usr/include/c++/7/bits/stl_vector.h:std::vector<char, std::allocator<char> >::begin() (2090805x)\n",
            " 2,090,804  => ???:std::allocator<char>::~allocator() (2090804x)\n",
            " 2,090,805  => ???:std::allocator<char>::allocator() (2090805x)\n",
            "Negative repeat count does nothing at /usr/bin/callgrind_annotate line 828, <INPUTFILE> line 11.\n",
            "119,175,828  => ???:std::__cxx11::basic_string<char, std::char_traits<char>, std::allocator<char> >::~basic_string() (2090804x)\n",
            "62,724,150  => /usr/include/c++/7/bits/stl_vector.h:std::vector<char, std::allocator<char> >::end() (2090805x)\n",
            "Negative repeat count does nothing at /usr/bin/callgrind_annotate line 828, <INPUTFILE> line 11.\n",
            "5,810,345,977  => /usr/include/c++/7/bits/basic_string.h:std::__cxx11::basic_string<char, std::char_traits<char>, std::allocator<char> >::basic_string<__gnu_cxx::__normal_iterator<char*, std::vector<char, std::allocator<char> > >, void>(__gnu_cxx::__normal_iterator<char*, std::vector<char, std::allocator<char> > >, __gnu_cxx::__normal_iterator<char*, std::vector<char, std::allocator<char> > >, std::allocator<char> const&) (2090805x)\n",
            "22,998,844          if (dnas_string.find(subsequence_string) != string::npos) {\n",
            "Negative repeat count does nothing at /usr/bin/callgrind_annotate line 828, <INPUTFILE> line 12.\n",
            "516,750,671  => ???:std::__cxx11::basic_string<char, std::char_traits<char>, std::allocator<char> >::find(std::__cxx11::basic_string<char, std::char_traits<char>, std::allocator<char> > const&, unsigned long) const (2090804x)\n",
            "       900              subsequences.push_back(subsequence);\n",
            "   278,097  => /usr/include/c++/7/bits/stl_vector.h:std::vector<std::vector<char, std::allocator<char> >, std::allocator<std::vector<char, std::allocator<char> > > >::push_back(std::vector<char, std::allocator<char> > const&) (180x)\n",
            "         .          }\n",
            "         .      } else {\n",
            "22,999,020          subsequence.push_back(dnas[index]);\n",
            "        10  => /usr/include/c++/7/bits/stl_vector.h:std::vector<char, std::allocator<char> >::operator[](unsigned long) (1x)\n",
            "     1,218  => /usr/include/c++/7/bits/stl_vector.h:std::vector<char, std::allocator<char> >::push_back(char const&) (1x)\n",
            "18,817,380          create_subsequences(dnas, subsequences, subsequence, index + 1, n);\n",
            "Negative repeat count does nothing at /usr/bin/callgrind_annotate line 828, <INPUTFILE> line 17.\n",
            "11,421,954,821  => branch_and_bound.cpp:create_subsequences(std::vector<char, std::allocator<char> >&, std::vector<std::vector<char, std::allocator<char> >, std::allocator<std::vector<char, std::allocator<char> > > >&, std::vector<char, std::allocator<char> >&, int, int)'2 (1x)\n",
            " 6,272,412          subsequence.pop_back();\n",
            "79,450,552  => /usr/include/c++/7/bits/stl_vector.h:std::vector<char, std::allocator<char> >::pop_back() (2090804x)\n",
            "18,817,236          create_subsequences(dnas, subsequences, subsequence, index + 1, n);\n",
            "Negative repeat count does nothing at /usr/bin/callgrind_annotate line 828, <INPUTFILE> line 19.\n",
            "118,517,933,167  => branch_and_bound.cpp:create_subsequences(std::vector<char, std::allocator<char> >&, std::vector<std::vector<char, std::allocator<char> >, std::allocator<std::vector<char, std::allocator<char> > > >&, std::vector<char, std::allocator<char> >&, int, int)'2 (2090804x)\n",
            "         .  \n",
            "         .      }\n",
            "33,452,752  }\n",
            "         .  \n",
            "         .  \n",
            "         .  \n",
            "         8  int main() {\n",
            "         .  \n",
            "         1      int sum_score_pair_global = 0;\n",
            "         1      int max_x = 0;\n",
            "         1      int max_y = 0;\n",
            "         .  \n",
            "         .      // Defining n and m. Value of n is the length of the first sequence. Value of m is the length of the second sequence.\n",
            "         .      int n; int m;\n",
            "         .  \n",
            "         .      // Reads n and m. \n",
            "        11      cin >> n >> m;\n",
            "    11,275  => ???:std::istream::operator>>(int&) (2x)\n",
            "         .  \n",
            "         .      // Defining the two vectors that receive the sequences.\n",
            "         3      vector<char> dnas_first_seq;\n",
            "        38  => /usr/include/c++/7/bits/stl_vector.h:std::vector<char, std::allocator<char> >::vector() (1x)\n",
            "         3      vector<char> dnas_second_seq;\n",
            "        38  => /usr/include/c++/7/bits/stl_vector.h:std::vector<char, std::allocator<char> >::vector() (1x)\n",
            "         .  \n",
            "         .      // Reserving n and m length on the vectors.\n",
            "         6      dnas_first_seq.reserve(n);\n",
            "       744  => /usr/include/c++/7/bits/vector.tcc:std::vector<char, std::allocator<char> >::reserve(unsigned long) (1x)\n",
            "         6      dnas_second_seq.reserve(m);\n",
            "       576  => /usr/include/c++/7/bits/vector.tcc:std::vector<char, std::allocator<char> >::reserve(unsigned long) (1x)\n",
            "         .  \n",
            "         .      char dna_next;\n",
            "         .  \n",
            "         .      // Reads the first sequence and completes the dna_first_seq vector with the sequence.\n",
            "       154      for(int i = 0; i < n; i++) {\n",
            "       150          cin >> dna_next;\n",
            "     7,656  => ???:std::basic_istream<char, std::char_traits<char> >& std::operator>><char, std::char_traits<char> >(std::basic_istream<char, std::char_traits<char> >&, char&) (30x)\n",
            "       150          dnas_first_seq.push_back(dna_next);\n",
            "     2,610  => /usr/include/c++/7/bits/stl_vector.h:std::vector<char, std::allocator<char> >::push_back(char const&) (30x)\n",
            "         .      }\n",
            "         .  \n",
            "         .      // Reads the second sequence and completes the dna_second_seq vector with the sequence.\n",
            "       154      for(int i = 0; i < m; i++) {\n",
            "       150          cin >> dna_next;\n",
            "     7,656  => ???:std::basic_istream<char, std::char_traits<char> >& std::operator>><char, std::char_traits<char> >(std::basic_istream<char, std::char_traits<char> >&, char&) (30x)\n",
            "       150          dnas_second_seq.push_back(dna_next);\n",
            "     2,610  => /usr/include/c++/7/bits/stl_vector.h:std::vector<char, std::allocator<char> >::push_back(char const&) (30x)\n",
            "         .      }\n",
            "         .      \n",
            "         .      // Creating matrixes that will contain the subsequences of a and b.\n",
            "         3      vector<vector<char> > subsequences_a;\n",
            "        52  => /usr/include/c++/7/bits/stl_vector.h:std::vector<std::vector<char, std::allocator<char> >, std::allocator<std::vector<char, std::allocator<char> > > >::vector() (1x)\n",
            "         3      vector<vector<char> > subsequences_b;\n",
            "        52  => /usr/include/c++/7/bits/stl_vector.h:std::vector<std::vector<char, std::allocator<char> >, std::allocator<std::vector<char, std::allocator<char> > > >::vector() (1x)\n",
            "         .  \n",
            "         3      vector<char> subsequence_a;\n",
            "        38  => /usr/include/c++/7/bits/stl_vector.h:std::vector<char, std::allocator<char> >::vector() (1x)\n",
            "         3      vector<char> subsequence_b;\n",
            "        38  => /usr/include/c++/7/bits/stl_vector.h:std::vector<char, std::allocator<char> >::vector() (1x)\n",
            "         .  \n",
            "         .      // Creating subsequences recursively.\n",
            "         8      create_subsequences(dnas_first_seq, subsequences_a, subsequence_a, 0, n);\n",
            "Negative repeat count does nothing at /usr/bin/callgrind_annotate line 828, <INPUTFILE> line 68.\n",
            "11,421,956,084  => branch_and_bound.cpp:create_subsequences(std::vector<char, std::allocator<char> >&, std::vector<std::vector<char, std::allocator<char> >, std::allocator<std::vector<char, std::allocator<char> > > >&, std::vector<char, std::allocator<char> >&, int, int) (1x)\n",
            "         .      create_subsequences(dnas_second_seq, subsequences_b, subsequence_b, 0, m);\n",
            "         .  \n",
            "         .      // Erase duplicates.\n",
            "         .      subsequences_a.erase(unique(subsequences_a.begin(), subsequences_a.end()), subsequences_a.end());\n",
            "         .      subsequences_b.erase(unique(subsequences_b.begin(), subsequences_b.end()), subsequences_b.end());\n",
            "         .  \n",
            "         .      // Create matrix that will contain the scores.\n",
            "         .      vector<vector<int> > scores;\n",
            "-- line 76 ----------------------------------------\n",
            "-- line 141 ----------------------------------------\n",
            "         .          cout << subsequence_a;\n",
            "         .      }\n",
            "         .  \n",
            "         .      cout << endl;\n",
            "         .  \n",
            "         .      for(auto& subsequence_b: subsequences_b[max_y]) {\n",
            "         .          cout << subsequence_b;\n",
            "         .      }\n",
            "        19  }   109,321  => branch_and_bound.cpp:__static_initialization_and_destruction_0(int, int) (1x)\n",
            "\n",
            "--------------------------------------------------------------------------------\n",
            "Ir \n",
            "--------------------------------------------------------------------------------\n",
            " 3  percentage of events annotated\n",
            "\n"
          ]
        }
      ]
    },
    {
      "cell_type": "markdown",
      "source": [
        "É possível observar que mesmo na estrategia *branch and bound* a criação das subsequências é o que deixa mais lenta a execução. Já os tempos do *branch and bound* são melhores para entradas menores e a medida que as entradas vão aumentando os tempos vão se aproximando dos tempos da busca exaustiva."
      ],
      "metadata": {
        "id": "42DFzOYQGpHC"
      }
    },
    {
      "cell_type": "code",
      "source": [
        "table = [['Tamanho das sequências', 'Tempo'], ['10x10', '0.01'], ['20x20', '0.30'], ['20x30', '99.47'], ['30x30', '197.41']]"
      ],
      "metadata": {
        "id": "h9rgkSp4HOQt"
      },
      "execution_count": 62,
      "outputs": []
    },
    {
      "cell_type": "code",
      "source": [
        "print(tabulate(table, headers='firstrow', tablefmt='grid'))"
      ],
      "metadata": {
        "colab": {
          "base_uri": "https://localhost:8080/"
        },
        "id": "jdQD1BaEHXIL",
        "outputId": "2b324a2b-f2ac-48eb-a59a-c014bf2acd19"
      },
      "execution_count": 63,
      "outputs": [
        {
          "output_type": "stream",
          "name": "stdout",
          "text": [
            "+--------------------------+---------+\n",
            "| Tamanho das sequências   |   Tempo |\n",
            "+==========================+=========+\n",
            "| 10x10                    |    0.01 |\n",
            "+--------------------------+---------+\n",
            "| 20x20                    |    0.3  |\n",
            "+--------------------------+---------+\n",
            "| 20x30                    |   99.47 |\n",
            "+--------------------------+---------+\n",
            "| 30x30                    |  197.41 |\n",
            "+--------------------------+---------+\n"
          ]
        }
      ]
    },
    {
      "cell_type": "markdown",
      "source": [
        "### Criando os gráficos de tamanhos de entrada para os tempos"
      ],
      "metadata": {
        "id": "yu41vbudO58R"
      }
    },
    {
      "cell_type": "code",
      "source": [
        "times_heuristic = [0.0043, 0.0117, 0.0159, 0.0284]\n",
        "length_heuristic = [\"200x200\", \"400x200\", \"400x400\", \"1000x1000\"]\n",
        "\n",
        "times_local_search = [0.6649, 1.5086, 1.3414, 5.8454]\n",
        "length_local_search = [\"200x200\", \"400x200\", \"400x400\", \"1000x1000\"]\n",
        "\n",
        "times_exhaustive_search_first_program = [0.05, 0.65, 100.36, 199.62]\n",
        "times_exhaustive_search_second_program = [0.01, 0.30, 99.47, 197.41]\n",
        "\n",
        "length_exhaustive_search = [\"10x10\", \"20x20\", \"20x30\", \"30x30\"]\n"
      ],
      "metadata": {
        "id": "XIO-JkujkbB8"
      },
      "execution_count": 15,
      "outputs": []
    },
    {
      "cell_type": "code",
      "source": [
        "import matplotlib.pyplot as plt\n",
        "fig, ax = plt.subplots()\n",
        "ax.plot(times_heuristic, length_heuristic, linewidth=2.0)\n",
        "plt.show()\n",
        "fig, ax = plt.subplots()\n",
        "ax.plot(times_local_search, length_local_search, linewidth=2.0)\n",
        "plt.show()\n",
        "fig, ax = plt.subplots()\n",
        "ax.plot(times_exhaustive_search_first_program, length_exhaustive_search, linewidth=2.0)\n",
        "ax.plot(times_exhaustive_search_second_program, length_exhaustive_search, linewidth=2.0)\n",
        "plt.show()\n"
      ],
      "metadata": {
        "colab": {
          "base_uri": "https://localhost:8080/",
          "height": 761
        },
        "id": "XRey8qqGehp5",
        "outputId": "68679f8c-6641-428a-fdde-b128fedad31f"
      },
      "execution_count": 16,
      "outputs": [
        {
          "output_type": "display_data",
          "data": {
            "text/plain": [
              "<Figure size 432x288 with 1 Axes>"
            ],
            "image/png": "[encoded data removed]"
          },
          "metadata": {
            "needs_background": "light"
          }
        },
        {
          "output_type": "display_data",
          "data": {
            "text/plain": [
              "<Figure size 432x288 with 1 Axes>"
            ],
            "image/png": "[encoded data removed]"
          },
          "metadata": {
            "needs_background": "light"
          }
        },
        {
          "output_type": "display_data",
          "data": {
            "text/plain": [
              "<Figure size 432x288 with 1 Axes>"
            ],
            "image/png": "[encoded data removed]"
          },
          "metadata": {
            "needs_background": "light"
          }
        }
      ]
    },
    {
      "cell_type": "markdown",
      "source": [
        " Nos gráficos acima podemos notar um aumento gradativo para os dois primeiros algoritmos que são a heurística e a busca local enquanto que na busca exaustiva tem um aumento repentino de mais de 100 vezes entre a entrada de 20x20 (tamanho das sequências) com a de 20x30. É possível notar também que a busca exaustiva leva um tempo bem maior do que os outros dois algoritmos para entradas menores."
      ],
      "metadata": {
        "id": "kXJOADuAjARR"
      }
    },
    {
      "cell_type": "markdown",
      "source": [
        "### Análise com várias entradas para heurística"
      ],
      "metadata": {
        "id": "eY1lVrdfYVi1"
      }
    },
    {
      "cell_type": "code",
      "source": [
        "import random\n",
        "import subprocess\n",
        "import time\n",
        "\n",
        "times_heuristic = []\n",
        "length_heuristic = []\n",
        "heuristic = []\n",
        "\n",
        "for i in range(0, 10):\n",
        "    n = random.randrange(1000) # tamanho da primeira sequência\n",
        "    m = random.randrange(1000) # tamanho da segunda sequência\n",
        "    file = 'dna.seq' # nome do arquivo a ser gerado\n",
        "    f = open(file, 'w')\n",
        "    seq=[str(n)+'\\n',\n",
        "        str(m)+'\\n',\n",
        "        ''.join(random.choices(['A','T','C','G','-'],k=n))+'\\n',\n",
        "        ''.join(random.choices(['A','T','C','G','-'],k=m))]\n",
        "    f.writelines(seq)\n",
        "    f.close()\n",
        "    \n",
        "    initial_time = time.time()\n",
        "\n",
        "    subprocess.run(\"./heuristica < dna.seq\", shell=True)\n",
        "\n",
        "    final_time = time.time()\n",
        "\n",
        "    difference_between_times = final_time - initial_time\n",
        "\n",
        "    heuristic.append({\"Time\": str(\"%.4f\" % difference_between_times), \"Length\": str(n) + \"x\" + str(m), \"Value\": n + m})\n"
      ],
      "metadata": {
        "id": "_Yx_aQYTjnrr"
      },
      "execution_count": 124,
      "outputs": []
    },
    {
      "cell_type": "code",
      "source": [
        "def bigger_value(element):\n",
        "    return element['Time']\n",
        "\n",
        "heuristic.sort(key=bigger_value)\n",
        "\n",
        "\n",
        "for i in heuristic:\n",
        "    times_heuristic.append(i['Time'])\n",
        "    length_heuristic.append(i['Length'])\n",
        "\n",
        "fig, ax = plt.subplots()\n",
        "ax.plot(times_heuristic, length_heuristic, 'r*')\n",
        "plt.show()"
      ],
      "metadata": {
        "colab": {
          "base_uri": "https://localhost:8080/",
          "height": 265
        },
        "id": "aUMLGUQ6SfMq",
        "outputId": "fdc67860-06da-40e5-ff36-31a25c919b24"
      },
      "execution_count": 125,
      "outputs": [
        {
          "output_type": "display_data",
          "data": {
            "text/plain": [
              "<Figure size 432x288 with 1 Axes>"
            ],
            "image/png": "[encoded data removed]"
          },
          "metadata": {
            "needs_background": "light"
          }
        }
      ]
    },
    {
      "cell_type": "markdown",
      "source": [
        "É possível observar no gráfico acima que para entradas maiores o programa demora mais para executar mas mesmo assim consegue rodar em tempos pequenos."
      ],
      "metadata": {
        "id": "T30O7tQPYkst"
      }
    },
    {
      "cell_type": "markdown",
      "source": [
        "### Análise com várias entradas para busca local"
      ],
      "metadata": {
        "id": "mEdmOqrzYuPG"
      }
    },
    {
      "cell_type": "code",
      "source": [
        "times_local_search = []\n",
        "length_local_search = []\n",
        "local_search = []\n",
        "\n",
        "for i in range(0, 10):\n",
        "    n = random.randrange(1000) # tamanho da primeira sequência\n",
        "    m = random.randrange(1000) # tamanho da segunda sequência\n",
        "    file = 'dna.seq' # nome do arquivo a ser gerado\n",
        "    f = open(file, 'w')\n",
        "    seq=[str(n)+'\\n',\n",
        "        str(m)+'\\n',\n",
        "        ''.join(random.choices(['A','T','C','G','-'],k=n))+'\\n',\n",
        "        ''.join(random.choices(['A','T','C','G','-'],k=m))]\n",
        "    f.writelines(seq)\n",
        "    f.close()\n",
        "\n",
        "    initial_time = time.time()\n",
        "\n",
        "    subprocess.run(\"./busca_local < dna.seq\", shell=True)\n",
        "\n",
        "    final_time = time.time()\n",
        "\n",
        "    difference_between_times = final_time - initial_time\n",
        "\n",
        "    local_search.append({\"Time\": str(\"%.3f\" % difference_between_times), \"Length\": str(n) + \"x\" + str(m), \"Value\": n + m})\n"
      ],
      "metadata": {
        "id": "DftP9sgGYieF"
      },
      "execution_count": 127,
      "outputs": []
    },
    {
      "cell_type": "code",
      "source": [
        "local_search.sort(key=bigger_value)\n",
        "\n",
        "for i in local_search:\n",
        "    times_local_search.append(i['Time'])\n",
        "    length_local_search.append(i['Length'])\n",
        "    \n",
        "fig, ax = plt.subplots()\n",
        "ax.plot(times_local_search, length_local_search, 'r*')\n",
        "plt.show()"
      ],
      "metadata": {
        "colab": {
          "base_uri": "https://localhost:8080/",
          "height": 265
        },
        "id": "MjeJ__0gZOkA",
        "outputId": "840fcf04-f000-4292-dda1-7254c2355dc2"
      },
      "execution_count": 128,
      "outputs": [
        {
          "output_type": "display_data",
          "data": {
            "text/plain": [
              "<Figure size 432x288 with 1 Axes>"
            ],
            "image/png": "[encoded data removed]"
          },
          "metadata": {
            "needs_background": "light"
          }
        }
      ]
    },
    {
      "cell_type": "markdown",
      "source": [
        "É possível observar que a estratégia de busca local segue a mesma tendência da heurística quanto maior a entrada maior o tempo de execução."
      ],
      "metadata": {
        "id": "CQABcvQAd9iA"
      }
    },
    {
      "cell_type": "code",
      "source": [
        "times_exhaustive_search_first_program = []\n",
        "length_exhaustive_search = []\n",
        "exaustive_search = []\n",
        "\n",
        "for i in range(0, 10):\n",
        "    n = random.randrange(20) # tamanho da primeira sequência\n",
        "    m = random.randrange(20) # tamanho da segunda sequência\n",
        "    file = 'dna.seq' # nome do arquivo a ser gerado\n",
        "    f = open(file, 'w')\n",
        "    seq=[str(n)+'\\n',\n",
        "        str(m)+'\\n',\n",
        "        ''.join(random.choices(['A','T','C','G','-'],k=n))+'\\n',\n",
        "        ''.join(random.choices(['A','T','C','G','-'],k=m))]\n",
        "    f.writelines(seq)\n",
        "    f.close()\n",
        "    \n",
        "    initial_time = time.time()\n",
        "\n",
        "    subprocess.run(\"./busca_exaustiva < dna.seq\", shell=True)\n",
        "\n",
        "    final_time = time.time()\n",
        "\n",
        "    difference_between_times = final_time - initial_time\n",
        "\n",
        "    exaustive_search.append({\"Time\": str(\"%.3f\" % difference_between_times), \"Length\": str(n) + \"x\" + str(m), \"Value\": n + m})"
      ],
      "metadata": {
        "id": "DM5NfX1VZQ0f"
      },
      "execution_count": 131,
      "outputs": []
    },
    {
      "cell_type": "code",
      "source": [
        "exaustive_search.sort(key=bigger_value)\n",
        "\n",
        "for i in exaustive_search:\n",
        "    times_exhaustive_search_first_program.append(i['Time'])\n",
        "    length_exhaustive_search.append(i['Length'])\n",
        "    \n",
        "fig, ax = plt.subplots()\n",
        "ax.plot(times_exhaustive_search_first_program, length_exhaustive_search, 'r*')\n",
        "plt.show()"
      ],
      "metadata": {
        "colab": {
          "base_uri": "https://localhost:8080/",
          "height": 265
        },
        "id": "pYeC8VK3eXMz",
        "outputId": "7dab66d4-791c-466d-e7c5-9c92ec25211f"
      },
      "execution_count": 132,
      "outputs": [
        {
          "output_type": "display_data",
          "data": {
            "text/plain": [
              "<Figure size 432x288 with 1 Axes>"
            ],
            "image/png": "[encoded data removed]"
          },
          "metadata": {
            "needs_background": "light"
          }
        }
      ]
    },
    {
      "cell_type": "markdown",
      "source": [
        "A busca exaustiva tem o mesmo comportamento dos outros dois códigos."
      ],
      "metadata": {
        "id": "V9R8XNu2jNzs"
      }
    }
  ]
}