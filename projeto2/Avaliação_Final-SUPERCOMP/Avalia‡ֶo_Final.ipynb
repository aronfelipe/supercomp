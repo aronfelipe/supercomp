{
  "nbformat": 4,
  "nbformat_minor": 0,
  "metadata": {
    "colab": {
      "name": "Avaliação Final.ipynb",
      "provenance": [],
      "collapsed_sections": []
    },
    "kernelspec": {
      "name": "python3",
      "display_name": "Python 3"
    },
    "language_info": {
      "name": "python"
    }
  },
  "cells": [
    {
      "cell_type": "markdown",
      "source": [
        "**SUPERCOMPUTAÇÃO - AVALIAÇÃO FINAL - 13/06/2022**"
      ],
      "metadata": {
        "id": "xu9BygxRr3gC"
      }
    },
    {
      "cell_type": "markdown",
      "source": [
        "**NOME:** "
      ],
      "metadata": {
        "id": "0sz31r5ksA7r"
      }
    },
    {
      "cell_type": "markdown",
      "source": [
        "**QUESTÃO 1.** Resolva a questão 1 no espaço de código abaixo... você pode duplicá-lo quantas vezes forem necessárias. "
      ],
      "metadata": {
        "id": "GB4gMcQQsLlL"
      }
    },
    {
      "cell_type": "code",
      "source": [
        "#espaço para codificação"
      ],
      "metadata": {
        "id": "89kuR766sduK"
      },
      "execution_count": null,
      "outputs": []
    },
    {
      "cell_type": "markdown",
      "source": [
        "**FEEDBACK QUESTÃO 1**: Não preencher este campo. Ele será preenchido pelo seu professor durante a correção. "
      ],
      "metadata": {
        "id": "1_17lWcdsiJ6"
      }
    },
    {
      "cell_type": "markdown",
      "source": [
        "**QUESTÃO 2.** Resolva a questão 2 no espaço de código abaixo... você pode duplicá-lo quantas vezes forem necessárias. "
      ],
      "metadata": {
        "id": "TNu1a_Vws0_w"
      }
    },
    {
      "cell_type": "code",
      "source": [
        "#espaço para codificação"
      ],
      "metadata": {
        "id": "XCq4RRChs8Qd"
      },
      "execution_count": null,
      "outputs": []
    },
    {
      "cell_type": "markdown",
      "source": [
        "**FEEDBACK QUESTÃO 2**: Não preencher este campo. Ele será preenchido pelo seu professor durante a correção. "
      ],
      "metadata": {
        "id": "lJUiljYps_cX"
      }
    },
    {
      "cell_type": "markdown",
      "source": [
        "**QUESTÃO 3.** Resolva a questão 3 no espaço de código abaixo... você pode duplicá-lo quantas vezes forem necessárias. "
      ],
      "metadata": {
        "id": "o6hQRlUntL1m"
      }
    },
    {
      "cell_type": "code",
      "source": [
        "#espaço para codificação"
      ],
      "metadata": {
        "id": "sIdU43kNtSie"
      },
      "execution_count": null,
      "outputs": []
    },
    {
      "cell_type": "markdown",
      "source": [
        "**FEEDBACK QUESTÃO 3**: Não preencher este campo. Ele será preenchido pelo seu professor durante a correção. "
      ],
      "metadata": {
        "id": "2oFC1-d1tWNF"
      }
    },
    {
      "cell_type": "markdown",
      "source": [
        "**QUESTÃO 4.** Resolva a questão 4 no espaço de código abaixo... você pode duplicá-lo quantas vezes forem necessárias. "
      ],
      "metadata": {
        "id": "15XSalBetasI"
      }
    },
    {
      "cell_type": "code",
      "source": [
        "#espaço para codificação"
      ],
      "metadata": {
        "id": "f5sBNngFtfUG"
      },
      "execution_count": null,
      "outputs": []
    },
    {
      "cell_type": "markdown",
      "source": [
        "**FEEDBACK QUESTÃO 4:** Não preencher este campo. Ele será preenchido pelo seu professor durante a correção."
      ],
      "metadata": {
        "id": "Mnpn0g_5tisu"
      }
    }
  ]
}