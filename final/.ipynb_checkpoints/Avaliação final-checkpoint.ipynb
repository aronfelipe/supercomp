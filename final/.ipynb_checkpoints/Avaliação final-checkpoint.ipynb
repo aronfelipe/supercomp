{
 "cells": [
  {
   "cell_type": "markdown",
   "metadata": {
    "id": "xu9BygxRr3gC"
   },
   "source": [
    "**SUPERCOMPUTAÇÃO - AVALIAÇÃO FINAL - 13/06/2022**"
   ]
  },
  {
   "cell_type": "markdown",
   "metadata": {
    "id": "0sz31r5ksA7r"
   },
   "source": [
    "**NOME:** "
   ]
  },
  {
   "cell_type": "markdown",
   "metadata": {
    "id": "GB4gMcQQsLlL"
   },
   "source": [
    "**QUESTÃO 1.** Resolva a questão 1 no espaço de código abaixo... você pode duplicá-lo quantas vezes forem necessárias. "
   ]
  },
  {
   "cell_type": "code",
   "execution_count": null,
   "metadata": {
    "id": "89kuR766sduK"
   },
   "outputs": [],
   "source": [
    "#include <iostream>\n",
    "#include <vector>\n",
    "#include <algorithm>\n",
    "#include <random>\n",
    "#include <cstdlib>\n",
    "#include <cmath>\n",
    "#include <omp.h>\n",
    "\n",
    "using namespace std;\n",
    "\n",
    "int main() {\n",
    "\n",
    "    int n = 1000;\n",
    "    vector<int> vector_of_numbers(n);\n",
    "\n",
    "    for (int i = 0; i < n; i++) {\n",
    "        random_device random;\n",
    "        mt19937 generator(random());\n",
    "        uniform_int_distribution<int> distribution(1,999);\n",
    "        vector_of_numbers[i] = distribution(generator);\n",
    "    }\n",
    "\n",
    "    int sum = 0;\n",
    "    int average = 0;\n",
    "    int standard_deviation = 0;\n",
    "\n",
    "    #pragma omp parallel for reduction(+:sum) num_threads(2)\n",
    "    for (int i = 0; i < n; i++) {\n",
    "        sum+= vector_of_numbers[i];\n",
    "    }\n",
    "\n",
    "    average = sum / n;\n",
    "\n",
    "    cout << average << endl;\n",
    "\n",
    "    #pragma omp parallel for reduction(+:standard_deviation) num_threads(2)\n",
    "    for (int i = 0; i < n; i++) {\n",
    "        standard_deviation+= pow(vector_of_numbers[i] - average, 2);\n",
    "    }\n",
    "\n",
    "    standard_deviation = standard_deviation / n;\n",
    "    standard_deviation = sqrt(standard_deviation);\n",
    "    cout << standard_deviation;\n",
    "\n",
    "}"
   ]
  },
  {
   "cell_type": "code",
   "execution_count": null,
   "metadata": {},
   "outputs": [],
   "source": [
    "standard_deviation_2_threads = [\"standard_deviation\": [249, 293, 281, 289, 0], \"time\": [0.0051, 0.0063, 0.0112, 0.0442, 0.2539], \"in\":[10, 100, 1000, 10000, 100000]\n",
    "standard_deviation_3_threads = [\"standard_deviation\": [291, 315, 286, 288, 146], \"time\": [0.0067, 0.0037, 0.0110, 0.0411, 0.2527], \"in\":[10, 100, 1000, 10000, 100000]\n",
    "standard_deviation_5_threads = [\"standard_deviation\": [213, 273, 295, 288, 0], \"time\": [0.0065, 0.0070, 0.01028, 0.0424, 0.25842], \"in\":[10, 100, 1000, 10000, 100000]\n",
    "standard_deviation_7_threads = [\"standard_deviation\": [250, 280, 292, 288, 0], \"time\": [0.0058, 0.0060, 0.0116, 0.03566, 0.2539], \"in\":[10, 100, 1000, 10000, 100000]\n",
    "standard_deviation_9_threads = [\"standard_deviation\": [250, 280, 292, 288, 0], \"time\": [0.0058, 0.0060, 0.0116, 0.03566, 0.2539], \"in\":[10, 100, 1000, 10000, 100000]\n",
    "\n",
    "\n",
    "\n",
    "\n"
   ]
  },
  {
   "cell_type": "markdown",
   "metadata": {
    "id": "1_17lWcdsiJ6"
   },
   "source": [
    "**FEEDBACK QUESTÃO 1**: Não preencher este campo. Ele será preenchido pelo seu professor durante a correção. "
   ]
  },
  {
   "cell_type": "markdown",
   "metadata": {
    "id": "TNu1a_Vws0_w"
   },
   "source": [
    "**QUESTÃO 2.** Resolva a questão 2 no espaço de código abaixo... você pode duplicá-lo quantas vezes forem necessárias. "
   ]
  },
  {
   "cell_type": "code",
   "execution_count": null,
   "metadata": {
    "id": "XCq4RRChs8Qd"
   },
   "outputs": [],
   "source": [
    "#espaço para codificação"
   ]
  },
  {
   "cell_type": "markdown",
   "metadata": {
    "id": "lJUiljYps_cX"
   },
   "source": [
    "**FEEDBACK QUESTÃO 2**: Não preencher este campo. Ele será preenchido pelo seu professor durante a correção. "
   ]
  },
  {
   "cell_type": "markdown",
   "metadata": {
    "id": "o6hQRlUntL1m"
   },
   "source": [
    "**QUESTÃO 3.** Resolva a questão 3 no espaço de código abaixo... você pode duplicá-lo quantas vezes forem necessárias. "
   ]
  },
  {
   "cell_type": "code",
   "execution_count": null,
   "metadata": {
    "id": "sIdU43kNtSie"
   },
   "outputs": [],
   "source": [
    "#espaço para codificação"
   ]
  },
  {
   "cell_type": "markdown",
   "metadata": {
    "id": "2oFC1-d1tWNF"
   },
   "source": [
    "**FEEDBACK QUESTÃO 3**: Não preencher este campo. Ele será preenchido pelo seu professor durante a correção. "
   ]
  },
  {
   "cell_type": "markdown",
   "metadata": {
    "id": "15XSalBetasI"
   },
   "source": [
    "**QUESTÃO 4.** Resolva a questão 4 no espaço de código abaixo... você pode duplicá-lo quantas vezes forem necessárias. "
   ]
  },
  {
   "cell_type": "code",
   "execution_count": null,
   "metadata": {
    "id": "f5sBNngFtfUG"
   },
   "outputs": [],
   "source": [
    "#espaço para codificação"
   ]
  },
  {
   "cell_type": "markdown",
   "metadata": {
    "id": "Mnpn0g_5tisu"
   },
   "source": [
    "**FEEDBACK QUESTÃO 4:** Não preencher este campo. Ele será preenchido pelo seu professor durante a correção."
   ]
  }
 ],
 "metadata": {
  "colab": {
   "collapsed_sections": [],
   "name": "Avaliação Final.ipynb",
   "provenance": []
  },
  "kernelspec": {
   "display_name": "Python 3 (ipykernel)",
   "language": "python",
   "name": "python3"
  },
  "language_info": {
   "codemirror_mode": {
    "name": "ipython",
    "version": 3
   },
   "file_extension": ".py",
   "mimetype": "text/x-python",
   "name": "python",
   "nbconvert_exporter": "python",
   "pygments_lexer": "ipython3",
   "version": "3.9.12"
  }
 },
 "nbformat": 4,
 "nbformat_minor": 1
}
