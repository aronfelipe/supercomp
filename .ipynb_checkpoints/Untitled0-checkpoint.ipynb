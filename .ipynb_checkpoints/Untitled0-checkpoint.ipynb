{
 "cells": [
  {
   "cell_type": "code",
   "execution_count": 22,
   "metadata": {
    "colab": {
     "base_uri": "https://localhost:8080/"
    },
    "id": "pbN1OrG6O3El",
    "outputId": "ee8bd159-cfe4-4bb0-e308-0188a8e1f507"
   },
   "outputs": [
    {
     "name": "stdout",
     "output_type": "stream",
     "text": [
      "Overwriting main.cu\n"
     ]
    }
   ],
   "source": [
    "%%writefile main.cu\n",
    "\n",
    "#include <thrust/random.h>\n",
    "#include <thrust/device_vector.h>\n",
    "#include <thrust/iterator/counting_iterator.h>\n",
    "#include <thrust/transform.h>\n",
    "#include <iostream>\n",
    "#include <vector>\n",
    "#include <thrust/transform_reduce.h>\n",
    "#include <thrust/fill.h>\n",
    "\n",
    "using namespace std;\n",
    "\n",
    "struct calculate_pi\n",
    "{\n",
    "    __host__ __device__\n",
    "    double operator()(const int& a) {\n",
    "        thrust::default_random_engine eng(a);\n",
    "        thrust::uniform_real_distribution<double> d(0.0, 1.0);\n",
    "        double x, y;\n",
    "      \n",
    "        x = d(eng);\n",
    "        y = d(eng);\n",
    "        printf(\"%d \\n\", x*x + y*y);\n",
    "\n",
    "        if (x*x + y*y <= 1) {\n",
    "            printf(\"PASSOU\");\n",
    "            return 1;\n",
    "\n",
    "        } else {\n",
    "            //printf(\"PASSOU\");\n",
    "            return 0;\n",
    "        }\n",
    "    }\n",
    "};\n",
    "\n",
    "int main() {\n",
    "\n",
    "    long n = 100000000L;\n",
    "    long sum = 0;\n",
    "\n",
    "    calculate_pi unary_op;\n",
    "    thrust::plus<double> binary_op;\n",
    "    thrust::device_vector<double> vec (n);\n",
    "    float init = 0;\n",
    "\n",
    "    // thrust::fill(vec.begin(), vec.end(), 0);\n",
    "\n",
    "    sum = thrust::transform_reduce(vec.begin(), vec.end(), unary_op, init, binary_op);\n",
    "    // thrust::transform(vec.begin(), vec.end(), vec.begin(),  calculate_pi());\n",
    "\n",
    "    // for (int i = 0; i < n; i++) {\n",
    "    //     cout << vec[i] << endl;\n",
    "    // }\n",
    "\n",
    "    // sum = thrust::reduce(vec.begin(), vec.end());\n",
    "\n",
    "    cout << sum;\n",
    "\n",
    "    double pi = 4.0 * sum / n;\n",
    "\n",
    "    cout << sum << endl;\n",
    "\n",
    "    cout << pi;\n",
    "\n",
    "    return 0;\n",
    "}"
   ]
  },
  {
   "cell_type": "code",
   "execution_count": 23,
   "metadata": {
    "colab": {
     "base_uri": "https://localhost:8080/"
    },
    "id": "M5Yq4895O86f",
    "outputId": "335e7e87-d87f-481e-ee6d-c7eda8826ee2"
   },
   "outputs": [
    {
     "name": "stdout",
     "output_type": "stream",
     "text": [
      "main.cu(23): warning: argument is incompatible with corresponding format string conversion\n",
      "\n",
      "\u001b[01m\u001b[Kmain.cu:\u001b[m\u001b[K In member function ‘\u001b[01m\u001b[Kdouble calculate_pi::operator()(const int&)\u001b[m\u001b[K’:\n",
      "\u001b[01m\u001b[Kmain.cu:23:34:\u001b[m\u001b[K \u001b[01;35m\u001b[Kwarning: \u001b[m\u001b[Kformat ‘\u001b[01m\u001b[K%d\u001b[m\u001b[K’ expects argument of type ‘\u001b[01m\u001b[Kint\u001b[m\u001b[K’, but argument 2 has type ‘\u001b[01m\u001b[Kdouble\u001b[m\u001b[K’ [\u001b[01;35m\u001b[K-Wformat=\u001b[m\u001b[K]\n",
      "         printf(\"\u001b[32m\u001b[K%d \\n\", x*x + y*y\u001b[m\u001b[K\u001b[01;35m\u001b[K)\u001b[m\u001b[K;\n",
      "                 \u001b[32m\u001b[K~~~~~~~~~~~~~~~~~\u001b[m\u001b[K\u001b[01;35m\u001b[K^\u001b[m\u001b[K\n"
     ]
    }
   ],
   "source": [
    "!nvcc -Wno-deprecated-gpu-targets -arch=sm_37 -std=c++14 -o main main.cu"
   ]
  },
  {
   "cell_type": "code",
   "execution_count": 51,
   "metadata": {
    "colab": {
     "base_uri": "https://localhost:8080/"
    },
    "id": "ORaJUOzNPR-j",
    "outputId": "28426708-725f-4bd3-eba8-53dcb25e1113"
   },
   "outputs": [
    {
     "name": "stdout",
     "output_type": "stream",
     "text": [
      "Overwriting main.cu\n"
     ]
    }
   ],
   "source": [
    "%%writefile main.cu\n",
    "\n",
    "#include <iostream>\n",
    "#include <thrust/random.h>\n",
    "#include <thrust/device_vector.h>\n",
    "#include <thrust/iterator/counting_iterator.h>\n",
    "#include <thrust/transform.h>\n",
    "#include <thrust/transform_reduce.h>\n",
    "\n",
    "using namespace std;\n",
    "\n",
    "struct calculate_pi\n",
    "{\n",
    "    __host__ __device__\n",
    "    double operator()(const int& x) {\n",
    "        thrust::default_random_engine eng(x);\n",
    "        thrust::uniform_real_distribution<double> d(0.0, 1.0);\n",
    "\n",
    "        double x_ = d(eng);\n",
    "        double y = d(eng);\n",
    "        \n",
    "        if (x_*x_ + y*y <= 1) {\n",
    "            return 1;\n",
    "        } else {\n",
    "            return 0;\n",
    "        }\n",
    "    }\n",
    "};\n",
    "\n",
    "int main() {\n",
    "\n",
    "    int n = 10000000;\n",
    "\n",
    "    calculate_pi unary_op;\n",
    "    thrust::device_vector<double> vec (n);\n",
    "    thrust::plus<double> binary_op;\n",
    "    float init = 0;\n",
    "\n",
    "    int sum = thrust::transform_reduce(thrust::make_counting_iterator(0), thrust::make_counting_iterator(n), unary_op, init, binary_op);\n",
    "\n",
    "    double pi = 4.0 * sum / n;\n",
    "\n",
    "    cout << pi;\n",
    "\n",
    "    return 0;\n",
    "}"
   ]
  },
  {
   "cell_type": "code",
   "execution_count": 52,
   "metadata": {
    "id": "3UBTzufaRqY6"
   },
   "outputs": [],
   "source": [
    "!nvcc -Wno-deprecated-gpu-targets -arch=sm_37 -std=c++14 -o main main.cu"
   ]
  },
  {
   "cell_type": "code",
   "execution_count": 53,
   "metadata": {
    "colab": {
     "base_uri": "https://localhost:8080/"
    },
    "id": "6fCRRP2TRssv",
    "outputId": "bbfc98e2-c57e-438a-9840-1ace0a48ff32"
   },
   "outputs": [
    {
     "name": "stdout",
     "output_type": "stream",
     "text": [
      "3.14301"
     ]
    }
   ],
   "source": [
    "!./main"
   ]
  },
  {
   "cell_type": "code",
   "execution_count": null,
   "metadata": {
    "id": "j7JXcdxHRvWJ"
   },
   "outputs": [],
   "source": []
  }
 ],
 "metadata": {
  "accelerator": "GPU",
  "colab": {
   "collapsed_sections": [],
   "name": "Untitled0.ipynb",
   "provenance": []
  },
  "gpuClass": "standard",
  "kernelspec": {
   "display_name": "Python 3 (ipykernel)",
   "language": "python",
   "name": "python3"
  },
  "language_info": {
   "codemirror_mode": {
    "name": "ipython",
    "version": 3
   },
   "file_extension": ".py",
   "mimetype": "text/x-python",
   "name": "python",
   "nbconvert_exporter": "python",
   "pygments_lexer": "ipython3",
   "version": "3.9.12"
  }
 },
 "nbformat": 4,
 "nbformat_minor": 1
}
